{
 "cells": [
  {
   "cell_type": "markdown",
   "metadata": {
    "id": "6aClXrSFnVfb"
   },
   "source": [
    "# Final Imputation"
   ]
  },
  {
   "cell_type": "code",
   "execution_count": 35,
   "metadata": {
    "id": "XnCzdNfNmqEJ"
   },
   "outputs": [],
   "source": [
    "import pandas as pd\n",
    "import glob\n",
    "import re\n",
    "#pd.set_option('display.max_columns',100)\n",
    "pd.set_option('display.max_colwidth',150)\n",
    "pd.options.display.float_format='{:,.2f}'.format"
   ]
  },
  {
   "cell_type": "code",
   "execution_count": 2,
   "metadata": {
    "id": "ZuwKsFq9mqEQ"
   },
   "outputs": [],
   "source": [
    "import seaborn as sb\n",
    "import matplotlib.pyplot as plt"
   ]
  },
  {
   "cell_type": "code",
   "execution_count": 3,
   "metadata": {
    "id": "J2NTlugCmqES"
   },
   "outputs": [],
   "source": [
    "import warnings\n",
    "warnings.filterwarnings(\"ignore\")\n",
    "from sklearn.ensemble import RandomForestRegressor\n",
    "from sklearn.experimental import enable_iterative_imputer\n",
    "from sklearn.impute import KNNImputer\n",
    "import numpy as np"
   ]
  },
  {
   "cell_type": "code",
   "execution_count": 4,
   "metadata": {
    "id": "2vSNMT9bmqEV"
   },
   "outputs": [],
   "source": [
    "final_df=pd.read_csv(\"final_data_without_imputation.csv\")"
   ]
  },
  {
   "cell_type": "markdown",
   "metadata": {
    "id": "WEWqOpsNmqEW"
   },
   "source": [
    "### percentage of missing value "
   ]
  },
  {
   "cell_type": "code",
   "execution_count": 5,
   "metadata": {
    "colab": {
     "base_uri": "https://localhost:8080/"
    },
    "executionInfo": {
     "elapsed": 589,
     "status": "ok",
     "timestamp": 1631315028014,
     "user": {
      "displayName": "Aiad Mesak 201-700-790",
      "photoUrl": "https://lh3.googleusercontent.com/a-/AOh14GjaUxp1HutrdgtSdoJDgdR5AwGBVhHZZISkF0L9Xg=s64",
      "userId": "12349232382679184450"
     },
     "user_tz": -120
    },
    "id": "Ug_A9jbkmqEX",
    "outputId": "5a654173-0aca-40ae-b4d4-f80c08a008e0"
   },
   "outputs": [],
   "source": [
    "#Storinf the persentage of the missing values in a dectionary\n",
    "feat=dict((final_df.isnull().mean()*100))\n"
   ]
  },
  {
   "cell_type": "code",
   "execution_count": 9,
   "metadata": {
    "id": "up0H8TVqmqEZ"
   },
   "outputs": [],
   "source": [
    "#Features have more than 80% of missing Values\n",
    "feature_have_lessthan_80={k: v for k, v in feat.items() if v<80}"
   ]
  },
  {
   "cell_type": "code",
   "execution_count": 11,
   "metadata": {
    "id": "UFvoZvMAmqEb"
   },
   "outputs": [],
   "source": [
    "# Take only the featrures that has less than 80% and store them in a list\n",
    "final_features=list(feature_have_lessthan_80.keys())"
   ]
  },
  {
   "cell_type": "code",
   "execution_count": 12,
   "metadata": {
    "id": "qWoGgZFUmqEc"
   },
   "outputs": [],
   "source": [
    "feature_have_lessthan_50=list({k: v for k, v in feature_have_lessthan_80.items() if (v<51 and v>5)}.keys())\n",
    "feature_have_Higherthan_50=list({k: v for k, v in feature_have_lessthan_80.items() if v>=51}.keys())"
   ]
  },
  {
   "cell_type": "code",
   "execution_count": 13,
   "metadata": {
    "id": "KZdHh40YmqEd"
   },
   "outputs": [],
   "source": [
    "nearly_cleaned=list({k: v for k, v in feature_have_lessthan_80.items() if v<5}.keys())"
   ]
  },
  {
   "cell_type": "code",
   "execution_count": 14,
   "metadata": {
    "colab": {
     "base_uri": "https://localhost:8080/"
    },
    "executionInfo": {
     "elapsed": 1216,
     "status": "ok",
     "timestamp": 1631315066308,
     "user": {
      "displayName": "Aiad Mesak 201-700-790",
      "photoUrl": "https://lh3.googleusercontent.com/a-/AOh14GjaUxp1HutrdgtSdoJDgdR5AwGBVhHZZISkF0L9Xg=s64",
      "userId": "12349232382679184450"
     },
     "user_tz": -120
    },
    "id": "M08CkhnBmqEd",
    "outputId": "291c5fee-cba3-4dbe-f782-ed44181e11e5"
   },
   "outputs": [
    {
     "data": {
      "text/plain": [
       "(61, 22)"
      ]
     },
     "execution_count": 14,
     "metadata": {},
     "output_type": "execute_result"
    }
   ],
   "source": [
    "final_data_to_be_imputed=final_df[final_features]\n",
    "final_data_to_be_imputed.shape"
   ]
  },
  {
   "cell_type": "code",
   "execution_count": 15,
   "metadata": {
    "colab": {
     "base_uri": "https://localhost:8080/",
     "height": 224
    },
    "executionInfo": {
     "elapsed": 1250,
     "status": "ok",
     "timestamp": 1631315072027,
     "user": {
      "displayName": "Aiad Mesak 201-700-790",
      "photoUrl": "https://lh3.googleusercontent.com/a-/AOh14GjaUxp1HutrdgtSdoJDgdR5AwGBVhHZZISkF0L9Xg=s64",
      "userId": "12349232382679184450"
     },
     "user_tz": -120
    },
    "id": "XR1y_EO_mqEf",
    "outputId": "6757acb6-c089-446c-cc02-b8f2d8e57338",
    "scrolled": false
   },
   "outputs": [
    {
     "data": {
      "text/html": [
       "<div>\n",
       "<style scoped>\n",
       "    .dataframe tbody tr th:only-of-type {\n",
       "        vertical-align: middle;\n",
       "    }\n",
       "\n",
       "    .dataframe tbody tr th {\n",
       "        vertical-align: top;\n",
       "    }\n",
       "\n",
       "    .dataframe thead th {\n",
       "        text-align: right;\n",
       "    }\n",
       "</style>\n",
       "<table border=\"1\" class=\"dataframe\">\n",
       "  <thead>\n",
       "    <tr style=\"text-align: right;\">\n",
       "      <th></th>\n",
       "      <th>year</th>\n",
       "      <th>population_total</th>\n",
       "      <th>agricultural_land_sq_km</th>\n",
       "      <th>animals_production_head</th>\n",
       "      <th>cereal_yield_kg_per_hectare</th>\n",
       "      <th>co2_emissions_kt</th>\n",
       "      <th>land_area_equipped_for_irrigation_ha</th>\n",
       "      <th>water_use_efficiency_united_states_dollars_per_cubic_meter</th>\n",
       "      <th>level_of_water_stress_freshwater_withdrawal_as_a_proportion_of_available_freshwater_resources</th>\n",
       "      <th>methane_emissions_kt_of_co2_equivalent</th>\n",
       "      <th>...</th>\n",
       "      <th>potential_evapotranspiration_annual_kg_m2</th>\n",
       "      <th>freshwater_abstracted_fresh_surface_water_abstracted_fresh_groundwater_abstracted_mio_m3_y</th>\n",
       "      <th>_agriculture_forestry_and_fishing_isic_01_03_mio_m3_y</th>\n",
       "      <th>_manufacturing_isic_10_33_mio_m3_y</th>\n",
       "      <th>rainfall_mm</th>\n",
       "      <th>mintemp_c</th>\n",
       "      <th>maxtemp_c</th>\n",
       "      <th>cereal_crops_production_ton</th>\n",
       "      <th>cereal_crops_yield_hg_ha</th>\n",
       "      <th>harvested_area_of_cereal_crops_ha</th>\n",
       "    </tr>\n",
       "  </thead>\n",
       "  <tbody>\n",
       "    <tr>\n",
       "      <th>0</th>\n",
       "      <td>1960</td>\n",
       "      <td>26,632,891.00</td>\n",
       "      <td>NaN</td>\n",
       "      <td>NaN</td>\n",
       "      <td>NaN</td>\n",
       "      <td>16,054.13</td>\n",
       "      <td>NaN</td>\n",
       "      <td>NaN</td>\n",
       "      <td>NaN</td>\n",
       "      <td>NaN</td>\n",
       "      <td>...</td>\n",
       "      <td>NaN</td>\n",
       "      <td>NaN</td>\n",
       "      <td>NaN</td>\n",
       "      <td>NaN</td>\n",
       "      <td>NaN</td>\n",
       "      <td>NaN</td>\n",
       "      <td>NaN</td>\n",
       "      <td>NaN</td>\n",
       "      <td>NaN</td>\n",
       "      <td>NaN</td>\n",
       "    </tr>\n",
       "    <tr>\n",
       "      <th>1</th>\n",
       "      <td>1961</td>\n",
       "      <td>27,366,239.00</td>\n",
       "      <td>25,680.00</td>\n",
       "      <td>4,868,000.00</td>\n",
       "      <td>2,905.70</td>\n",
       "      <td>17,088.22</td>\n",
       "      <td>2,568.00</td>\n",
       "      <td>NaN</td>\n",
       "      <td>NaN</td>\n",
       "      <td>NaN</td>\n",
       "      <td>...</td>\n",
       "      <td>NaN</td>\n",
       "      <td>NaN</td>\n",
       "      <td>NaN</td>\n",
       "      <td>NaN</td>\n",
       "      <td>NaN</td>\n",
       "      <td>NaN</td>\n",
       "      <td>NaN</td>\n",
       "      <td>5,770,680.00</td>\n",
       "      <td>160,804.00</td>\n",
       "      <td>1,723,824.00</td>\n",
       "    </tr>\n",
       "    <tr>\n",
       "      <th>2</th>\n",
       "      <td>1962</td>\n",
       "      <td>28,112,258.00</td>\n",
       "      <td>25,050.00</td>\n",
       "      <td>4,997,000.00</td>\n",
       "      <td>3,259.60</td>\n",
       "      <td>18,595.36</td>\n",
       "      <td>2,505.00</td>\n",
       "      <td>NaN</td>\n",
       "      <td>NaN</td>\n",
       "      <td>NaN</td>\n",
       "      <td>...</td>\n",
       "      <td>NaN</td>\n",
       "      <td>NaN</td>\n",
       "      <td>NaN</td>\n",
       "      <td>NaN</td>\n",
       "      <td>NaN</td>\n",
       "      <td>NaN</td>\n",
       "      <td>NaN</td>\n",
       "      <td>7,799,279.00</td>\n",
       "      <td>171,597.00</td>\n",
       "      <td>1,975,708.00</td>\n",
       "    </tr>\n",
       "    <tr>\n",
       "      <th>3</th>\n",
       "      <td>1963</td>\n",
       "      <td>28,871,383.00</td>\n",
       "      <td>24,900.00</td>\n",
       "      <td>5,134,000.00</td>\n",
       "      <td>3,312.80</td>\n",
       "      <td>21,554.63</td>\n",
       "      <td>2,490.00</td>\n",
       "      <td>NaN</td>\n",
       "      <td>NaN</td>\n",
       "      <td>NaN</td>\n",
       "      <td>...</td>\n",
       "      <td>NaN</td>\n",
       "      <td>NaN</td>\n",
       "      <td>NaN</td>\n",
       "      <td>NaN</td>\n",
       "      <td>NaN</td>\n",
       "      <td>NaN</td>\n",
       "      <td>NaN</td>\n",
       "      <td>7,922,435.00</td>\n",
       "      <td>169,710.00</td>\n",
       "      <td>1,944,683.00</td>\n",
       "    </tr>\n",
       "    <tr>\n",
       "      <th>4</th>\n",
       "      <td>1964</td>\n",
       "      <td>29,644,875.00</td>\n",
       "      <td>25,060.00</td>\n",
       "      <td>5,271,000.00</td>\n",
       "      <td>3,330.10</td>\n",
       "      <td>25,522.32</td>\n",
       "      <td>2,506.00</td>\n",
       "      <td>NaN</td>\n",
       "      <td>NaN</td>\n",
       "      <td>NaN</td>\n",
       "      <td>...</td>\n",
       "      <td>NaN</td>\n",
       "      <td>NaN</td>\n",
       "      <td>NaN</td>\n",
       "      <td>NaN</td>\n",
       "      <td>NaN</td>\n",
       "      <td>NaN</td>\n",
       "      <td>NaN</td>\n",
       "      <td>7,709,919.00</td>\n",
       "      <td>168,039.00</td>\n",
       "      <td>1,907,398.00</td>\n",
       "    </tr>\n",
       "  </tbody>\n",
       "</table>\n",
       "<p>5 rows × 22 columns</p>\n",
       "</div>"
      ],
      "text/plain": [
       "   year  population_total  agricultural_land_sq_km  animals_production_head  \\\n",
       "0  1960     26,632,891.00                      NaN                      NaN   \n",
       "1  1961     27,366,239.00                25,680.00             4,868,000.00   \n",
       "2  1962     28,112,258.00                25,050.00             4,997,000.00   \n",
       "3  1963     28,871,383.00                24,900.00             5,134,000.00   \n",
       "4  1964     29,644,875.00                25,060.00             5,271,000.00   \n",
       "\n",
       "   cereal_yield_kg_per_hectare  co2_emissions_kt  \\\n",
       "0                          NaN         16,054.13   \n",
       "1                     2,905.70         17,088.22   \n",
       "2                     3,259.60         18,595.36   \n",
       "3                     3,312.80         21,554.63   \n",
       "4                     3,330.10         25,522.32   \n",
       "\n",
       "   land_area_equipped_for_irrigation_ha  \\\n",
       "0                                   NaN   \n",
       "1                              2,568.00   \n",
       "2                              2,505.00   \n",
       "3                              2,490.00   \n",
       "4                              2,506.00   \n",
       "\n",
       "   water_use_efficiency_united_states_dollars_per_cubic_meter  \\\n",
       "0                                                         NaN   \n",
       "1                                                         NaN   \n",
       "2                                                         NaN   \n",
       "3                                                         NaN   \n",
       "4                                                         NaN   \n",
       "\n",
       "   level_of_water_stress_freshwater_withdrawal_as_a_proportion_of_available_freshwater_resources  \\\n",
       "0                                                                                            NaN   \n",
       "1                                                                                            NaN   \n",
       "2                                                                                            NaN   \n",
       "3                                                                                            NaN   \n",
       "4                                                                                            NaN   \n",
       "\n",
       "   methane_emissions_kt_of_co2_equivalent  ...  \\\n",
       "0                                     NaN  ...   \n",
       "1                                     NaN  ...   \n",
       "2                                     NaN  ...   \n",
       "3                                     NaN  ...   \n",
       "4                                     NaN  ...   \n",
       "\n",
       "   potential_evapotranspiration_annual_kg_m2  \\\n",
       "0                                        NaN   \n",
       "1                                        NaN   \n",
       "2                                        NaN   \n",
       "3                                        NaN   \n",
       "4                                        NaN   \n",
       "\n",
       "   freshwater_abstracted_fresh_surface_water_abstracted_fresh_groundwater_abstracted_mio_m3_y  \\\n",
       "0                                                                                         NaN   \n",
       "1                                                                                         NaN   \n",
       "2                                                                                         NaN   \n",
       "3                                                                                         NaN   \n",
       "4                                                                                         NaN   \n",
       "\n",
       "   _agriculture_forestry_and_fishing_isic_01_03_mio_m3_y  \\\n",
       "0                                                    NaN   \n",
       "1                                                    NaN   \n",
       "2                                                    NaN   \n",
       "3                                                    NaN   \n",
       "4                                                    NaN   \n",
       "\n",
       "   _manufacturing_isic_10_33_mio_m3_y  rainfall_mm  mintemp_c  maxtemp_c  \\\n",
       "0                                 NaN          NaN        NaN        NaN   \n",
       "1                                 NaN          NaN        NaN        NaN   \n",
       "2                                 NaN          NaN        NaN        NaN   \n",
       "3                                 NaN          NaN        NaN        NaN   \n",
       "4                                 NaN          NaN        NaN        NaN   \n",
       "\n",
       "   cereal_crops_production_ton  cereal_crops_yield_hg_ha  \\\n",
       "0                          NaN                       NaN   \n",
       "1                 5,770,680.00                160,804.00   \n",
       "2                 7,799,279.00                171,597.00   \n",
       "3                 7,922,435.00                169,710.00   \n",
       "4                 7,709,919.00                168,039.00   \n",
       "\n",
       "   harvested_area_of_cereal_crops_ha  \n",
       "0                                NaN  \n",
       "1                       1,723,824.00  \n",
       "2                       1,975,708.00  \n",
       "3                       1,944,683.00  \n",
       "4                       1,907,398.00  \n",
       "\n",
       "[5 rows x 22 columns]"
      ]
     },
     "execution_count": 15,
     "metadata": {},
     "output_type": "execute_result"
    }
   ],
   "source": [
    "final_data_to_be_imputed.head()"
   ]
  },
  {
   "cell_type": "markdown",
   "metadata": {
    "id": "yiSJ9m3mmqEf"
   },
   "source": [
    "##  using KNN  to impute the data"
   ]
  },
  {
   "cell_type": "code",
   "execution_count": 16,
   "metadata": {
    "id": "qzGdahPEmqEg"
   },
   "outputs": [],
   "source": [
    "clean=final_data_to_be_imputed[nearly_cleaned]\n",
    "\n",
    "imp_mean = KNNImputer(n_neighbors=8)\n",
    "imputed_training=imp_mean.fit_transform(clean)"
   ]
  },
  {
   "cell_type": "code",
   "execution_count": 17,
   "metadata": {
    "id": "AlSEq1VrmqEg"
   },
   "outputs": [],
   "source": [
    "imputed=pd.DataFrame(imputed_training,columns=list(clean.columns) )"
   ]
  },
  {
   "cell_type": "code",
   "execution_count": 18,
   "metadata": {
    "id": "47XSJHEXmqEg"
   },
   "outputs": [],
   "source": [
    "c0=list(imputed.columns)"
   ]
  },
  {
   "cell_type": "code",
   "execution_count": 19,
   "metadata": {
    "colab": {
     "base_uri": "https://localhost:8080/"
    },
    "executionInfo": {
     "elapsed": 11,
     "status": "ok",
     "timestamp": 1631315083111,
     "user": {
      "displayName": "Aiad Mesak 201-700-790",
      "photoUrl": "https://lh3.googleusercontent.com/a-/AOh14GjaUxp1HutrdgtSdoJDgdR5AwGBVhHZZISkF0L9Xg=s64",
      "userId": "12349232382679184450"
     },
     "user_tz": -120
    },
    "id": "ioXVeWJsmqEh",
    "outputId": "a543f77e-49b5-487c-9295-01938eeb2360"
   },
   "outputs": [
    {
     "data": {
      "text/plain": [
       "(61, 15)"
      ]
     },
     "execution_count": 19,
     "metadata": {},
     "output_type": "execute_result"
    }
   ],
   "source": [
    "clean=final_data_to_be_imputed[feature_have_lessthan_50]\n",
    "clean[c0]=imputed\n",
    "# start the MICE training\n",
    "clean.shape"
   ]
  },
  {
   "cell_type": "code",
   "execution_count": 20,
   "metadata": {
    "id": "LqP6o8VamqEh"
   },
   "outputs": [],
   "source": [
    "imp_mean = KNNImputer(n_neighbors=12)\n",
    "imputed_training=imp_mean.fit_transform(clean)"
   ]
  },
  {
   "cell_type": "code",
   "execution_count": 21,
   "metadata": {
    "id": "SGhGCFEVmqEh"
   },
   "outputs": [],
   "source": [
    "imputed=pd.DataFrame(imputed_training,columns=list(clean.columns) )"
   ]
  },
  {
   "cell_type": "code",
   "execution_count": 22,
   "metadata": {
    "id": "11lVkK3RmqEi"
   },
   "outputs": [],
   "source": [
    "c50=list(imputed.columns)"
   ]
  },
  {
   "cell_type": "code",
   "execution_count": 23,
   "metadata": {
    "colab": {
     "base_uri": "https://localhost:8080/"
    },
    "executionInfo": {
     "elapsed": 12,
     "status": "ok",
     "timestamp": 1631315089668,
     "user": {
      "displayName": "Aiad Mesak 201-700-790",
      "photoUrl": "https://lh3.googleusercontent.com/a-/AOh14GjaUxp1HutrdgtSdoJDgdR5AwGBVhHZZISkF0L9Xg=s64",
      "userId": "12349232382679184450"
     },
     "user_tz": -120
    },
    "id": "_wpC9iBgmqEi",
    "outputId": "ad44ca47-8e7c-4ca8-9b39-cdbd57e3116d"
   },
   "outputs": [
    {
     "data": {
      "text/plain": [
       "(61, 22)"
      ]
     },
     "execution_count": 23,
     "metadata": {},
     "output_type": "execute_result"
    }
   ],
   "source": [
    "clean=final_data_to_be_imputed[feature_have_Higherthan_50]\n",
    "clean[c50]=imputed\n",
    "# start the MICE training\n",
    "clean.shape"
   ]
  },
  {
   "cell_type": "code",
   "execution_count": 24,
   "metadata": {
    "id": "ghFIHqG9mqEi"
   },
   "outputs": [],
   "source": [
    "imp_mean = KNNImputer(n_neighbors=12)\n",
    "imputed_training=imp_mean.fit_transform(clean)"
   ]
  },
  {
   "cell_type": "code",
   "execution_count": 25,
   "metadata": {
    "id": "Rt7hXYrEmqEk"
   },
   "outputs": [],
   "source": [
    "imputed=pd.DataFrame(imputed_training,columns=list(clean.columns) )"
   ]
  },
  {
   "cell_type": "code",
   "execution_count": 26,
   "metadata": {
    "colab": {
     "base_uri": "https://localhost:8080/",
     "height": 607
    },
    "executionInfo": {
     "elapsed": 7454,
     "status": "ok",
     "timestamp": 1631315101326,
     "user": {
      "displayName": "Aiad Mesak 201-700-790",
      "photoUrl": "https://lh3.googleusercontent.com/a-/AOh14GjaUxp1HutrdgtSdoJDgdR5AwGBVhHZZISkF0L9Xg=s64",
      "userId": "12349232382679184450"
     },
     "user_tz": -120
    },
    "id": "MAg4pRi3mqEk",
    "outputId": "80b379df-6a09-47bb-8832-e03b1ae644ce",
    "scrolled": false
   },
   "outputs": [
    {
     "data": {
      "image/png": "[encoded data removed]",
      "text/plain": [
       "<Figure size 720x720 with 12 Axes>"
      ]
     },
     "metadata": {
      "needs_background": "light"
     },
     "output_type": "display_data"
    }
   ],
   "source": [
    "from pylab import rcParams\n",
    "rcParams['figure.figsize'] = 10, 10\n",
    "pd.plotting.hist_frame(imputed[list(nearly_cleaned)]);"
   ]
  },
  {
   "cell_type": "code",
   "execution_count": 37,
   "metadata": {
    "colab": {
     "base_uri": "https://localhost:8080/",
     "height": 607
    },
    "executionInfo": {
     "elapsed": 7151,
     "status": "ok",
     "timestamp": 1631315108438,
     "user": {
      "displayName": "Aiad Mesak 201-700-790",
      "photoUrl": "https://lh3.googleusercontent.com/a-/AOh14GjaUxp1HutrdgtSdoJDgdR5AwGBVhHZZISkF0L9Xg=s64",
      "userId": "12349232382679184450"
     },
     "user_tz": -120
    },
    "id": "QC6ahXcHmqEl",
    "outputId": "9c51e408-3082-4071-bc21-e2f621040b40"
   },
   "outputs": [
    {
     "data": {
      "image/png": "[encoded data removed]",
      "text/plain": [
       "<Figure size 864x720 with 6 Axes>"
      ]
     },
     "metadata": {
      "needs_background": "light"
     },
     "output_type": "display_data"
    }
   ],
   "source": [
    "from pylab import rcParams\n",
    "rcParams['figure.figsize'] = 12, 10\n",
    "\n",
    "pd.plotting.hist_frame(imputed[feature_have_lessthan_50]);"
   ]
  },
  {
   "cell_type": "code",
   "execution_count": 77,
   "metadata": {
    "colab": {
     "base_uri": "https://localhost:8080/",
     "height": 607
    },
    "executionInfo": {
     "elapsed": 88,
     "status": "ok",
     "timestamp": 1631315108442,
     "user": {
      "displayName": "Aiad Mesak 201-700-790",
      "photoUrl": "https://lh3.googleusercontent.com/a-/AOh14GjaUxp1HutrdgtSdoJDgdR5AwGBVhHZZISkF0L9Xg=s64",
      "userId": "12349232382679184450"
     },
     "user_tz": -120
    },
    "id": "wDBc1yzimqEl",
    "outputId": "95c57115-b8bc-4fd1-cf34-50950a629520",
    "scrolled": false
   },
   "outputs": [
    {
     "data": {
      "image/png": "[encoded data removed]",
      "text/plain": [
       "<Figure size 2520x1080 with 9 Axes>"
      ]
     },
     "metadata": {
      "needs_background": "light"
     },
     "output_type": "display_data"
    }
   ],
   "source": [
    "from pylab import rcParams\n",
    "rcParams['figure.figsize'] = 35, 15\n",
    "\n",
    "\n",
    "pd.plotting.hist_frame(imputed[feature_have_Higherthan_50]);\n"
   ]
  },
  {
   "cell_type": "markdown",
   "metadata": {},
   "source": [
    "The last disterbution is not goos as it is not nearly as the previous ones."
   ]
  },
  {
   "cell_type": "code",
   "execution_count": 29,
   "metadata": {
    "colab": {
     "base_uri": "https://localhost:8080/",
     "height": 317
    },
    "executionInfo": {
     "elapsed": 752,
     "status": "ok",
     "timestamp": 1631315203523,
     "user": {
      "displayName": "Aiad Mesak 201-700-790",
      "photoUrl": "https://lh3.googleusercontent.com/a-/AOh14GjaUxp1HutrdgtSdoJDgdR5AwGBVhHZZISkF0L9Xg=s64",
      "userId": "12349232382679184450"
     },
     "user_tz": -120
    },
    "id": "9eYX8ObE9VKS",
    "outputId": "b0da25a7-1a9a-44ef-8ade-41c950eebac1",
    "scrolled": true
   },
   "outputs": [
    {
     "data": {
      "text/html": [
       "<div>\n",
       "<style scoped>\n",
       "    .dataframe tbody tr th:only-of-type {\n",
       "        vertical-align: middle;\n",
       "    }\n",
       "\n",
       "    .dataframe tbody tr th {\n",
       "        vertical-align: top;\n",
       "    }\n",
       "\n",
       "    .dataframe thead th {\n",
       "        text-align: right;\n",
       "    }\n",
       "</style>\n",
       "<table border=\"1\" class=\"dataframe\">\n",
       "  <thead>\n",
       "    <tr style=\"text-align: right;\">\n",
       "      <th></th>\n",
       "      <th>year</th>\n",
       "      <th>population_total</th>\n",
       "      <th>agricultural_land_sq_km</th>\n",
       "      <th>animals_production_head</th>\n",
       "      <th>cereal_yield_kg_per_hectare</th>\n",
       "      <th>co2_emissions_kt</th>\n",
       "      <th>land_area_equipped_for_irrigation_ha</th>\n",
       "      <th>cereal_crops_production_ton</th>\n",
       "      <th>cereal_crops_yield_hg_ha</th>\n",
       "      <th>harvested_area_of_cereal_crops_ha</th>\n",
       "    </tr>\n",
       "  </thead>\n",
       "  <tbody>\n",
       "    <tr>\n",
       "      <th>count</th>\n",
       "      <td>61.00</td>\n",
       "      <td>61.00</td>\n",
       "      <td>58.00</td>\n",
       "      <td>59.00</td>\n",
       "      <td>58.00</td>\n",
       "      <td>59.00</td>\n",
       "      <td>58.00</td>\n",
       "      <td>59.00</td>\n",
       "      <td>59.00</td>\n",
       "      <td>59.00</td>\n",
       "    </tr>\n",
       "    <tr>\n",
       "      <th>mean</th>\n",
       "      <td>1,990.00</td>\n",
       "      <td>58,277,667.08</td>\n",
       "      <td>30,267.78</td>\n",
       "      <td>17,933,812.75</td>\n",
       "      <td>5,455.93</td>\n",
       "      <td>95,538.16</td>\n",
       "      <td>3,019.93</td>\n",
       "      <td>16,487,122.76</td>\n",
       "      <td>257,310.64</td>\n",
       "      <td>2,411,109.97</td>\n",
       "    </tr>\n",
       "    <tr>\n",
       "      <th>std</th>\n",
       "      <td>17.75</td>\n",
       "      <td>22,191,817.18</td>\n",
       "      <td>4,697.83</td>\n",
       "      <td>10,320,162.73</td>\n",
       "      <td>1,574.71</td>\n",
       "      <td>71,175.90</td>\n",
       "      <td>464.40</td>\n",
       "      <td>7,719,126.39</td>\n",
       "      <td>69,316.46</td>\n",
       "      <td>520,554.98</td>\n",
       "    </tr>\n",
       "    <tr>\n",
       "      <th>min</th>\n",
       "      <td>1,960.00</td>\n",
       "      <td>26,632,891.00</td>\n",
       "      <td>24,347.40</td>\n",
       "      <td>4,868,000.00</td>\n",
       "      <td>2,905.70</td>\n",
       "      <td>16,054.13</td>\n",
       "      <td>2,434.00</td>\n",
       "      <td>5,770,680.00</td>\n",
       "      <td>160,804.00</td>\n",
       "      <td>1,625,595.00</td>\n",
       "    </tr>\n",
       "    <tr>\n",
       "      <th>25%</th>\n",
       "      <td>1,975.00</td>\n",
       "      <td>38,549,133.00</td>\n",
       "      <td>25,735.00</td>\n",
       "      <td>7,717,912.00</td>\n",
       "      <td>3,954.53</td>\n",
       "      <td>29,370.84</td>\n",
       "      <td>2,573.50</td>\n",
       "      <td>9,459,350.50</td>\n",
       "      <td>189,145.00</td>\n",
       "      <td>1,943,141.00</td>\n",
       "    </tr>\n",
       "    <tr>\n",
       "      <th>50%</th>\n",
       "      <td>1,990.00</td>\n",
       "      <td>56,134,478.00</td>\n",
       "      <td>28,535.00</td>\n",
       "      <td>12,607,000.00</td>\n",
       "      <td>5,475.35</td>\n",
       "      <td>74,810.47</td>\n",
       "      <td>2,853.50</td>\n",
       "      <td>15,134,913.00</td>\n",
       "      <td>270,130.00</td>\n",
       "      <td>2,283,426.00</td>\n",
       "    </tr>\n",
       "    <tr>\n",
       "      <th>75%</th>\n",
       "      <td>2,005.00</td>\n",
       "      <td>75,523,576.00</td>\n",
       "      <td>34,817.50</td>\n",
       "      <td>28,345,438.50</td>\n",
       "      <td>7,155.85</td>\n",
       "      <td>136,965.00</td>\n",
       "      <td>3,458.75</td>\n",
       "      <td>24,534,082.50</td>\n",
       "      <td>329,157.50</td>\n",
       "      <td>2,758,755.50</td>\n",
       "    </tr>\n",
       "    <tr>\n",
       "      <th>max</th>\n",
       "      <td>2,020.00</td>\n",
       "      <td>102,334,403.00</td>\n",
       "      <td>38,359.69</td>\n",
       "      <td>30,508,486.00</td>\n",
       "      <td>7,556.20</td>\n",
       "      <td>246,260.00</td>\n",
       "      <td>3,823.00</td>\n",
       "      <td>28,587,740.00</td>\n",
       "      <td>349,995.00</td>\n",
       "      <td>3,435,314.00</td>\n",
       "    </tr>\n",
       "  </tbody>\n",
       "</table>\n",
       "</div>"
      ],
      "text/plain": [
       "          year  population_total  agricultural_land_sq_km  \\\n",
       "count    61.00             61.00                    58.00   \n",
       "mean  1,990.00     58,277,667.08                30,267.78   \n",
       "std      17.75     22,191,817.18                 4,697.83   \n",
       "min   1,960.00     26,632,891.00                24,347.40   \n",
       "25%   1,975.00     38,549,133.00                25,735.00   \n",
       "50%   1,990.00     56,134,478.00                28,535.00   \n",
       "75%   2,005.00     75,523,576.00                34,817.50   \n",
       "max   2,020.00    102,334,403.00                38,359.69   \n",
       "\n",
       "       animals_production_head  cereal_yield_kg_per_hectare  co2_emissions_kt  \\\n",
       "count                    59.00                        58.00             59.00   \n",
       "mean             17,933,812.75                     5,455.93         95,538.16   \n",
       "std              10,320,162.73                     1,574.71         71,175.90   \n",
       "min               4,868,000.00                     2,905.70         16,054.13   \n",
       "25%               7,717,912.00                     3,954.53         29,370.84   \n",
       "50%              12,607,000.00                     5,475.35         74,810.47   \n",
       "75%              28,345,438.50                     7,155.85        136,965.00   \n",
       "max              30,508,486.00                     7,556.20        246,260.00   \n",
       "\n",
       "       land_area_equipped_for_irrigation_ha  cereal_crops_production_ton  \\\n",
       "count                                 58.00                        59.00   \n",
       "mean                               3,019.93                16,487,122.76   \n",
       "std                                  464.40                 7,719,126.39   \n",
       "min                                2,434.00                 5,770,680.00   \n",
       "25%                                2,573.50                 9,459,350.50   \n",
       "50%                                2,853.50                15,134,913.00   \n",
       "75%                                3,458.75                24,534,082.50   \n",
       "max                                3,823.00                28,587,740.00   \n",
       "\n",
       "       cereal_crops_yield_hg_ha  harvested_area_of_cereal_crops_ha  \n",
       "count                     59.00                              59.00  \n",
       "mean                 257,310.64                       2,411,109.97  \n",
       "std                   69,316.46                         520,554.98  \n",
       "min                  160,804.00                       1,625,595.00  \n",
       "25%                  189,145.00                       1,943,141.00  \n",
       "50%                  270,130.00                       2,283,426.00  \n",
       "75%                  329,157.50                       2,758,755.50  \n",
       "max                  349,995.00                       3,435,314.00  "
      ]
     },
     "execution_count": 29,
     "metadata": {},
     "output_type": "execute_result"
    }
   ],
   "source": [
    "final_data_to_be_imputed[nearly_cleaned].describe()"
   ]
  },
  {
   "cell_type": "code",
   "execution_count": 30,
   "metadata": {
    "colab": {
     "base_uri": "https://localhost:8080/",
     "height": 317
    },
    "executionInfo": {
     "elapsed": 478,
     "status": "ok",
     "timestamp": 1631315231504,
     "user": {
      "displayName": "Aiad Mesak 201-700-790",
      "photoUrl": "https://lh3.googleusercontent.com/a-/AOh14GjaUxp1HutrdgtSdoJDgdR5AwGBVhHZZISkF0L9Xg=s64",
      "userId": "12349232382679184450"
     },
     "user_tz": -120
    },
    "id": "dukHBz9i9r1s",
    "outputId": "47137ff6-d97d-4f12-9dc0-a34e398204f7",
    "scrolled": true
   },
   "outputs": [
    {
     "data": {
      "text/html": [
       "<div>\n",
       "<style scoped>\n",
       "    .dataframe tbody tr th:only-of-type {\n",
       "        vertical-align: middle;\n",
       "    }\n",
       "\n",
       "    .dataframe tbody tr th {\n",
       "        vertical-align: top;\n",
       "    }\n",
       "\n",
       "    .dataframe thead th {\n",
       "        text-align: right;\n",
       "    }\n",
       "</style>\n",
       "<table border=\"1\" class=\"dataframe\">\n",
       "  <thead>\n",
       "    <tr style=\"text-align: right;\">\n",
       "      <th></th>\n",
       "      <th>year</th>\n",
       "      <th>population_total</th>\n",
       "      <th>agricultural_land_sq_km</th>\n",
       "      <th>animals_production_head</th>\n",
       "      <th>cereal_yield_kg_per_hectare</th>\n",
       "      <th>co2_emissions_kt</th>\n",
       "      <th>land_area_equipped_for_irrigation_ha</th>\n",
       "      <th>cereal_crops_production_ton</th>\n",
       "      <th>cereal_crops_yield_hg_ha</th>\n",
       "      <th>harvested_area_of_cereal_crops_ha</th>\n",
       "    </tr>\n",
       "  </thead>\n",
       "  <tbody>\n",
       "    <tr>\n",
       "      <th>count</th>\n",
       "      <td>61.00</td>\n",
       "      <td>61.00</td>\n",
       "      <td>61.00</td>\n",
       "      <td>61.00</td>\n",
       "      <td>61.00</td>\n",
       "      <td>61.00</td>\n",
       "      <td>61.00</td>\n",
       "      <td>61.00</td>\n",
       "      <td>61.00</td>\n",
       "      <td>61.00</td>\n",
       "    </tr>\n",
       "    <tr>\n",
       "      <th>mean</th>\n",
       "      <td>1,990.00</td>\n",
       "      <td>58,277,667.08</td>\n",
       "      <td>30,439.82</td>\n",
       "      <td>17,878,513.55</td>\n",
       "      <td>5,480.51</td>\n",
       "      <td>99,725.27</td>\n",
       "      <td>3,037.22</td>\n",
       "      <td>16,503,789.45</td>\n",
       "      <td>257,151.14</td>\n",
       "      <td>2,414,874.14</td>\n",
       "    </tr>\n",
       "    <tr>\n",
       "      <th>std</th>\n",
       "      <td>17.75</td>\n",
       "      <td>22,191,817.18</td>\n",
       "      <td>4,785.71</td>\n",
       "      <td>10,340,971.25</td>\n",
       "      <td>1,590.21</td>\n",
       "      <td>73,640.70</td>\n",
       "      <td>473.41</td>\n",
       "      <td>7,777,510.69</td>\n",
       "      <td>69,781.93</td>\n",
       "      <td>526,121.30</td>\n",
       "    </tr>\n",
       "    <tr>\n",
       "      <th>min</th>\n",
       "      <td>1,960.00</td>\n",
       "      <td>26,632,891.00</td>\n",
       "      <td>24,347.40</td>\n",
       "      <td>4,868,000.00</td>\n",
       "      <td>2,905.70</td>\n",
       "      <td>16,054.13</td>\n",
       "      <td>2,434.00</td>\n",
       "      <td>5,770,680.00</td>\n",
       "      <td>160,804.00</td>\n",
       "      <td>1,625,595.00</td>\n",
       "    </tr>\n",
       "    <tr>\n",
       "      <th>25%</th>\n",
       "      <td>1,975.00</td>\n",
       "      <td>38,549,133.00</td>\n",
       "      <td>25,810.00</td>\n",
       "      <td>7,699,588.00</td>\n",
       "      <td>3,951.30</td>\n",
       "      <td>31,099.83</td>\n",
       "      <td>2,581.00</td>\n",
       "      <td>9,230,264.00</td>\n",
       "      <td>188,166.00</td>\n",
       "      <td>1,941,599.00</td>\n",
       "    </tr>\n",
       "    <tr>\n",
       "      <th>50%</th>\n",
       "      <td>1,990.00</td>\n",
       "      <td>56,134,478.00</td>\n",
       "      <td>28,550.00</td>\n",
       "      <td>12,607,000.00</td>\n",
       "      <td>5,613.00</td>\n",
       "      <td>86,430.00</td>\n",
       "      <td>2,855.00</td>\n",
       "      <td>15,134,913.00</td>\n",
       "      <td>270,130.00</td>\n",
       "      <td>2,283,426.00</td>\n",
       "    </tr>\n",
       "    <tr>\n",
       "      <th>75%</th>\n",
       "      <td>2,005.00</td>\n",
       "      <td>75,523,576.00</td>\n",
       "      <td>35,230.00</td>\n",
       "      <td>28,343,397.00</td>\n",
       "      <td>7,166.60</td>\n",
       "      <td>160,590.00</td>\n",
       "      <td>3,516.00</td>\n",
       "      <td>24,801,497.00</td>\n",
       "      <td>329,459.00</td>\n",
       "      <td>2,761,724.00</td>\n",
       "    </tr>\n",
       "    <tr>\n",
       "      <th>max</th>\n",
       "      <td>2,020.00</td>\n",
       "      <td>102,334,403.00</td>\n",
       "      <td>38,359.69</td>\n",
       "      <td>30,508,486.00</td>\n",
       "      <td>7,556.20</td>\n",
       "      <td>246,260.00</td>\n",
       "      <td>3,823.00</td>\n",
       "      <td>28,587,740.00</td>\n",
       "      <td>349,995.00</td>\n",
       "      <td>3,435,314.00</td>\n",
       "    </tr>\n",
       "  </tbody>\n",
       "</table>\n",
       "</div>"
      ],
      "text/plain": [
       "          year  population_total  agricultural_land_sq_km  \\\n",
       "count    61.00             61.00                    61.00   \n",
       "mean  1,990.00     58,277,667.08                30,439.82   \n",
       "std      17.75     22,191,817.18                 4,785.71   \n",
       "min   1,960.00     26,632,891.00                24,347.40   \n",
       "25%   1,975.00     38,549,133.00                25,810.00   \n",
       "50%   1,990.00     56,134,478.00                28,550.00   \n",
       "75%   2,005.00     75,523,576.00                35,230.00   \n",
       "max   2,020.00    102,334,403.00                38,359.69   \n",
       "\n",
       "       animals_production_head  cereal_yield_kg_per_hectare  co2_emissions_kt  \\\n",
       "count                    61.00                        61.00             61.00   \n",
       "mean             17,878,513.55                     5,480.51         99,725.27   \n",
       "std              10,340,971.25                     1,590.21         73,640.70   \n",
       "min               4,868,000.00                     2,905.70         16,054.13   \n",
       "25%               7,699,588.00                     3,951.30         31,099.83   \n",
       "50%              12,607,000.00                     5,613.00         86,430.00   \n",
       "75%              28,343,397.00                     7,166.60        160,590.00   \n",
       "max              30,508,486.00                     7,556.20        246,260.00   \n",
       "\n",
       "       land_area_equipped_for_irrigation_ha  cereal_crops_production_ton  \\\n",
       "count                                 61.00                        61.00   \n",
       "mean                               3,037.22                16,503,789.45   \n",
       "std                                  473.41                 7,777,510.69   \n",
       "min                                2,434.00                 5,770,680.00   \n",
       "25%                                2,581.00                 9,230,264.00   \n",
       "50%                                2,855.00                15,134,913.00   \n",
       "75%                                3,516.00                24,801,497.00   \n",
       "max                                3,823.00                28,587,740.00   \n",
       "\n",
       "       cereal_crops_yield_hg_ha  harvested_area_of_cereal_crops_ha  \n",
       "count                     61.00                              61.00  \n",
       "mean                 257,151.14                       2,414,874.14  \n",
       "std                   69,781.93                         526,121.30  \n",
       "min                  160,804.00                       1,625,595.00  \n",
       "25%                  188,166.00                       1,941,599.00  \n",
       "50%                  270,130.00                       2,283,426.00  \n",
       "75%                  329,459.00                       2,761,724.00  \n",
       "max                  349,995.00                       3,435,314.00  "
      ]
     },
     "execution_count": 30,
     "metadata": {},
     "output_type": "execute_result"
    }
   ],
   "source": [
    "imputed[nearly_cleaned].describe()"
   ]
  },
  {
   "cell_type": "markdown",
   "metadata": {},
   "source": [
    "When looking at the statistical values, we can see that there is nearly no change. As the value we have imputed are very few. therefore, the accuracy of imputation will be very high "
   ]
  },
  {
   "cell_type": "code",
   "execution_count": 78,
   "metadata": {
    "colab": {
     "base_uri": "https://localhost:8080/",
     "height": 317
    },
    "executionInfo": {
     "elapsed": 752,
     "status": "ok",
     "timestamp": 1631315203523,
     "user": {
      "displayName": "Aiad Mesak 201-700-790",
      "photoUrl": "https://lh3.googleusercontent.com/a-/AOh14GjaUxp1HutrdgtSdoJDgdR5AwGBVhHZZISkF0L9Xg=s64",
      "userId": "12349232382679184450"
     },
     "user_tz": -120
    },
    "id": "9eYX8ObE9VKS",
    "outputId": "b0da25a7-1a9a-44ef-8ade-41c950eebac1",
    "scrolled": true
   },
   "outputs": [
    {
     "data": {
      "text/html": [
       "<div>\n",
       "<style scoped>\n",
       "    .dataframe tbody tr th:only-of-type {\n",
       "        vertical-align: middle;\n",
       "    }\n",
       "\n",
       "    .dataframe tbody tr th {\n",
       "        vertical-align: top;\n",
       "    }\n",
       "\n",
       "    .dataframe thead th {\n",
       "        text-align: right;\n",
       "    }\n",
       "</style>\n",
       "<table border=\"1\" class=\"dataframe\">\n",
       "  <thead>\n",
       "    <tr style=\"text-align: right;\">\n",
       "      <th></th>\n",
       "      <th>methane_emissions_kt_of_co2_equivalent</th>\n",
       "      <th>nitrous_oxide_emissions_thousand_metric_tons_of_co2_equivalent</th>\n",
       "      <th>rainfall_mm</th>\n",
       "      <th>mintemp_c</th>\n",
       "      <th>maxtemp_c</th>\n",
       "    </tr>\n",
       "  </thead>\n",
       "  <tbody>\n",
       "    <tr>\n",
       "      <th>count</th>\n",
       "      <td>49.00</td>\n",
       "      <td>49.00</td>\n",
       "      <td>30.00</td>\n",
       "      <td>30.00</td>\n",
       "      <td>30.00</td>\n",
       "    </tr>\n",
       "    <tr>\n",
       "      <th>mean</th>\n",
       "      <td>36,890.91</td>\n",
       "      <td>17,140.40</td>\n",
       "      <td>2.75</td>\n",
       "      <td>15.73</td>\n",
       "      <td>30.33</td>\n",
       "    </tr>\n",
       "    <tr>\n",
       "      <th>std</th>\n",
       "      <td>14,575.74</td>\n",
       "      <td>4,832.38</td>\n",
       "      <td>0.61</td>\n",
       "      <td>0.52</td>\n",
       "      <td>0.54</td>\n",
       "    </tr>\n",
       "    <tr>\n",
       "      <th>min</th>\n",
       "      <td>19,836.80</td>\n",
       "      <td>7,888.60</td>\n",
       "      <td>1.88</td>\n",
       "      <td>14.54</td>\n",
       "      <td>29.08</td>\n",
       "    </tr>\n",
       "    <tr>\n",
       "      <th>25%</th>\n",
       "      <td>21,802.00</td>\n",
       "      <td>15,590.00</td>\n",
       "      <td>2.29</td>\n",
       "      <td>15.45</td>\n",
       "      <td>30.04</td>\n",
       "    </tr>\n",
       "    <tr>\n",
       "      <th>50%</th>\n",
       "      <td>34,550.00</td>\n",
       "      <td>17,876.65</td>\n",
       "      <td>2.75</td>\n",
       "      <td>15.77</td>\n",
       "      <td>30.31</td>\n",
       "    </tr>\n",
       "    <tr>\n",
       "      <th>75%</th>\n",
       "      <td>52,150.00</td>\n",
       "      <td>21,270.00</td>\n",
       "      <td>3.11</td>\n",
       "      <td>15.94</td>\n",
       "      <td>30.66</td>\n",
       "    </tr>\n",
       "    <tr>\n",
       "      <th>max</th>\n",
       "      <td>56,870.00</td>\n",
       "      <td>23,650.00</td>\n",
       "      <td>4.26</td>\n",
       "      <td>17.12</td>\n",
       "      <td>31.79</td>\n",
       "    </tr>\n",
       "  </tbody>\n",
       "</table>\n",
       "</div>"
      ],
      "text/plain": [
       "       methane_emissions_kt_of_co2_equivalent  \\\n",
       "count                                   49.00   \n",
       "mean                                36,890.91   \n",
       "std                                 14,575.74   \n",
       "min                                 19,836.80   \n",
       "25%                                 21,802.00   \n",
       "50%                                 34,550.00   \n",
       "75%                                 52,150.00   \n",
       "max                                 56,870.00   \n",
       "\n",
       "       nitrous_oxide_emissions_thousand_metric_tons_of_co2_equivalent  \\\n",
       "count                                                           49.00   \n",
       "mean                                                        17,140.40   \n",
       "std                                                          4,832.38   \n",
       "min                                                          7,888.60   \n",
       "25%                                                         15,590.00   \n",
       "50%                                                         17,876.65   \n",
       "75%                                                         21,270.00   \n",
       "max                                                         23,650.00   \n",
       "\n",
       "       rainfall_mm  mintemp_c  maxtemp_c  \n",
       "count        30.00      30.00      30.00  \n",
       "mean          2.75      15.73      30.33  \n",
       "std           0.61       0.52       0.54  \n",
       "min           1.88      14.54      29.08  \n",
       "25%           2.29      15.45      30.04  \n",
       "50%           2.75      15.77      30.31  \n",
       "75%           3.11      15.94      30.66  \n",
       "max           4.26      17.12      31.79  "
      ]
     },
     "execution_count": 78,
     "metadata": {},
     "output_type": "execute_result"
    }
   ],
   "source": [
    "final_data_to_be_imputed[feature_have_lessthan_50].describe()"
   ]
  },
  {
   "cell_type": "code",
   "execution_count": 79,
   "metadata": {
    "colab": {
     "base_uri": "https://localhost:8080/",
     "height": 317
    },
    "executionInfo": {
     "elapsed": 478,
     "status": "ok",
     "timestamp": 1631315231504,
     "user": {
      "displayName": "Aiad Mesak 201-700-790",
      "photoUrl": "https://lh3.googleusercontent.com/a-/AOh14GjaUxp1HutrdgtSdoJDgdR5AwGBVhHZZISkF0L9Xg=s64",
      "userId": "12349232382679184450"
     },
     "user_tz": -120
    },
    "id": "dukHBz9i9r1s",
    "outputId": "47137ff6-d97d-4f12-9dc0-a34e398204f7",
    "scrolled": false
   },
   "outputs": [
    {
     "data": {
      "text/html": [
       "<div>\n",
       "<style scoped>\n",
       "    .dataframe tbody tr th:only-of-type {\n",
       "        vertical-align: middle;\n",
       "    }\n",
       "\n",
       "    .dataframe tbody tr th {\n",
       "        vertical-align: top;\n",
       "    }\n",
       "\n",
       "    .dataframe thead th {\n",
       "        text-align: right;\n",
       "    }\n",
       "</style>\n",
       "<table border=\"1\" class=\"dataframe\">\n",
       "  <thead>\n",
       "    <tr style=\"text-align: right;\">\n",
       "      <th></th>\n",
       "      <th>methane_emissions_kt_of_co2_equivalent</th>\n",
       "      <th>nitrous_oxide_emissions_thousand_metric_tons_of_co2_equivalent</th>\n",
       "      <th>rainfall_mm</th>\n",
       "      <th>mintemp_c</th>\n",
       "      <th>maxtemp_c</th>\n",
       "    </tr>\n",
       "  </thead>\n",
       "  <tbody>\n",
       "    <tr>\n",
       "      <th>count</th>\n",
       "      <td>61.00</td>\n",
       "      <td>61.00</td>\n",
       "      <td>61.00</td>\n",
       "      <td>61.00</td>\n",
       "      <td>61.00</td>\n",
       "    </tr>\n",
       "    <tr>\n",
       "      <th>mean</th>\n",
       "      <td>34,869.71</td>\n",
       "      <td>16,136.82</td>\n",
       "      <td>2.82</td>\n",
       "      <td>15.53</td>\n",
       "      <td>30.12</td>\n",
       "    </tr>\n",
       "    <tr>\n",
       "      <th>std</th>\n",
       "      <td>14,822.84</td>\n",
       "      <td>5,213.74</td>\n",
       "      <td>0.43</td>\n",
       "      <td>0.41</td>\n",
       "      <td>0.42</td>\n",
       "    </tr>\n",
       "    <tr>\n",
       "      <th>min</th>\n",
       "      <td>19,836.80</td>\n",
       "      <td>7,888.60</td>\n",
       "      <td>1.88</td>\n",
       "      <td>14.54</td>\n",
       "      <td>29.08</td>\n",
       "    </tr>\n",
       "    <tr>\n",
       "      <th>25%</th>\n",
       "      <td>20,889.75</td>\n",
       "      <td>9,960.33</td>\n",
       "      <td>2.78</td>\n",
       "      <td>15.34</td>\n",
       "      <td>29.93</td>\n",
       "    </tr>\n",
       "    <tr>\n",
       "      <th>50%</th>\n",
       "      <td>26,028.40</td>\n",
       "      <td>17,170.00</td>\n",
       "      <td>2.89</td>\n",
       "      <td>15.34</td>\n",
       "      <td>29.93</td>\n",
       "    </tr>\n",
       "    <tr>\n",
       "      <th>75%</th>\n",
       "      <td>50,700.00</td>\n",
       "      <td>20,980.00</td>\n",
       "      <td>2.89</td>\n",
       "      <td>15.77</td>\n",
       "      <td>30.31</td>\n",
       "    </tr>\n",
       "    <tr>\n",
       "      <th>max</th>\n",
       "      <td>56,870.00</td>\n",
       "      <td>23,650.00</td>\n",
       "      <td>4.26</td>\n",
       "      <td>17.12</td>\n",
       "      <td>31.79</td>\n",
       "    </tr>\n",
       "  </tbody>\n",
       "</table>\n",
       "</div>"
      ],
      "text/plain": [
       "       methane_emissions_kt_of_co2_equivalent  \\\n",
       "count                                   61.00   \n",
       "mean                                34,869.71   \n",
       "std                                 14,822.84   \n",
       "min                                 19,836.80   \n",
       "25%                                 20,889.75   \n",
       "50%                                 26,028.40   \n",
       "75%                                 50,700.00   \n",
       "max                                 56,870.00   \n",
       "\n",
       "       nitrous_oxide_emissions_thousand_metric_tons_of_co2_equivalent  \\\n",
       "count                                                           61.00   \n",
       "mean                                                        16,136.82   \n",
       "std                                                          5,213.74   \n",
       "min                                                          7,888.60   \n",
       "25%                                                          9,960.33   \n",
       "50%                                                         17,170.00   \n",
       "75%                                                         20,980.00   \n",
       "max                                                         23,650.00   \n",
       "\n",
       "       rainfall_mm  mintemp_c  maxtemp_c  \n",
       "count        61.00      61.00      61.00  \n",
       "mean          2.82      15.53      30.12  \n",
       "std           0.43       0.41       0.42  \n",
       "min           1.88      14.54      29.08  \n",
       "25%           2.78      15.34      29.93  \n",
       "50%           2.89      15.34      29.93  \n",
       "75%           2.89      15.77      30.31  \n",
       "max           4.26      17.12      31.79  "
      ]
     },
     "execution_count": 79,
     "metadata": {},
     "output_type": "execute_result"
    }
   ],
   "source": [
    "imputed[feature_have_lessthan_50].describe()"
   ]
  },
  {
   "cell_type": "markdown",
   "metadata": {},
   "source": [
    "Here, we also can see that the distirbution are quite good. "
   ]
  },
  {
   "cell_type": "code",
   "execution_count": 81,
   "metadata": {
    "colab": {
     "base_uri": "https://localhost:8080/",
     "height": 317
    },
    "executionInfo": {
     "elapsed": 478,
     "status": "ok",
     "timestamp": 1631315231504,
     "user": {
      "displayName": "Aiad Mesak 201-700-790",
      "photoUrl": "https://lh3.googleusercontent.com/a-/AOh14GjaUxp1HutrdgtSdoJDgdR5AwGBVhHZZISkF0L9Xg=s64",
      "userId": "12349232382679184450"
     },
     "user_tz": -120
    },
    "id": "dukHBz9i9r1s",
    "outputId": "47137ff6-d97d-4f12-9dc0-a34e398204f7",
    "scrolled": true
   },
   "outputs": [
    {
     "data": {
      "text/html": [
       "<div>\n",
       "<style scoped>\n",
       "    .dataframe tbody tr th:only-of-type {\n",
       "        vertical-align: middle;\n",
       "    }\n",
       "\n",
       "    .dataframe tbody tr th {\n",
       "        vertical-align: top;\n",
       "    }\n",
       "\n",
       "    .dataframe thead th {\n",
       "        text-align: right;\n",
       "    }\n",
       "</style>\n",
       "<table border=\"1\" class=\"dataframe\">\n",
       "  <thead>\n",
       "    <tr style=\"text-align: right;\">\n",
       "      <th></th>\n",
       "      <th>water_use_efficiency_united_states_dollars_per_cubic_meter</th>\n",
       "      <th>level_of_water_stress_freshwater_withdrawal_as_a_proportion_of_available_freshwater_resources</th>\n",
       "      <th>climatic_water_deficit_annual_kg_m2</th>\n",
       "      <th>potential_evapotranspiration_annual_kg_m2</th>\n",
       "      <th>freshwater_abstracted_fresh_surface_water_abstracted_fresh_groundwater_abstracted_mio_m3_y</th>\n",
       "      <th>_agriculture_forestry_and_fishing_isic_01_03_mio_m3_y</th>\n",
       "      <th>_manufacturing_isic_10_33_mio_m3_y</th>\n",
       "    </tr>\n",
       "  </thead>\n",
       "  <tbody>\n",
       "    <tr>\n",
       "      <th>count</th>\n",
       "      <td>19.00</td>\n",
       "      <td>19.00</td>\n",
       "      <td>20.00</td>\n",
       "      <td>20.00</td>\n",
       "      <td>13.00</td>\n",
       "      <td>17.00</td>\n",
       "      <td>17.00</td>\n",
       "    </tr>\n",
       "    <tr>\n",
       "      <th>mean</th>\n",
       "      <td>3.41</td>\n",
       "      <td>114.74</td>\n",
       "      <td>67.04</td>\n",
       "      <td>80.73</td>\n",
       "      <td>61,434.46</td>\n",
       "      <td>54,681.18</td>\n",
       "      <td>1,647.53</td>\n",
       "    </tr>\n",
       "    <tr>\n",
       "      <th>std</th>\n",
       "      <td>0.81</td>\n",
       "      <td>6.13</td>\n",
       "      <td>1.62</td>\n",
       "      <td>1.82</td>\n",
       "      <td>2,057.73</td>\n",
       "      <td>6,521.39</td>\n",
       "      <td>746.95</td>\n",
       "    </tr>\n",
       "    <tr>\n",
       "      <th>min</th>\n",
       "      <td>2.37</td>\n",
       "      <td>103.90</td>\n",
       "      <td>64.63</td>\n",
       "      <td>77.82</td>\n",
       "      <td>57,914.00</td>\n",
       "      <td>45,900.00</td>\n",
       "      <td>1,040.00</td>\n",
       "    </tr>\n",
       "    <tr>\n",
       "      <th>25%</th>\n",
       "      <td>2.62</td>\n",
       "      <td>110.34</td>\n",
       "      <td>65.97</td>\n",
       "      <td>79.66</td>\n",
       "      <td>59,484.00</td>\n",
       "      <td>49,500.00</td>\n",
       "      <td>1,100.00</td>\n",
       "    </tr>\n",
       "    <tr>\n",
       "      <th>50%</th>\n",
       "      <td>3.28</td>\n",
       "      <td>115.60</td>\n",
       "      <td>66.66</td>\n",
       "      <td>80.42</td>\n",
       "      <td>62,200.00</td>\n",
       "      <td>53,000.00</td>\n",
       "      <td>1,200.00</td>\n",
       "    </tr>\n",
       "    <tr>\n",
       "      <th>75%</th>\n",
       "      <td>4.24</td>\n",
       "      <td>119.85</td>\n",
       "      <td>67.92</td>\n",
       "      <td>81.85</td>\n",
       "      <td>63,000.00</td>\n",
       "      <td>61,500.00</td>\n",
       "      <td>2,350.00</td>\n",
       "    </tr>\n",
       "    <tr>\n",
       "      <th>max</th>\n",
       "      <td>4.58</td>\n",
       "      <td>124.00</td>\n",
       "      <td>70.67</td>\n",
       "      <td>85.07</td>\n",
       "      <td>64,149.00</td>\n",
       "      <td>62,350.00</td>\n",
       "      <td>2,999.00</td>\n",
       "    </tr>\n",
       "  </tbody>\n",
       "</table>\n",
       "</div>"
      ],
      "text/plain": [
       "       water_use_efficiency_united_states_dollars_per_cubic_meter  \\\n",
       "count                                                       19.00   \n",
       "mean                                                         3.41   \n",
       "std                                                          0.81   \n",
       "min                                                          2.37   \n",
       "25%                                                          2.62   \n",
       "50%                                                          3.28   \n",
       "75%                                                          4.24   \n",
       "max                                                          4.58   \n",
       "\n",
       "       level_of_water_stress_freshwater_withdrawal_as_a_proportion_of_available_freshwater_resources  \\\n",
       "count                                                                                          19.00   \n",
       "mean                                                                                          114.74   \n",
       "std                                                                                             6.13   \n",
       "min                                                                                           103.90   \n",
       "25%                                                                                           110.34   \n",
       "50%                                                                                           115.60   \n",
       "75%                                                                                           119.85   \n",
       "max                                                                                           124.00   \n",
       "\n",
       "       climatic_water_deficit_annual_kg_m2  \\\n",
       "count                                20.00   \n",
       "mean                                 67.04   \n",
       "std                                   1.62   \n",
       "min                                  64.63   \n",
       "25%                                  65.97   \n",
       "50%                                  66.66   \n",
       "75%                                  67.92   \n",
       "max                                  70.67   \n",
       "\n",
       "       potential_evapotranspiration_annual_kg_m2  \\\n",
       "count                                      20.00   \n",
       "mean                                       80.73   \n",
       "std                                         1.82   \n",
       "min                                        77.82   \n",
       "25%                                        79.66   \n",
       "50%                                        80.42   \n",
       "75%                                        81.85   \n",
       "max                                        85.07   \n",
       "\n",
       "       freshwater_abstracted_fresh_surface_water_abstracted_fresh_groundwater_abstracted_mio_m3_y  \\\n",
       "count                                                                                       13.00   \n",
       "mean                                                                                    61,434.46   \n",
       "std                                                                                      2,057.73   \n",
       "min                                                                                     57,914.00   \n",
       "25%                                                                                     59,484.00   \n",
       "50%                                                                                     62,200.00   \n",
       "75%                                                                                     63,000.00   \n",
       "max                                                                                     64,149.00   \n",
       "\n",
       "       _agriculture_forestry_and_fishing_isic_01_03_mio_m3_y  \\\n",
       "count                                                  17.00   \n",
       "mean                                               54,681.18   \n",
       "std                                                 6,521.39   \n",
       "min                                                45,900.00   \n",
       "25%                                                49,500.00   \n",
       "50%                                                53,000.00   \n",
       "75%                                                61,500.00   \n",
       "max                                                62,350.00   \n",
       "\n",
       "       _manufacturing_isic_10_33_mio_m3_y  \n",
       "count                               17.00  \n",
       "mean                             1,647.53  \n",
       "std                                746.95  \n",
       "min                              1,040.00  \n",
       "25%                              1,100.00  \n",
       "50%                              1,200.00  \n",
       "75%                              2,350.00  \n",
       "max                              2,999.00  "
      ]
     },
     "execution_count": 81,
     "metadata": {},
     "output_type": "execute_result"
    }
   ],
   "source": [
    "final_data_to_be_imputed[feature_have_Higherthan_50].describe()"
   ]
  },
  {
   "cell_type": "code",
   "execution_count": 82,
   "metadata": {
    "colab": {
     "base_uri": "https://localhost:8080/",
     "height": 317
    },
    "executionInfo": {
     "elapsed": 478,
     "status": "ok",
     "timestamp": 1631315231504,
     "user": {
      "displayName": "Aiad Mesak 201-700-790",
      "photoUrl": "https://lh3.googleusercontent.com/a-/AOh14GjaUxp1HutrdgtSdoJDgdR5AwGBVhHZZISkF0L9Xg=s64",
      "userId": "12349232382679184450"
     },
     "user_tz": -120
    },
    "id": "dukHBz9i9r1s",
    "outputId": "47137ff6-d97d-4f12-9dc0-a34e398204f7",
    "scrolled": false
   },
   "outputs": [
    {
     "data": {
      "text/html": [
       "<div>\n",
       "<style scoped>\n",
       "    .dataframe tbody tr th:only-of-type {\n",
       "        vertical-align: middle;\n",
       "    }\n",
       "\n",
       "    .dataframe tbody tr th {\n",
       "        vertical-align: top;\n",
       "    }\n",
       "\n",
       "    .dataframe thead th {\n",
       "        text-align: right;\n",
       "    }\n",
       "</style>\n",
       "<table border=\"1\" class=\"dataframe\">\n",
       "  <thead>\n",
       "    <tr style=\"text-align: right;\">\n",
       "      <th></th>\n",
       "      <th>water_use_efficiency_united_states_dollars_per_cubic_meter</th>\n",
       "      <th>level_of_water_stress_freshwater_withdrawal_as_a_proportion_of_available_freshwater_resources</th>\n",
       "      <th>climatic_water_deficit_annual_kg_m2</th>\n",
       "      <th>potential_evapotranspiration_annual_kg_m2</th>\n",
       "      <th>freshwater_abstracted_fresh_surface_water_abstracted_fresh_groundwater_abstracted_mio_m3_y</th>\n",
       "      <th>_agriculture_forestry_and_fishing_isic_01_03_mio_m3_y</th>\n",
       "      <th>_manufacturing_isic_10_33_mio_m3_y</th>\n",
       "    </tr>\n",
       "  </thead>\n",
       "  <tbody>\n",
       "    <tr>\n",
       "      <th>count</th>\n",
       "      <td>61.00</td>\n",
       "      <td>61.00</td>\n",
       "      <td>61.00</td>\n",
       "      <td>61.00</td>\n",
       "      <td>61.00</td>\n",
       "      <td>61.00</td>\n",
       "      <td>61.00</td>\n",
       "    </tr>\n",
       "    <tr>\n",
       "      <th>mean</th>\n",
       "      <td>3.07</td>\n",
       "      <td>113.79</td>\n",
       "      <td>66.87</td>\n",
       "      <td>80.41</td>\n",
       "      <td>61,401.79</td>\n",
       "      <td>52,861.69</td>\n",
       "      <td>1,695.09</td>\n",
       "    </tr>\n",
       "    <tr>\n",
       "      <th>std</th>\n",
       "      <td>0.53</td>\n",
       "      <td>3.53</td>\n",
       "      <td>0.92</td>\n",
       "      <td>1.05</td>\n",
       "      <td>926.06</td>\n",
       "      <td>3,870.21</td>\n",
       "      <td>388.42</td>\n",
       "    </tr>\n",
       "    <tr>\n",
       "      <th>min</th>\n",
       "      <td>2.37</td>\n",
       "      <td>103.90</td>\n",
       "      <td>64.63</td>\n",
       "      <td>77.82</td>\n",
       "      <td>57,914.00</td>\n",
       "      <td>45,900.00</td>\n",
       "      <td>1,040.00</td>\n",
       "    </tr>\n",
       "    <tr>\n",
       "      <th>25%</th>\n",
       "      <td>2.87</td>\n",
       "      <td>113.13</td>\n",
       "      <td>66.79</td>\n",
       "      <td>80.25</td>\n",
       "      <td>61,354.00</td>\n",
       "      <td>51,594.17</td>\n",
       "      <td>1,700.67</td>\n",
       "    </tr>\n",
       "    <tr>\n",
       "      <th>50%</th>\n",
       "      <td>2.87</td>\n",
       "      <td>113.13</td>\n",
       "      <td>66.79</td>\n",
       "      <td>80.25</td>\n",
       "      <td>61,354.00</td>\n",
       "      <td>51,594.17</td>\n",
       "      <td>1,700.67</td>\n",
       "    </tr>\n",
       "    <tr>\n",
       "      <th>75%</th>\n",
       "      <td>2.87</td>\n",
       "      <td>113.13</td>\n",
       "      <td>66.79</td>\n",
       "      <td>80.25</td>\n",
       "      <td>61,354.00</td>\n",
       "      <td>51,594.17</td>\n",
       "      <td>1,700.67</td>\n",
       "    </tr>\n",
       "    <tr>\n",
       "      <th>max</th>\n",
       "      <td>4.58</td>\n",
       "      <td>124.00</td>\n",
       "      <td>70.67</td>\n",
       "      <td>85.07</td>\n",
       "      <td>64,149.00</td>\n",
       "      <td>62,350.00</td>\n",
       "      <td>2,999.00</td>\n",
       "    </tr>\n",
       "  </tbody>\n",
       "</table>\n",
       "</div>"
      ],
      "text/plain": [
       "       water_use_efficiency_united_states_dollars_per_cubic_meter  \\\n",
       "count                                                       61.00   \n",
       "mean                                                         3.07   \n",
       "std                                                          0.53   \n",
       "min                                                          2.37   \n",
       "25%                                                          2.87   \n",
       "50%                                                          2.87   \n",
       "75%                                                          2.87   \n",
       "max                                                          4.58   \n",
       "\n",
       "       level_of_water_stress_freshwater_withdrawal_as_a_proportion_of_available_freshwater_resources  \\\n",
       "count                                                                                          61.00   \n",
       "mean                                                                                          113.79   \n",
       "std                                                                                             3.53   \n",
       "min                                                                                           103.90   \n",
       "25%                                                                                           113.13   \n",
       "50%                                                                                           113.13   \n",
       "75%                                                                                           113.13   \n",
       "max                                                                                           124.00   \n",
       "\n",
       "       climatic_water_deficit_annual_kg_m2  \\\n",
       "count                                61.00   \n",
       "mean                                 66.87   \n",
       "std                                   0.92   \n",
       "min                                  64.63   \n",
       "25%                                  66.79   \n",
       "50%                                  66.79   \n",
       "75%                                  66.79   \n",
       "max                                  70.67   \n",
       "\n",
       "       potential_evapotranspiration_annual_kg_m2  \\\n",
       "count                                      61.00   \n",
       "mean                                       80.41   \n",
       "std                                         1.05   \n",
       "min                                        77.82   \n",
       "25%                                        80.25   \n",
       "50%                                        80.25   \n",
       "75%                                        80.25   \n",
       "max                                        85.07   \n",
       "\n",
       "       freshwater_abstracted_fresh_surface_water_abstracted_fresh_groundwater_abstracted_mio_m3_y  \\\n",
       "count                                                                                       61.00   \n",
       "mean                                                                                    61,401.79   \n",
       "std                                                                                        926.06   \n",
       "min                                                                                     57,914.00   \n",
       "25%                                                                                     61,354.00   \n",
       "50%                                                                                     61,354.00   \n",
       "75%                                                                                     61,354.00   \n",
       "max                                                                                     64,149.00   \n",
       "\n",
       "       _agriculture_forestry_and_fishing_isic_01_03_mio_m3_y  \\\n",
       "count                                                  61.00   \n",
       "mean                                               52,861.69   \n",
       "std                                                 3,870.21   \n",
       "min                                                45,900.00   \n",
       "25%                                                51,594.17   \n",
       "50%                                                51,594.17   \n",
       "75%                                                51,594.17   \n",
       "max                                                62,350.00   \n",
       "\n",
       "       _manufacturing_isic_10_33_mio_m3_y  \n",
       "count                               61.00  \n",
       "mean                             1,695.09  \n",
       "std                                388.42  \n",
       "min                              1,040.00  \n",
       "25%                              1,700.67  \n",
       "50%                              1,700.67  \n",
       "75%                              1,700.67  \n",
       "max                              2,999.00  "
      ]
     },
     "execution_count": 82,
     "metadata": {},
     "output_type": "execute_result"
    }
   ],
   "source": [
    "imputed[feature_have_Higherthan_50].describe()"
   ]
  },
  {
   "cell_type": "markdown",
   "metadata": {},
   "source": [
    "Here, there is a difference as it should be excpected. Therefore, we can see in the previous figure that the disterbutions are difference from the other. "
   ]
  },
  {
   "cell_type": "markdown",
   "metadata": {
    "id": "VS5DOktbmqEl"
   },
   "source": [
    "## Imputation using Mice"
   ]
  },
  {
   "cell_type": "code",
   "execution_count": null,
   "metadata": {
    "id": "wgaLtt-gmqEm"
   },
   "outputs": [],
   "source": []
  },
  {
   "cell_type": "code",
   "execution_count": 83,
   "metadata": {
    "id": "6ZfeLCsWmqEm"
   },
   "outputs": [],
   "source": [
    "from impyute.imputation.cs import mice\n",
    "\n",
    "Clean=final_data_to_be_imputed[nearly_cleaned]\n",
    "# start the MICE training\n",
    "imputed_training=mice(Clean.values)"
   ]
  },
  {
   "cell_type": "code",
   "execution_count": 84,
   "metadata": {
    "id": "a9A9NZ6VmqEm"
   },
   "outputs": [],
   "source": [
    "imputed=pd.DataFrame(imputed_training,columns=list(Clean.columns) )"
   ]
  },
  {
   "cell_type": "code",
   "execution_count": 85,
   "metadata": {
    "id": "UWMAcNAAmqEn"
   },
   "outputs": [],
   "source": [
    "c0=list(imputed.columns)"
   ]
  },
  {
   "cell_type": "code",
   "execution_count": 86,
   "metadata": {
    "colab": {
     "base_uri": "https://localhost:8080/"
    },
    "executionInfo": {
     "elapsed": 9,
     "status": "ok",
     "timestamp": 1631297269119,
     "user": {
      "displayName": "Aiad Mesak 201-700-790",
      "photoUrl": "https://lh3.googleusercontent.com/a-/AOh14GjaUxp1HutrdgtSdoJDgdR5AwGBVhHZZISkF0L9Xg=s64",
      "userId": "12349232382679184450"
     },
     "user_tz": -120
    },
    "id": "fhIBRMiBmqEn",
    "outputId": "e3c5b636-78cd-472a-af75-e1437fe7bdda"
   },
   "outputs": [
    {
     "data": {
      "text/plain": [
       "(61, 15)"
      ]
     },
     "execution_count": 86,
     "metadata": {},
     "output_type": "execute_result"
    }
   ],
   "source": [
    "clean=final_data_to_be_imputed[feature_have_lessthan_50]\n",
    "clean[c0]=imputed\n",
    "# start the MICE training\n",
    "clean.shape"
   ]
  },
  {
   "cell_type": "code",
   "execution_count": 87,
   "metadata": {
    "id": "s8Q_0LS7mqEn"
   },
   "outputs": [],
   "source": [
    "imputed_training=mice(clean.values)"
   ]
  },
  {
   "cell_type": "code",
   "execution_count": 88,
   "metadata": {
    "id": "QM0aQIz9mqEo"
   },
   "outputs": [],
   "source": [
    "imputed=pd.DataFrame(imputed_training,columns=list(clean.columns) )"
   ]
  },
  {
   "cell_type": "code",
   "execution_count": 89,
   "metadata": {
    "id": "LbydsKN8mqEo"
   },
   "outputs": [],
   "source": [
    "c50=list(imputed.columns)"
   ]
  },
  {
   "cell_type": "code",
   "execution_count": 90,
   "metadata": {
    "colab": {
     "base_uri": "https://localhost:8080/"
    },
    "executionInfo": {
     "elapsed": 12,
     "status": "ok",
     "timestamp": 1631297272450,
     "user": {
      "displayName": "Aiad Mesak 201-700-790",
      "photoUrl": "https://lh3.googleusercontent.com/a-/AOh14GjaUxp1HutrdgtSdoJDgdR5AwGBVhHZZISkF0L9Xg=s64",
      "userId": "12349232382679184450"
     },
     "user_tz": -120
    },
    "id": "EahjIBnsmqEo",
    "outputId": "ac5a2566-7234-4467-ae62-4eebb9a7d9c3"
   },
   "outputs": [
    {
     "data": {
      "text/plain": [
       "(61, 22)"
      ]
     },
     "execution_count": 90,
     "metadata": {},
     "output_type": "execute_result"
    }
   ],
   "source": [
    "clean=final_data_to_be_imputed[feature_have_Higherthan_50]\n",
    "clean[c50]=imputed\n",
    "# start the MICE training\n",
    "clean.shape"
   ]
  },
  {
   "cell_type": "code",
   "execution_count": 91,
   "metadata": {
    "id": "IML6ByvtmqEo"
   },
   "outputs": [],
   "source": [
    "imputed_training=mice(clean.values)"
   ]
  },
  {
   "cell_type": "code",
   "execution_count": 92,
   "metadata": {
    "id": "l5U66AEFmqEp"
   },
   "outputs": [],
   "source": [
    "imputed=pd.DataFrame(imputed_training,columns=list(clean.columns) )"
   ]
  },
  {
   "cell_type": "code",
   "execution_count": null,
   "metadata": {
    "id": "IcKReIG9mqEp"
   },
   "outputs": [],
   "source": []
  },
  {
   "cell_type": "code",
   "execution_count": 93,
   "metadata": {
    "colab": {
     "base_uri": "https://localhost:8080/",
     "height": 607
    },
    "executionInfo": {
     "elapsed": 1833,
     "status": "ok",
     "timestamp": 1631297278824,
     "user": {
      "displayName": "Aiad Mesak 201-700-790",
      "photoUrl": "https://lh3.googleusercontent.com/a-/AOh14GjaUxp1HutrdgtSdoJDgdR5AwGBVhHZZISkF0L9Xg=s64",
      "userId": "12349232382679184450"
     },
     "user_tz": -120
    },
    "id": "zMRU02k7mqEp",
    "outputId": "9050e23f-f203-4b60-b627-5ab9bda8926b",
    "scrolled": false
   },
   "outputs": [
    {
     "data": {
      "image/png": "[encoded data removed]",
      "text/plain": [
       "<Figure size 720x720 with 12 Axes>"
      ]
     },
     "metadata": {
      "needs_background": "light"
     },
     "output_type": "display_data"
    }
   ],
   "source": [
    "from pylab import rcParams\n",
    "rcParams['figure.figsize'] = 10, 10\n",
    "pd.plotting.hist_frame(imputed[list(nearly_cleaned)]);"
   ]
  },
  {
   "cell_type": "code",
   "execution_count": 94,
   "metadata": {
    "colab": {
     "base_uri": "https://localhost:8080/",
     "height": 607
    },
    "executionInfo": {
     "elapsed": 847,
     "status": "ok",
     "timestamp": 1631297279664,
     "user": {
      "displayName": "Aiad Mesak 201-700-790",
      "photoUrl": "https://lh3.googleusercontent.com/a-/AOh14GjaUxp1HutrdgtSdoJDgdR5AwGBVhHZZISkF0L9Xg=s64",
      "userId": "12349232382679184450"
     },
     "user_tz": -120
    },
    "id": "mpVDfZJnmqEq",
    "outputId": "f0c1b468-4ecd-4f69-9d42-21d9c84aa0c1"
   },
   "outputs": [
    {
     "data": {
      "image/png": "[encoded data removed]",
      "text/plain": [
       "<Figure size 720x720 with 6 Axes>"
      ]
     },
     "metadata": {
      "needs_background": "light"
     },
     "output_type": "display_data"
    }
   ],
   "source": [
    "from pylab import rcParams\n",
    "rcParams['figure.figsize'] = 10, 10\n",
    "pd.plotting.hist_frame(imputed[feature_have_lessthan_50]);"
   ]
  },
  {
   "cell_type": "code",
   "execution_count": 96,
   "metadata": {
    "colab": {
     "base_uri": "https://localhost:8080/",
     "height": 442
    },
    "executionInfo": {
     "elapsed": 371,
     "status": "error",
     "timestamp": 1631300006566,
     "user": {
      "displayName": "Aiad Mesak 201-700-790",
      "photoUrl": "https://lh3.googleusercontent.com/a-/AOh14GjaUxp1HutrdgtSdoJDgdR5AwGBVhHZZISkF0L9Xg=s64",
      "userId": "12349232382679184450"
     },
     "user_tz": -120
    },
    "id": "waQU0s5JmqEq",
    "outputId": "f8695332-85de-4200-b948-ac22cddb9b68",
    "scrolled": false
   },
   "outputs": [
    {
     "data": {
      "image/png": "[encoded data removed]",
      "text/plain": [
       "<Figure size 2160x1440 with 9 Axes>"
      ]
     },
     "metadata": {
      "needs_background": "light"
     },
     "output_type": "display_data"
    }
   ],
   "source": [
    "from pylab import rcParams\n",
    "rcParams['figure.figsize'] = 30, 20\n",
    "pd.plotting.hist_frame(imputed[feature_have_Higherthan_50]);"
   ]
  },
  {
   "cell_type": "markdown",
   "metadata": {},
   "source": [
    "Here we can see that all the disterbutions are quite simmelar to each other. "
   ]
  },
  {
   "cell_type": "code",
   "execution_count": 98,
   "metadata": {
    "colab": {
     "base_uri": "https://localhost:8080/",
     "height": 317
    },
    "executionInfo": {
     "elapsed": 752,
     "status": "ok",
     "timestamp": 1631315203523,
     "user": {
      "displayName": "Aiad Mesak 201-700-790",
      "photoUrl": "https://lh3.googleusercontent.com/a-/AOh14GjaUxp1HutrdgtSdoJDgdR5AwGBVhHZZISkF0L9Xg=s64",
      "userId": "12349232382679184450"
     },
     "user_tz": -120
    },
    "id": "9eYX8ObE9VKS",
    "outputId": "b0da25a7-1a9a-44ef-8ade-41c950eebac1",
    "scrolled": true
   },
   "outputs": [
    {
     "data": {
      "text/html": [
       "<div>\n",
       "<style scoped>\n",
       "    .dataframe tbody tr th:only-of-type {\n",
       "        vertical-align: middle;\n",
       "    }\n",
       "\n",
       "    .dataframe tbody tr th {\n",
       "        vertical-align: top;\n",
       "    }\n",
       "\n",
       "    .dataframe thead th {\n",
       "        text-align: right;\n",
       "    }\n",
       "</style>\n",
       "<table border=\"1\" class=\"dataframe\">\n",
       "  <thead>\n",
       "    <tr style=\"text-align: right;\">\n",
       "      <th></th>\n",
       "      <th>year</th>\n",
       "      <th>population_total</th>\n",
       "      <th>agricultural_land_sq_km</th>\n",
       "      <th>animals_production_head</th>\n",
       "      <th>cereal_yield_kg_per_hectare</th>\n",
       "      <th>co2_emissions_kt</th>\n",
       "      <th>land_area_equipped_for_irrigation_ha</th>\n",
       "      <th>cereal_crops_production_ton</th>\n",
       "      <th>cereal_crops_yield_hg_ha</th>\n",
       "      <th>harvested_area_of_cereal_crops_ha</th>\n",
       "    </tr>\n",
       "  </thead>\n",
       "  <tbody>\n",
       "    <tr>\n",
       "      <th>count</th>\n",
       "      <td>61.00</td>\n",
       "      <td>61.00</td>\n",
       "      <td>58.00</td>\n",
       "      <td>59.00</td>\n",
       "      <td>58.00</td>\n",
       "      <td>59.00</td>\n",
       "      <td>58.00</td>\n",
       "      <td>59.00</td>\n",
       "      <td>59.00</td>\n",
       "      <td>59.00</td>\n",
       "    </tr>\n",
       "    <tr>\n",
       "      <th>mean</th>\n",
       "      <td>1,990.00</td>\n",
       "      <td>58,277,667.08</td>\n",
       "      <td>30,267.78</td>\n",
       "      <td>17,933,812.75</td>\n",
       "      <td>5,455.93</td>\n",
       "      <td>95,538.16</td>\n",
       "      <td>3,019.93</td>\n",
       "      <td>16,487,122.76</td>\n",
       "      <td>257,310.64</td>\n",
       "      <td>2,411,109.97</td>\n",
       "    </tr>\n",
       "    <tr>\n",
       "      <th>std</th>\n",
       "      <td>17.75</td>\n",
       "      <td>22,191,817.18</td>\n",
       "      <td>4,697.83</td>\n",
       "      <td>10,320,162.73</td>\n",
       "      <td>1,574.71</td>\n",
       "      <td>71,175.90</td>\n",
       "      <td>464.40</td>\n",
       "      <td>7,719,126.39</td>\n",
       "      <td>69,316.46</td>\n",
       "      <td>520,554.98</td>\n",
       "    </tr>\n",
       "    <tr>\n",
       "      <th>min</th>\n",
       "      <td>1,960.00</td>\n",
       "      <td>26,632,891.00</td>\n",
       "      <td>24,347.40</td>\n",
       "      <td>4,868,000.00</td>\n",
       "      <td>2,905.70</td>\n",
       "      <td>16,054.13</td>\n",
       "      <td>2,434.00</td>\n",
       "      <td>5,770,680.00</td>\n",
       "      <td>160,804.00</td>\n",
       "      <td>1,625,595.00</td>\n",
       "    </tr>\n",
       "    <tr>\n",
       "      <th>25%</th>\n",
       "      <td>1,975.00</td>\n",
       "      <td>38,549,133.00</td>\n",
       "      <td>25,735.00</td>\n",
       "      <td>7,717,912.00</td>\n",
       "      <td>3,954.53</td>\n",
       "      <td>29,370.84</td>\n",
       "      <td>2,573.50</td>\n",
       "      <td>9,459,350.50</td>\n",
       "      <td>189,145.00</td>\n",
       "      <td>1,943,141.00</td>\n",
       "    </tr>\n",
       "    <tr>\n",
       "      <th>50%</th>\n",
       "      <td>1,990.00</td>\n",
       "      <td>56,134,478.00</td>\n",
       "      <td>28,535.00</td>\n",
       "      <td>12,607,000.00</td>\n",
       "      <td>5,475.35</td>\n",
       "      <td>74,810.47</td>\n",
       "      <td>2,853.50</td>\n",
       "      <td>15,134,913.00</td>\n",
       "      <td>270,130.00</td>\n",
       "      <td>2,283,426.00</td>\n",
       "    </tr>\n",
       "    <tr>\n",
       "      <th>75%</th>\n",
       "      <td>2,005.00</td>\n",
       "      <td>75,523,576.00</td>\n",
       "      <td>34,817.50</td>\n",
       "      <td>28,345,438.50</td>\n",
       "      <td>7,155.85</td>\n",
       "      <td>136,965.00</td>\n",
       "      <td>3,458.75</td>\n",
       "      <td>24,534,082.50</td>\n",
       "      <td>329,157.50</td>\n",
       "      <td>2,758,755.50</td>\n",
       "    </tr>\n",
       "    <tr>\n",
       "      <th>max</th>\n",
       "      <td>2,020.00</td>\n",
       "      <td>102,334,403.00</td>\n",
       "      <td>38,359.69</td>\n",
       "      <td>30,508,486.00</td>\n",
       "      <td>7,556.20</td>\n",
       "      <td>246,260.00</td>\n",
       "      <td>3,823.00</td>\n",
       "      <td>28,587,740.00</td>\n",
       "      <td>349,995.00</td>\n",
       "      <td>3,435,314.00</td>\n",
       "    </tr>\n",
       "  </tbody>\n",
       "</table>\n",
       "</div>"
      ],
      "text/plain": [
       "          year  population_total  agricultural_land_sq_km  \\\n",
       "count    61.00             61.00                    58.00   \n",
       "mean  1,990.00     58,277,667.08                30,267.78   \n",
       "std      17.75     22,191,817.18                 4,697.83   \n",
       "min   1,960.00     26,632,891.00                24,347.40   \n",
       "25%   1,975.00     38,549,133.00                25,735.00   \n",
       "50%   1,990.00     56,134,478.00                28,535.00   \n",
       "75%   2,005.00     75,523,576.00                34,817.50   \n",
       "max   2,020.00    102,334,403.00                38,359.69   \n",
       "\n",
       "       animals_production_head  cereal_yield_kg_per_hectare  co2_emissions_kt  \\\n",
       "count                    59.00                        58.00             59.00   \n",
       "mean             17,933,812.75                     5,455.93         95,538.16   \n",
       "std              10,320,162.73                     1,574.71         71,175.90   \n",
       "min               4,868,000.00                     2,905.70         16,054.13   \n",
       "25%               7,717,912.00                     3,954.53         29,370.84   \n",
       "50%              12,607,000.00                     5,475.35         74,810.47   \n",
       "75%              28,345,438.50                     7,155.85        136,965.00   \n",
       "max              30,508,486.00                     7,556.20        246,260.00   \n",
       "\n",
       "       land_area_equipped_for_irrigation_ha  cereal_crops_production_ton  \\\n",
       "count                                 58.00                        59.00   \n",
       "mean                               3,019.93                16,487,122.76   \n",
       "std                                  464.40                 7,719,126.39   \n",
       "min                                2,434.00                 5,770,680.00   \n",
       "25%                                2,573.50                 9,459,350.50   \n",
       "50%                                2,853.50                15,134,913.00   \n",
       "75%                                3,458.75                24,534,082.50   \n",
       "max                                3,823.00                28,587,740.00   \n",
       "\n",
       "       cereal_crops_yield_hg_ha  harvested_area_of_cereal_crops_ha  \n",
       "count                     59.00                              59.00  \n",
       "mean                 257,310.64                       2,411,109.97  \n",
       "std                   69,316.46                         520,554.98  \n",
       "min                  160,804.00                       1,625,595.00  \n",
       "25%                  189,145.00                       1,943,141.00  \n",
       "50%                  270,130.00                       2,283,426.00  \n",
       "75%                  329,157.50                       2,758,755.50  \n",
       "max                  349,995.00                       3,435,314.00  "
      ]
     },
     "execution_count": 98,
     "metadata": {},
     "output_type": "execute_result"
    }
   ],
   "source": [
    "final_data_to_be_imputed[nearly_cleaned].describe()"
   ]
  },
  {
   "cell_type": "code",
   "execution_count": 99,
   "metadata": {
    "colab": {
     "base_uri": "https://localhost:8080/",
     "height": 317
    },
    "executionInfo": {
     "elapsed": 478,
     "status": "ok",
     "timestamp": 1631315231504,
     "user": {
      "displayName": "Aiad Mesak 201-700-790",
      "photoUrl": "https://lh3.googleusercontent.com/a-/AOh14GjaUxp1HutrdgtSdoJDgdR5AwGBVhHZZISkF0L9Xg=s64",
      "userId": "12349232382679184450"
     },
     "user_tz": -120
    },
    "id": "dukHBz9i9r1s",
    "outputId": "47137ff6-d97d-4f12-9dc0-a34e398204f7",
    "scrolled": true
   },
   "outputs": [
    {
     "data": {
      "text/html": [
       "<div>\n",
       "<style scoped>\n",
       "    .dataframe tbody tr th:only-of-type {\n",
       "        vertical-align: middle;\n",
       "    }\n",
       "\n",
       "    .dataframe tbody tr th {\n",
       "        vertical-align: top;\n",
       "    }\n",
       "\n",
       "    .dataframe thead th {\n",
       "        text-align: right;\n",
       "    }\n",
       "</style>\n",
       "<table border=\"1\" class=\"dataframe\">\n",
       "  <thead>\n",
       "    <tr style=\"text-align: right;\">\n",
       "      <th></th>\n",
       "      <th>year</th>\n",
       "      <th>population_total</th>\n",
       "      <th>agricultural_land_sq_km</th>\n",
       "      <th>animals_production_head</th>\n",
       "      <th>cereal_yield_kg_per_hectare</th>\n",
       "      <th>co2_emissions_kt</th>\n",
       "      <th>land_area_equipped_for_irrigation_ha</th>\n",
       "      <th>cereal_crops_production_ton</th>\n",
       "      <th>cereal_crops_yield_hg_ha</th>\n",
       "      <th>harvested_area_of_cereal_crops_ha</th>\n",
       "    </tr>\n",
       "  </thead>\n",
       "  <tbody>\n",
       "    <tr>\n",
       "      <th>count</th>\n",
       "      <td>61.00</td>\n",
       "      <td>61.00</td>\n",
       "      <td>61.00</td>\n",
       "      <td>61.00</td>\n",
       "      <td>61.00</td>\n",
       "      <td>61.00</td>\n",
       "      <td>61.00</td>\n",
       "      <td>61.00</td>\n",
       "      <td>61.00</td>\n",
       "      <td>61.00</td>\n",
       "    </tr>\n",
       "    <tr>\n",
       "      <th>mean</th>\n",
       "      <td>1,990.00</td>\n",
       "      <td>58,277,667.08</td>\n",
       "      <td>30,272.41</td>\n",
       "      <td>17,855,137.83</td>\n",
       "      <td>5,484.91</td>\n",
       "      <td>101,839.96</td>\n",
       "      <td>3,020.67</td>\n",
       "      <td>16,503,757.31</td>\n",
       "      <td>257,848.93</td>\n",
       "      <td>2,411,516.73</td>\n",
       "    </tr>\n",
       "    <tr>\n",
       "      <th>std</th>\n",
       "      <td>17.75</td>\n",
       "      <td>22,191,817.18</td>\n",
       "      <td>4,579.41</td>\n",
       "      <td>10,165,755.75</td>\n",
       "      <td>1,547.79</td>\n",
       "      <td>78,050.75</td>\n",
       "      <td>452.66</td>\n",
       "      <td>7,596,615.08</td>\n",
       "      <td>68,265.49</td>\n",
       "      <td>511,903.12</td>\n",
       "    </tr>\n",
       "    <tr>\n",
       "      <th>min</th>\n",
       "      <td>1,960.00</td>\n",
       "      <td>26,632,891.00</td>\n",
       "      <td>24,347.40</td>\n",
       "      <td>4,868,000.00</td>\n",
       "      <td>2,905.70</td>\n",
       "      <td>16,054.13</td>\n",
       "      <td>2,434.00</td>\n",
       "      <td>5,770,680.00</td>\n",
       "      <td>160,804.00</td>\n",
       "      <td>1,625,595.00</td>\n",
       "    </tr>\n",
       "    <tr>\n",
       "      <th>25%</th>\n",
       "      <td>1,975.00</td>\n",
       "      <td>38,549,133.00</td>\n",
       "      <td>25,810.00</td>\n",
       "      <td>7,736,236.00</td>\n",
       "      <td>3,964.20</td>\n",
       "      <td>31,099.83</td>\n",
       "      <td>2,581.00</td>\n",
       "      <td>9,688,437.00</td>\n",
       "      <td>190,124.00</td>\n",
       "      <td>1,944,683.00</td>\n",
       "    </tr>\n",
       "    <tr>\n",
       "      <th>50%</th>\n",
       "      <td>1,990.00</td>\n",
       "      <td>56,134,478.00</td>\n",
       "      <td>28,550.00</td>\n",
       "      <td>13,076,286.74</td>\n",
       "      <td>5,613.00</td>\n",
       "      <td>86,430.00</td>\n",
       "      <td>2,855.00</td>\n",
       "      <td>15,249,370.18</td>\n",
       "      <td>270,130.00</td>\n",
       "      <td>2,370,150.48</td>\n",
       "    </tr>\n",
       "    <tr>\n",
       "      <th>75%</th>\n",
       "      <td>2,005.00</td>\n",
       "      <td>75,523,576.00</td>\n",
       "      <td>34,780.00</td>\n",
       "      <td>28,343,397.00</td>\n",
       "      <td>7,148.50</td>\n",
       "      <td>160,590.00</td>\n",
       "      <td>3,422.00</td>\n",
       "      <td>24,266,668.00</td>\n",
       "      <td>328,856.00</td>\n",
       "      <td>2,755,787.00</td>\n",
       "    </tr>\n",
       "    <tr>\n",
       "      <th>max</th>\n",
       "      <td>2,020.00</td>\n",
       "      <td>102,334,403.00</td>\n",
       "      <td>38,359.69</td>\n",
       "      <td>30,508,486.00</td>\n",
       "      <td>7,556.20</td>\n",
       "      <td>298,318.05</td>\n",
       "      <td>3,823.00</td>\n",
       "      <td>28,587,740.00</td>\n",
       "      <td>349,995.00</td>\n",
       "      <td>3,435,314.00</td>\n",
       "    </tr>\n",
       "  </tbody>\n",
       "</table>\n",
       "</div>"
      ],
      "text/plain": [
       "          year  population_total  agricultural_land_sq_km  \\\n",
       "count    61.00             61.00                    61.00   \n",
       "mean  1,990.00     58,277,667.08                30,272.41   \n",
       "std      17.75     22,191,817.18                 4,579.41   \n",
       "min   1,960.00     26,632,891.00                24,347.40   \n",
       "25%   1,975.00     38,549,133.00                25,810.00   \n",
       "50%   1,990.00     56,134,478.00                28,550.00   \n",
       "75%   2,005.00     75,523,576.00                34,780.00   \n",
       "max   2,020.00    102,334,403.00                38,359.69   \n",
       "\n",
       "       animals_production_head  cereal_yield_kg_per_hectare  co2_emissions_kt  \\\n",
       "count                    61.00                        61.00             61.00   \n",
       "mean             17,855,137.83                     5,484.91        101,839.96   \n",
       "std              10,165,755.75                     1,547.79         78,050.75   \n",
       "min               4,868,000.00                     2,905.70         16,054.13   \n",
       "25%               7,736,236.00                     3,964.20         31,099.83   \n",
       "50%              13,076,286.74                     5,613.00         86,430.00   \n",
       "75%              28,343,397.00                     7,148.50        160,590.00   \n",
       "max              30,508,486.00                     7,556.20        298,318.05   \n",
       "\n",
       "       land_area_equipped_for_irrigation_ha  cereal_crops_production_ton  \\\n",
       "count                                 61.00                        61.00   \n",
       "mean                               3,020.67                16,503,757.31   \n",
       "std                                  452.66                 7,596,615.08   \n",
       "min                                2,434.00                 5,770,680.00   \n",
       "25%                                2,581.00                 9,688,437.00   \n",
       "50%                                2,855.00                15,249,370.18   \n",
       "75%                                3,422.00                24,266,668.00   \n",
       "max                                3,823.00                28,587,740.00   \n",
       "\n",
       "       cereal_crops_yield_hg_ha  harvested_area_of_cereal_crops_ha  \n",
       "count                     61.00                              61.00  \n",
       "mean                 257,848.93                       2,411,516.73  \n",
       "std                   68,265.49                         511,903.12  \n",
       "min                  160,804.00                       1,625,595.00  \n",
       "25%                  190,124.00                       1,944,683.00  \n",
       "50%                  270,130.00                       2,370,150.48  \n",
       "75%                  328,856.00                       2,755,787.00  \n",
       "max                  349,995.00                       3,435,314.00  "
      ]
     },
     "execution_count": 99,
     "metadata": {},
     "output_type": "execute_result"
    }
   ],
   "source": [
    "imputed[nearly_cleaned].describe()"
   ]
  },
  {
   "cell_type": "markdown",
   "metadata": {},
   "source": [
    "When looking at the statistical values, we can see that there is nearly no change. As the value we have imputed are very few. therefore, the accuracy of imputation will be very high "
   ]
  },
  {
   "cell_type": "code",
   "execution_count": 100,
   "metadata": {
    "colab": {
     "base_uri": "https://localhost:8080/",
     "height": 317
    },
    "executionInfo": {
     "elapsed": 752,
     "status": "ok",
     "timestamp": 1631315203523,
     "user": {
      "displayName": "Aiad Mesak 201-700-790",
      "photoUrl": "https://lh3.googleusercontent.com/a-/AOh14GjaUxp1HutrdgtSdoJDgdR5AwGBVhHZZISkF0L9Xg=s64",
      "userId": "12349232382679184450"
     },
     "user_tz": -120
    },
    "id": "9eYX8ObE9VKS",
    "outputId": "b0da25a7-1a9a-44ef-8ade-41c950eebac1",
    "scrolled": true
   },
   "outputs": [
    {
     "data": {
      "text/html": [
       "<div>\n",
       "<style scoped>\n",
       "    .dataframe tbody tr th:only-of-type {\n",
       "        vertical-align: middle;\n",
       "    }\n",
       "\n",
       "    .dataframe tbody tr th {\n",
       "        vertical-align: top;\n",
       "    }\n",
       "\n",
       "    .dataframe thead th {\n",
       "        text-align: right;\n",
       "    }\n",
       "</style>\n",
       "<table border=\"1\" class=\"dataframe\">\n",
       "  <thead>\n",
       "    <tr style=\"text-align: right;\">\n",
       "      <th></th>\n",
       "      <th>methane_emissions_kt_of_co2_equivalent</th>\n",
       "      <th>nitrous_oxide_emissions_thousand_metric_tons_of_co2_equivalent</th>\n",
       "      <th>rainfall_mm</th>\n",
       "      <th>mintemp_c</th>\n",
       "      <th>maxtemp_c</th>\n",
       "    </tr>\n",
       "  </thead>\n",
       "  <tbody>\n",
       "    <tr>\n",
       "      <th>count</th>\n",
       "      <td>49.00</td>\n",
       "      <td>49.00</td>\n",
       "      <td>30.00</td>\n",
       "      <td>30.00</td>\n",
       "      <td>30.00</td>\n",
       "    </tr>\n",
       "    <tr>\n",
       "      <th>mean</th>\n",
       "      <td>36,890.91</td>\n",
       "      <td>17,140.40</td>\n",
       "      <td>2.75</td>\n",
       "      <td>15.73</td>\n",
       "      <td>30.33</td>\n",
       "    </tr>\n",
       "    <tr>\n",
       "      <th>std</th>\n",
       "      <td>14,575.74</td>\n",
       "      <td>4,832.38</td>\n",
       "      <td>0.61</td>\n",
       "      <td>0.52</td>\n",
       "      <td>0.54</td>\n",
       "    </tr>\n",
       "    <tr>\n",
       "      <th>min</th>\n",
       "      <td>19,836.80</td>\n",
       "      <td>7,888.60</td>\n",
       "      <td>1.88</td>\n",
       "      <td>14.54</td>\n",
       "      <td>29.08</td>\n",
       "    </tr>\n",
       "    <tr>\n",
       "      <th>25%</th>\n",
       "      <td>21,802.00</td>\n",
       "      <td>15,590.00</td>\n",
       "      <td>2.29</td>\n",
       "      <td>15.45</td>\n",
       "      <td>30.04</td>\n",
       "    </tr>\n",
       "    <tr>\n",
       "      <th>50%</th>\n",
       "      <td>34,550.00</td>\n",
       "      <td>17,876.65</td>\n",
       "      <td>2.75</td>\n",
       "      <td>15.77</td>\n",
       "      <td>30.31</td>\n",
       "    </tr>\n",
       "    <tr>\n",
       "      <th>75%</th>\n",
       "      <td>52,150.00</td>\n",
       "      <td>21,270.00</td>\n",
       "      <td>3.11</td>\n",
       "      <td>15.94</td>\n",
       "      <td>30.66</td>\n",
       "    </tr>\n",
       "    <tr>\n",
       "      <th>max</th>\n",
       "      <td>56,870.00</td>\n",
       "      <td>23,650.00</td>\n",
       "      <td>4.26</td>\n",
       "      <td>17.12</td>\n",
       "      <td>31.79</td>\n",
       "    </tr>\n",
       "  </tbody>\n",
       "</table>\n",
       "</div>"
      ],
      "text/plain": [
       "       methane_emissions_kt_of_co2_equivalent  \\\n",
       "count                                   49.00   \n",
       "mean                                36,890.91   \n",
       "std                                 14,575.74   \n",
       "min                                 19,836.80   \n",
       "25%                                 21,802.00   \n",
       "50%                                 34,550.00   \n",
       "75%                                 52,150.00   \n",
       "max                                 56,870.00   \n",
       "\n",
       "       nitrous_oxide_emissions_thousand_metric_tons_of_co2_equivalent  \\\n",
       "count                                                           49.00   \n",
       "mean                                                        17,140.40   \n",
       "std                                                          4,832.38   \n",
       "min                                                          7,888.60   \n",
       "25%                                                         15,590.00   \n",
       "50%                                                         17,876.65   \n",
       "75%                                                         21,270.00   \n",
       "max                                                         23,650.00   \n",
       "\n",
       "       rainfall_mm  mintemp_c  maxtemp_c  \n",
       "count        30.00      30.00      30.00  \n",
       "mean          2.75      15.73      30.33  \n",
       "std           0.61       0.52       0.54  \n",
       "min           1.88      14.54      29.08  \n",
       "25%           2.29      15.45      30.04  \n",
       "50%           2.75      15.77      30.31  \n",
       "75%           3.11      15.94      30.66  \n",
       "max           4.26      17.12      31.79  "
      ]
     },
     "execution_count": 100,
     "metadata": {},
     "output_type": "execute_result"
    }
   ],
   "source": [
    "final_data_to_be_imputed[feature_have_lessthan_50].describe()"
   ]
  },
  {
   "cell_type": "code",
   "execution_count": 101,
   "metadata": {
    "colab": {
     "base_uri": "https://localhost:8080/",
     "height": 317
    },
    "executionInfo": {
     "elapsed": 478,
     "status": "ok",
     "timestamp": 1631315231504,
     "user": {
      "displayName": "Aiad Mesak 201-700-790",
      "photoUrl": "https://lh3.googleusercontent.com/a-/AOh14GjaUxp1HutrdgtSdoJDgdR5AwGBVhHZZISkF0L9Xg=s64",
      "userId": "12349232382679184450"
     },
     "user_tz": -120
    },
    "id": "dukHBz9i9r1s",
    "outputId": "47137ff6-d97d-4f12-9dc0-a34e398204f7",
    "scrolled": false
   },
   "outputs": [
    {
     "data": {
      "text/html": [
       "<div>\n",
       "<style scoped>\n",
       "    .dataframe tbody tr th:only-of-type {\n",
       "        vertical-align: middle;\n",
       "    }\n",
       "\n",
       "    .dataframe tbody tr th {\n",
       "        vertical-align: top;\n",
       "    }\n",
       "\n",
       "    .dataframe thead th {\n",
       "        text-align: right;\n",
       "    }\n",
       "</style>\n",
       "<table border=\"1\" class=\"dataframe\">\n",
       "  <thead>\n",
       "    <tr style=\"text-align: right;\">\n",
       "      <th></th>\n",
       "      <th>methane_emissions_kt_of_co2_equivalent</th>\n",
       "      <th>nitrous_oxide_emissions_thousand_metric_tons_of_co2_equivalent</th>\n",
       "      <th>rainfall_mm</th>\n",
       "      <th>mintemp_c</th>\n",
       "      <th>maxtemp_c</th>\n",
       "    </tr>\n",
       "  </thead>\n",
       "  <tbody>\n",
       "    <tr>\n",
       "      <th>count</th>\n",
       "      <td>61.00</td>\n",
       "      <td>61.00</td>\n",
       "      <td>61.00</td>\n",
       "      <td>61.00</td>\n",
       "      <td>61.00</td>\n",
       "    </tr>\n",
       "    <tr>\n",
       "      <th>mean</th>\n",
       "      <td>33,430.91</td>\n",
       "      <td>15,155.57</td>\n",
       "      <td>0.58</td>\n",
       "      <td>14.55</td>\n",
       "      <td>30.41</td>\n",
       "    </tr>\n",
       "    <tr>\n",
       "      <th>std</th>\n",
       "      <td>15,749.73</td>\n",
       "      <td>7,188.82</td>\n",
       "      <td>2.62</td>\n",
       "      <td>1.45</td>\n",
       "      <td>0.39</td>\n",
       "    </tr>\n",
       "    <tr>\n",
       "      <th>min</th>\n",
       "      <td>8,061.76</td>\n",
       "      <td>-3,270.52</td>\n",
       "      <td>-5.01</td>\n",
       "      <td>11.72</td>\n",
       "      <td>29.08</td>\n",
       "    </tr>\n",
       "    <tr>\n",
       "      <th>25%</th>\n",
       "      <td>20,993.10</td>\n",
       "      <td>9,028.22</td>\n",
       "      <td>-1.40</td>\n",
       "      <td>13.45</td>\n",
       "      <td>30.29</td>\n",
       "    </tr>\n",
       "    <tr>\n",
       "      <th>50%</th>\n",
       "      <td>26,028.40</td>\n",
       "      <td>17,170.00</td>\n",
       "      <td>1.88</td>\n",
       "      <td>14.97</td>\n",
       "      <td>30.47</td>\n",
       "    </tr>\n",
       "    <tr>\n",
       "      <th>75%</th>\n",
       "      <td>49,970.00</td>\n",
       "      <td>20,980.00</td>\n",
       "      <td>2.78</td>\n",
       "      <td>15.77</td>\n",
       "      <td>30.60</td>\n",
       "    </tr>\n",
       "    <tr>\n",
       "      <th>max</th>\n",
       "      <td>56,870.00</td>\n",
       "      <td>27,763.23</td>\n",
       "      <td>4.26</td>\n",
       "      <td>17.12</td>\n",
       "      <td>31.79</td>\n",
       "    </tr>\n",
       "  </tbody>\n",
       "</table>\n",
       "</div>"
      ],
      "text/plain": [
       "       methane_emissions_kt_of_co2_equivalent  \\\n",
       "count                                   61.00   \n",
       "mean                                33,430.91   \n",
       "std                                 15,749.73   \n",
       "min                                  8,061.76   \n",
       "25%                                 20,993.10   \n",
       "50%                                 26,028.40   \n",
       "75%                                 49,970.00   \n",
       "max                                 56,870.00   \n",
       "\n",
       "       nitrous_oxide_emissions_thousand_metric_tons_of_co2_equivalent  \\\n",
       "count                                                           61.00   \n",
       "mean                                                        15,155.57   \n",
       "std                                                          7,188.82   \n",
       "min                                                         -3,270.52   \n",
       "25%                                                          9,028.22   \n",
       "50%                                                         17,170.00   \n",
       "75%                                                         20,980.00   \n",
       "max                                                         27,763.23   \n",
       "\n",
       "       rainfall_mm  mintemp_c  maxtemp_c  \n",
       "count        61.00      61.00      61.00  \n",
       "mean          0.58      14.55      30.41  \n",
       "std           2.62       1.45       0.39  \n",
       "min          -5.01      11.72      29.08  \n",
       "25%          -1.40      13.45      30.29  \n",
       "50%           1.88      14.97      30.47  \n",
       "75%           2.78      15.77      30.60  \n",
       "max           4.26      17.12      31.79  "
      ]
     },
     "execution_count": 101,
     "metadata": {},
     "output_type": "execute_result"
    }
   ],
   "source": [
    "imputed[feature_have_lessthan_50].describe()"
   ]
  },
  {
   "cell_type": "markdown",
   "metadata": {},
   "source": [
    "Here, we also can see that the distirbution are quite good. "
   ]
  },
  {
   "cell_type": "code",
   "execution_count": 102,
   "metadata": {
    "colab": {
     "base_uri": "https://localhost:8080/",
     "height": 317
    },
    "executionInfo": {
     "elapsed": 478,
     "status": "ok",
     "timestamp": 1631315231504,
     "user": {
      "displayName": "Aiad Mesak 201-700-790",
      "photoUrl": "https://lh3.googleusercontent.com/a-/AOh14GjaUxp1HutrdgtSdoJDgdR5AwGBVhHZZISkF0L9Xg=s64",
      "userId": "12349232382679184450"
     },
     "user_tz": -120
    },
    "id": "dukHBz9i9r1s",
    "outputId": "47137ff6-d97d-4f12-9dc0-a34e398204f7",
    "scrolled": true
   },
   "outputs": [
    {
     "data": {
      "text/html": [
       "<div>\n",
       "<style scoped>\n",
       "    .dataframe tbody tr th:only-of-type {\n",
       "        vertical-align: middle;\n",
       "    }\n",
       "\n",
       "    .dataframe tbody tr th {\n",
       "        vertical-align: top;\n",
       "    }\n",
       "\n",
       "    .dataframe thead th {\n",
       "        text-align: right;\n",
       "    }\n",
       "</style>\n",
       "<table border=\"1\" class=\"dataframe\">\n",
       "  <thead>\n",
       "    <tr style=\"text-align: right;\">\n",
       "      <th></th>\n",
       "      <th>water_use_efficiency_united_states_dollars_per_cubic_meter</th>\n",
       "      <th>level_of_water_stress_freshwater_withdrawal_as_a_proportion_of_available_freshwater_resources</th>\n",
       "      <th>climatic_water_deficit_annual_kg_m2</th>\n",
       "      <th>potential_evapotranspiration_annual_kg_m2</th>\n",
       "      <th>freshwater_abstracted_fresh_surface_water_abstracted_fresh_groundwater_abstracted_mio_m3_y</th>\n",
       "      <th>_agriculture_forestry_and_fishing_isic_01_03_mio_m3_y</th>\n",
       "      <th>_manufacturing_isic_10_33_mio_m3_y</th>\n",
       "    </tr>\n",
       "  </thead>\n",
       "  <tbody>\n",
       "    <tr>\n",
       "      <th>count</th>\n",
       "      <td>19.00</td>\n",
       "      <td>19.00</td>\n",
       "      <td>20.00</td>\n",
       "      <td>20.00</td>\n",
       "      <td>13.00</td>\n",
       "      <td>17.00</td>\n",
       "      <td>17.00</td>\n",
       "    </tr>\n",
       "    <tr>\n",
       "      <th>mean</th>\n",
       "      <td>3.41</td>\n",
       "      <td>114.74</td>\n",
       "      <td>67.04</td>\n",
       "      <td>80.73</td>\n",
       "      <td>61,434.46</td>\n",
       "      <td>54,681.18</td>\n",
       "      <td>1,647.53</td>\n",
       "    </tr>\n",
       "    <tr>\n",
       "      <th>std</th>\n",
       "      <td>0.81</td>\n",
       "      <td>6.13</td>\n",
       "      <td>1.62</td>\n",
       "      <td>1.82</td>\n",
       "      <td>2,057.73</td>\n",
       "      <td>6,521.39</td>\n",
       "      <td>746.95</td>\n",
       "    </tr>\n",
       "    <tr>\n",
       "      <th>min</th>\n",
       "      <td>2.37</td>\n",
       "      <td>103.90</td>\n",
       "      <td>64.63</td>\n",
       "      <td>77.82</td>\n",
       "      <td>57,914.00</td>\n",
       "      <td>45,900.00</td>\n",
       "      <td>1,040.00</td>\n",
       "    </tr>\n",
       "    <tr>\n",
       "      <th>25%</th>\n",
       "      <td>2.62</td>\n",
       "      <td>110.34</td>\n",
       "      <td>65.97</td>\n",
       "      <td>79.66</td>\n",
       "      <td>59,484.00</td>\n",
       "      <td>49,500.00</td>\n",
       "      <td>1,100.00</td>\n",
       "    </tr>\n",
       "    <tr>\n",
       "      <th>50%</th>\n",
       "      <td>3.28</td>\n",
       "      <td>115.60</td>\n",
       "      <td>66.66</td>\n",
       "      <td>80.42</td>\n",
       "      <td>62,200.00</td>\n",
       "      <td>53,000.00</td>\n",
       "      <td>1,200.00</td>\n",
       "    </tr>\n",
       "    <tr>\n",
       "      <th>75%</th>\n",
       "      <td>4.24</td>\n",
       "      <td>119.85</td>\n",
       "      <td>67.92</td>\n",
       "      <td>81.85</td>\n",
       "      <td>63,000.00</td>\n",
       "      <td>61,500.00</td>\n",
       "      <td>2,350.00</td>\n",
       "    </tr>\n",
       "    <tr>\n",
       "      <th>max</th>\n",
       "      <td>4.58</td>\n",
       "      <td>124.00</td>\n",
       "      <td>70.67</td>\n",
       "      <td>85.07</td>\n",
       "      <td>64,149.00</td>\n",
       "      <td>62,350.00</td>\n",
       "      <td>2,999.00</td>\n",
       "    </tr>\n",
       "  </tbody>\n",
       "</table>\n",
       "</div>"
      ],
      "text/plain": [
       "       water_use_efficiency_united_states_dollars_per_cubic_meter  \\\n",
       "count                                                       19.00   \n",
       "mean                                                         3.41   \n",
       "std                                                          0.81   \n",
       "min                                                          2.37   \n",
       "25%                                                          2.62   \n",
       "50%                                                          3.28   \n",
       "75%                                                          4.24   \n",
       "max                                                          4.58   \n",
       "\n",
       "       level_of_water_stress_freshwater_withdrawal_as_a_proportion_of_available_freshwater_resources  \\\n",
       "count                                                                                          19.00   \n",
       "mean                                                                                          114.74   \n",
       "std                                                                                             6.13   \n",
       "min                                                                                           103.90   \n",
       "25%                                                                                           110.34   \n",
       "50%                                                                                           115.60   \n",
       "75%                                                                                           119.85   \n",
       "max                                                                                           124.00   \n",
       "\n",
       "       climatic_water_deficit_annual_kg_m2  \\\n",
       "count                                20.00   \n",
       "mean                                 67.04   \n",
       "std                                   1.62   \n",
       "min                                  64.63   \n",
       "25%                                  65.97   \n",
       "50%                                  66.66   \n",
       "75%                                  67.92   \n",
       "max                                  70.67   \n",
       "\n",
       "       potential_evapotranspiration_annual_kg_m2  \\\n",
       "count                                      20.00   \n",
       "mean                                       80.73   \n",
       "std                                         1.82   \n",
       "min                                        77.82   \n",
       "25%                                        79.66   \n",
       "50%                                        80.42   \n",
       "75%                                        81.85   \n",
       "max                                        85.07   \n",
       "\n",
       "       freshwater_abstracted_fresh_surface_water_abstracted_fresh_groundwater_abstracted_mio_m3_y  \\\n",
       "count                                                                                       13.00   \n",
       "mean                                                                                    61,434.46   \n",
       "std                                                                                      2,057.73   \n",
       "min                                                                                     57,914.00   \n",
       "25%                                                                                     59,484.00   \n",
       "50%                                                                                     62,200.00   \n",
       "75%                                                                                     63,000.00   \n",
       "max                                                                                     64,149.00   \n",
       "\n",
       "       _agriculture_forestry_and_fishing_isic_01_03_mio_m3_y  \\\n",
       "count                                                  17.00   \n",
       "mean                                               54,681.18   \n",
       "std                                                 6,521.39   \n",
       "min                                                45,900.00   \n",
       "25%                                                49,500.00   \n",
       "50%                                                53,000.00   \n",
       "75%                                                61,500.00   \n",
       "max                                                62,350.00   \n",
       "\n",
       "       _manufacturing_isic_10_33_mio_m3_y  \n",
       "count                               17.00  \n",
       "mean                             1,647.53  \n",
       "std                                746.95  \n",
       "min                              1,040.00  \n",
       "25%                              1,100.00  \n",
       "50%                              1,200.00  \n",
       "75%                              2,350.00  \n",
       "max                              2,999.00  "
      ]
     },
     "execution_count": 102,
     "metadata": {},
     "output_type": "execute_result"
    }
   ],
   "source": [
    "final_data_to_be_imputed[feature_have_Higherthan_50].describe()"
   ]
  },
  {
   "cell_type": "code",
   "execution_count": 103,
   "metadata": {
    "colab": {
     "base_uri": "https://localhost:8080/",
     "height": 317
    },
    "executionInfo": {
     "elapsed": 478,
     "status": "ok",
     "timestamp": 1631315231504,
     "user": {
      "displayName": "Aiad Mesak 201-700-790",
      "photoUrl": "https://lh3.googleusercontent.com/a-/AOh14GjaUxp1HutrdgtSdoJDgdR5AwGBVhHZZISkF0L9Xg=s64",
      "userId": "12349232382679184450"
     },
     "user_tz": -120
    },
    "id": "dukHBz9i9r1s",
    "outputId": "47137ff6-d97d-4f12-9dc0-a34e398204f7",
    "scrolled": false
   },
   "outputs": [
    {
     "data": {
      "text/html": [
       "<div>\n",
       "<style scoped>\n",
       "    .dataframe tbody tr th:only-of-type {\n",
       "        vertical-align: middle;\n",
       "    }\n",
       "\n",
       "    .dataframe tbody tr th {\n",
       "        vertical-align: top;\n",
       "    }\n",
       "\n",
       "    .dataframe thead th {\n",
       "        text-align: right;\n",
       "    }\n",
       "</style>\n",
       "<table border=\"1\" class=\"dataframe\">\n",
       "  <thead>\n",
       "    <tr style=\"text-align: right;\">\n",
       "      <th></th>\n",
       "      <th>water_use_efficiency_united_states_dollars_per_cubic_meter</th>\n",
       "      <th>level_of_water_stress_freshwater_withdrawal_as_a_proportion_of_available_freshwater_resources</th>\n",
       "      <th>climatic_water_deficit_annual_kg_m2</th>\n",
       "      <th>potential_evapotranspiration_annual_kg_m2</th>\n",
       "      <th>freshwater_abstracted_fresh_surface_water_abstracted_fresh_groundwater_abstracted_mio_m3_y</th>\n",
       "      <th>_agriculture_forestry_and_fishing_isic_01_03_mio_m3_y</th>\n",
       "      <th>_manufacturing_isic_10_33_mio_m3_y</th>\n",
       "    </tr>\n",
       "  </thead>\n",
       "  <tbody>\n",
       "    <tr>\n",
       "      <th>count</th>\n",
       "      <td>61.00</td>\n",
       "      <td>61.00</td>\n",
       "      <td>61.00</td>\n",
       "      <td>61.00</td>\n",
       "      <td>61.00</td>\n",
       "      <td>61.00</td>\n",
       "      <td>61.00</td>\n",
       "    </tr>\n",
       "    <tr>\n",
       "      <th>mean</th>\n",
       "      <td>-1.05</td>\n",
       "      <td>114.95</td>\n",
       "      <td>49.38</td>\n",
       "      <td>80.73</td>\n",
       "      <td>-972.24</td>\n",
       "      <td>54,668.13</td>\n",
       "      <td>-189.95</td>\n",
       "    </tr>\n",
       "    <tr>\n",
       "      <th>std</th>\n",
       "      <td>4.03</td>\n",
       "      <td>29.47</td>\n",
       "      <td>18.10</td>\n",
       "      <td>1.03</td>\n",
       "      <td>47,090.18</td>\n",
       "      <td>3,367.90</td>\n",
       "      <td>4,644.91</td>\n",
       "    </tr>\n",
       "    <tr>\n",
       "      <th>min</th>\n",
       "      <td>-8.66</td>\n",
       "      <td>43.14</td>\n",
       "      <td>12.92</td>\n",
       "      <td>77.82</td>\n",
       "      <td>-85,393.03</td>\n",
       "      <td>45,900.00</td>\n",
       "      <td>-18,571.18</td>\n",
       "    </tr>\n",
       "    <tr>\n",
       "      <th>25%</th>\n",
       "      <td>-4.20</td>\n",
       "      <td>100.94</td>\n",
       "      <td>35.48</td>\n",
       "      <td>80.72</td>\n",
       "      <td>-34,853.13</td>\n",
       "      <td>54,612.44</td>\n",
       "      <td>-2,749.63</td>\n",
       "    </tr>\n",
       "    <tr>\n",
       "      <th>50%</th>\n",
       "      <td>-1.48</td>\n",
       "      <td>116.64</td>\n",
       "      <td>54.60</td>\n",
       "      <td>80.72</td>\n",
       "      <td>-22,179.99</td>\n",
       "      <td>54,655.17</td>\n",
       "      <td>1,200.00</td>\n",
       "    </tr>\n",
       "    <tr>\n",
       "      <th>75%</th>\n",
       "      <td>2.68</td>\n",
       "      <td>129.29</td>\n",
       "      <td>65.85</td>\n",
       "      <td>80.73</td>\n",
       "      <td>58,070.44</td>\n",
       "      <td>54,719.21</td>\n",
       "      <td>2,800.00</td>\n",
       "    </tr>\n",
       "    <tr>\n",
       "      <th>max</th>\n",
       "      <td>4.59</td>\n",
       "      <td>244.87</td>\n",
       "      <td>70.67</td>\n",
       "      <td>85.07</td>\n",
       "      <td>76,218.54</td>\n",
       "      <td>62,350.00</td>\n",
       "      <td>6,338.62</td>\n",
       "    </tr>\n",
       "  </tbody>\n",
       "</table>\n",
       "</div>"
      ],
      "text/plain": [
       "       water_use_efficiency_united_states_dollars_per_cubic_meter  \\\n",
       "count                                                       61.00   \n",
       "mean                                                        -1.05   \n",
       "std                                                          4.03   \n",
       "min                                                         -8.66   \n",
       "25%                                                         -4.20   \n",
       "50%                                                         -1.48   \n",
       "75%                                                          2.68   \n",
       "max                                                          4.59   \n",
       "\n",
       "       level_of_water_stress_freshwater_withdrawal_as_a_proportion_of_available_freshwater_resources  \\\n",
       "count                                                                                          61.00   \n",
       "mean                                                                                          114.95   \n",
       "std                                                                                            29.47   \n",
       "min                                                                                            43.14   \n",
       "25%                                                                                           100.94   \n",
       "50%                                                                                           116.64   \n",
       "75%                                                                                           129.29   \n",
       "max                                                                                           244.87   \n",
       "\n",
       "       climatic_water_deficit_annual_kg_m2  \\\n",
       "count                                61.00   \n",
       "mean                                 49.38   \n",
       "std                                  18.10   \n",
       "min                                  12.92   \n",
       "25%                                  35.48   \n",
       "50%                                  54.60   \n",
       "75%                                  65.85   \n",
       "max                                  70.67   \n",
       "\n",
       "       potential_evapotranspiration_annual_kg_m2  \\\n",
       "count                                      61.00   \n",
       "mean                                       80.73   \n",
       "std                                         1.03   \n",
       "min                                        77.82   \n",
       "25%                                        80.72   \n",
       "50%                                        80.72   \n",
       "75%                                        80.73   \n",
       "max                                        85.07   \n",
       "\n",
       "       freshwater_abstracted_fresh_surface_water_abstracted_fresh_groundwater_abstracted_mio_m3_y  \\\n",
       "count                                                                                       61.00   \n",
       "mean                                                                                      -972.24   \n",
       "std                                                                                     47,090.18   \n",
       "min                                                                                    -85,393.03   \n",
       "25%                                                                                    -34,853.13   \n",
       "50%                                                                                    -22,179.99   \n",
       "75%                                                                                     58,070.44   \n",
       "max                                                                                     76,218.54   \n",
       "\n",
       "       _agriculture_forestry_and_fishing_isic_01_03_mio_m3_y  \\\n",
       "count                                                  61.00   \n",
       "mean                                               54,668.13   \n",
       "std                                                 3,367.90   \n",
       "min                                                45,900.00   \n",
       "25%                                                54,612.44   \n",
       "50%                                                54,655.17   \n",
       "75%                                                54,719.21   \n",
       "max                                                62,350.00   \n",
       "\n",
       "       _manufacturing_isic_10_33_mio_m3_y  \n",
       "count                               61.00  \n",
       "mean                              -189.95  \n",
       "std                              4,644.91  \n",
       "min                            -18,571.18  \n",
       "25%                             -2,749.63  \n",
       "50%                              1,200.00  \n",
       "75%                              2,800.00  \n",
       "max                              6,338.62  "
      ]
     },
     "execution_count": 103,
     "metadata": {},
     "output_type": "execute_result"
    }
   ],
   "source": [
    "imputed[feature_have_Higherthan_50].describe()"
   ]
  },
  {
   "cell_type": "markdown",
   "metadata": {},
   "source": [
    "Here, there is a difference as it should be excpected. However, the values comparing to other disterbutions in the dataset,seems to be quite good and right."
   ]
  },
  {
   "cell_type": "markdown",
   "metadata": {},
   "source": [
    "## Summary"
   ]
  },
  {
   "cell_type": "markdown",
   "metadata": {},
   "source": [
    "the mice did better imputation than the Knn. "
   ]
  },
  {
   "cell_type": "code",
   "execution_count": 105,
   "metadata": {},
   "outputs": [],
   "source": [
    "imputed.to_csv( \"Imputed_using_mice\",index=False)"
   ]
  },
  {
   "cell_type": "code",
   "execution_count": null,
   "metadata": {},
   "outputs": [],
   "source": []
  }
 ],
 "metadata": {
  "colab": {
   "authorship_tag": "ABX9TyPHsC3zB0bHoePN0hxfWQPR",
   "collapsed_sections": [],
   "name": "Untitled",
   "provenance": []
  },
  "kernelspec": {
   "display_name": "Python 3",
   "language": "python",
   "name": "python3"
  },
  "language_info": {
   "codemirror_mode": {
    "name": "ipython",
    "version": 3
   },
   "file_extension": ".py",
   "mimetype": "text/x-python",
   "name": "python",
   "nbconvert_exporter": "python",
   "pygments_lexer": "ipython3",
   "version": "3.8.8"
  }
 },
 "nbformat": 4,
 "nbformat_minor": 1
}

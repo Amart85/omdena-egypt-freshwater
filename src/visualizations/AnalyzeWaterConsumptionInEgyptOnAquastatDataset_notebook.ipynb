{
 "cells": [
  {
   "cell_type": "markdown",
   "metadata": {},
   "source": [
    "## Analyze AQUASTAT dataset for Egypt water consumption\n",
    "\n",
    "This project will analyze water consumption in Egypt\n",
    "\n",
    "## Table of Contents\n",
    "- [Introduction](#intro)\n",
    "- [Part I - Exploratory analysis](#Exploratory_analysis)\n",
    "- [Part II - Data Cleaning](#Data_Cleaning)\n",
    "- [Part III - Explanatory Data Analysis](#ExplanatoryDataAnalysis)\n",
    "\n",
    "\n",
    "\n",
    "<a id='intro'></a>\n",
    "### Introduction\n",
    "\n",
    "This project will analyze water consumption in egypt, we will try to answer those questions:\n",
    "1. What is the resources for water in Egypt?\n",
    "2. What is the water withdrawal in agricultural, industrial, municipal compared to each other in Egypt?\n",
    "3. How much water we use in agriculture's products?\n",
    "4. How much rainfall water, flood and groundwater we use and How we can store it?\n",
    "5. How pollution affects water consumption?\n",
    "\n",
    "\n",
    "<a id='Exploratory_analysis'></a>\n",
    "#### Part I - Exploratory analysis\n",
    "\n",
    "import our libraries."
   ]
  },
  {
   "cell_type": "code",
   "execution_count": 1,
   "metadata": {},
   "outputs": [],
   "source": [
    "import pandas as pd\n",
    "import numpy as np\n",
    "import matplotlib.pyplot as plt\n",
    "import seaborn as sns\n",
    "%matplotlib inline\n"
   ]
  },
  {
   "cell_type": "markdown",
   "metadata": {},
   "source": [
    "`1.` Now, read in the `aquastat.csv` data. Store it in `df`.  \n",
    "\n",
    "a. Read in the dataset and take a look at the top few rows here:"
   ]
  },
  {
   "cell_type": "code",
   "execution_count": 2,
   "metadata": {},
   "outputs": [
    {
     "data": {
      "text/html": [
       "<div>\n",
       "<style scoped>\n",
       "    .dataframe tbody tr th:only-of-type {\n",
       "        vertical-align: middle;\n",
       "    }\n",
       "\n",
       "    .dataframe tbody tr th {\n",
       "        vertical-align: top;\n",
       "    }\n",
       "\n",
       "    .dataframe thead th {\n",
       "        text-align: right;\n",
       "    }\n",
       "</style>\n",
       "<table border=\"1\" class=\"dataframe\">\n",
       "  <thead>\n",
       "    <tr style=\"text-align: right;\">\n",
       "      <th></th>\n",
       "      <th>Area</th>\n",
       "      <th>Area Id</th>\n",
       "      <th>Variable Name</th>\n",
       "      <th>Variable Id</th>\n",
       "      <th>Year</th>\n",
       "      <th>Value</th>\n",
       "      <th>Symbol</th>\n",
       "      <th>Md</th>\n",
       "      <th>Unnamed: 8</th>\n",
       "    </tr>\n",
       "  </thead>\n",
       "  <tbody>\n",
       "    <tr>\n",
       "      <th>0</th>\n",
       "      <td>Egypt</td>\n",
       "      <td>818</td>\n",
       "      <td>Total area of the country (excl. coastal water)</td>\n",
       "      <td>4100</td>\n",
       "      <td>1992</td>\n",
       "      <td>100145.0</td>\n",
       "      <td>X</td>\n",
       "      <td>NaN</td>\n",
       "      <td>6768</td>\n",
       "    </tr>\n",
       "    <tr>\n",
       "      <th>1</th>\n",
       "      <td>Egypt</td>\n",
       "      <td>818</td>\n",
       "      <td>Total area of the country (excl. coastal water)</td>\n",
       "      <td>4100</td>\n",
       "      <td>1997</td>\n",
       "      <td>100145.0</td>\n",
       "      <td>X</td>\n",
       "      <td>NaN</td>\n",
       "      <td>6768</td>\n",
       "    </tr>\n",
       "    <tr>\n",
       "      <th>2</th>\n",
       "      <td>Egypt</td>\n",
       "      <td>818</td>\n",
       "      <td>Total area of the country (excl. coastal water)</td>\n",
       "      <td>4100</td>\n",
       "      <td>2002</td>\n",
       "      <td>100145.0</td>\n",
       "      <td>X</td>\n",
       "      <td>NaN</td>\n",
       "      <td>6768</td>\n",
       "    </tr>\n",
       "    <tr>\n",
       "      <th>3</th>\n",
       "      <td>Egypt</td>\n",
       "      <td>818</td>\n",
       "      <td>Total area of the country (excl. coastal water)</td>\n",
       "      <td>4100</td>\n",
       "      <td>2007</td>\n",
       "      <td>100145.0</td>\n",
       "      <td>X</td>\n",
       "      <td>NaN</td>\n",
       "      <td>6768</td>\n",
       "    </tr>\n",
       "    <tr>\n",
       "      <th>4</th>\n",
       "      <td>Egypt</td>\n",
       "      <td>818</td>\n",
       "      <td>Total area of the country (excl. coastal water)</td>\n",
       "      <td>4100</td>\n",
       "      <td>2012</td>\n",
       "      <td>100145.0</td>\n",
       "      <td>X</td>\n",
       "      <td>NaN</td>\n",
       "      <td>6768</td>\n",
       "    </tr>\n",
       "  </tbody>\n",
       "</table>\n",
       "</div>"
      ],
      "text/plain": [
       "    Area  Area Id                                    Variable Name  \\\n",
       "0  Egypt      818  Total area of the country (excl. coastal water)   \n",
       "1  Egypt      818  Total area of the country (excl. coastal water)   \n",
       "2  Egypt      818  Total area of the country (excl. coastal water)   \n",
       "3  Egypt      818  Total area of the country (excl. coastal water)   \n",
       "4  Egypt      818  Total area of the country (excl. coastal water)   \n",
       "\n",
       "   Variable Id  Year     Value Symbol   Md  Unnamed: 8  \n",
       "0         4100  1992  100145.0      X  NaN        6768  \n",
       "1         4100  1997  100145.0      X  NaN        6768  \n",
       "2         4100  2002  100145.0      X  NaN        6768  \n",
       "3         4100  2007  100145.0      X  NaN        6768  \n",
       "4         4100  2012  100145.0      X  NaN        6768  "
      ]
     },
     "execution_count": 2,
     "metadata": {},
     "output_type": "execute_result"
    }
   ],
   "source": [
    "# read the dataset,and print the top few rows\n",
    "df=pd.read_csv('Omdena/Egypt-LocalChapter/Water-Consumption/omdena-egypt-freshwater/src/data/Un Cleaned Datasets/aquastat.csv')\n",
    "df.head()"
   ]
  },
  {
   "cell_type": "markdown",
   "metadata": {},
   "source": [
    "b. Use the below cell to find the number of rows in the dataset."
   ]
  },
  {
   "cell_type": "code",
   "execution_count": 3,
   "metadata": {},
   "outputs": [
    {
     "data": {
      "text/plain": [
       "856"
      ]
     },
     "execution_count": 3,
     "metadata": {},
     "output_type": "execute_result"
    }
   ],
   "source": [
    "# print the number of rows in the dataset\n",
    "df.shape[0]"
   ]
  },
  {
   "cell_type": "markdown",
   "metadata": {},
   "source": [
    "c. The number of unique features in the dataset."
   ]
  },
  {
   "cell_type": "code",
   "execution_count": 4,
   "metadata": {},
   "outputs": [
    {
     "data": {
      "text/plain": [
       "166"
      ]
     },
     "execution_count": 4,
     "metadata": {},
     "output_type": "execute_result"
    }
   ],
   "source": [
    "# print the number of unique features in the dataset\n",
    "df['Variable Name'].nunique()"
   ]
  },
  {
   "cell_type": "markdown",
   "metadata": {
    "collapsed": true
   },
   "source": [
    "d. The features."
   ]
  },
  {
   "cell_type": "code",
   "execution_count": 5,
   "metadata": {},
   "outputs": [
    {
     "data": {
      "text/plain": [
       "array(['Total area of the country (excl. coastal water)',\n",
       "       'Arable land area', 'Permanent crops area',\n",
       "       'Cultivated area (arable land + permanent crops)',\n",
       "       '% of total country area cultivated',\n",
       "       '% of cultivated land irrigated [harvested crop]',\n",
       "       'Total population', 'Rural population', 'Urban population',\n",
       "       'Population density', 'Gross Domestic Product (GDP)',\n",
       "       'GDP per capita', 'Agriculture, value added (% GDP)',\n",
       "       'Agriculture, value added to GDP', 'Industry, value added to GDP',\n",
       "       'Services, value added to GDP',\n",
       "       'Human Development Index (HDI) [highest = 1]',\n",
       "       'Gender Inequality Index (GII) [equality = 0; inequality = 1)',\n",
       "       'Prevalence of undernourishment (3-year average)',\n",
       "       'Number of people undernourished (3-year average)',\n",
       "       '% of agricultural GVA produced by irrigated agriculture',\n",
       "       'GDP Deflator (2015)',\n",
       "       'Long-term average annual precipitation in depth',\n",
       "       'Long-term average annual precipitation in volume',\n",
       "       'National Rainfall Index (NRI)',\n",
       "       'Surface water produced internally',\n",
       "       'Groundwater produced internally',\n",
       "       'Overlap between surface water and groundwater',\n",
       "       'Total internal renewable water resources (IRWR)',\n",
       "       'Total internal renewable water resources per capita',\n",
       "       'Surface water: entering the country (total)',\n",
       "       'Surface water: inflow not submitted to treaties',\n",
       "       'Surface water: inflow submitted to treaties',\n",
       "       'Surface water: inflow secured through treaties',\n",
       "       'Surface water: total flow of border rivers',\n",
       "       'Surface water: accounted flow of border rivers',\n",
       "       'Surface water: accounted inflow',\n",
       "       'Surface water: leaving the country to other countries (total)',\n",
       "       'Surface water: outflow to other countries not submitted to treaties',\n",
       "       'Surface water: outflow to other countries submitted to treaties',\n",
       "       'Surface water: outflow to other countries secured through treaties',\n",
       "       'Surface water: total external renewable',\n",
       "       'Groundwater: entering the country (total)',\n",
       "       'Groundwater: accounted inflow',\n",
       "       'Groundwater: leaving the country to other countries (total)',\n",
       "       'Groundwater: accounted outflow to other countries',\n",
       "       'Water resources: total external renewable',\n",
       "       'Total renewable surface water', 'Total renewable groundwater',\n",
       "       'Overlap: between surface water and groundwater',\n",
       "       'Total renewable water resources', 'Dependency ratio',\n",
       "       'Total renewable water resources per capita',\n",
       "       'Exploitable: regular renewable surface water',\n",
       "       'Exploitable: irregular renewable surface water',\n",
       "       'Exploitable: total renewable surface water',\n",
       "       'Exploitable: regular renewable groundwater',\n",
       "       'Total exploitable water resources',\n",
       "       'Interannual variability (WRI)', 'Seasonal variability (WRI)',\n",
       "       'Total dam capacity', 'Dam capacity per capita',\n",
       "       'Agricultural water withdrawal', 'Industrial water withdrawal',\n",
       "       'Municipal water withdrawal', 'Total water withdrawal',\n",
       "       'Irrigation water requirement',\n",
       "       'Agricultural water withdrawal as % of total water withdrawal',\n",
       "       'Industrial water withdrawal as % of total water withdrawal',\n",
       "       'Municipal water withdrawal as % of total withdrawal',\n",
       "       'Total water withdrawal per capita',\n",
       "       'Environmental Flow Requirements',\n",
       "       'Fresh surface water withdrawal', 'Fresh groundwater withdrawal',\n",
       "       'Total freshwater withdrawal', 'Desalinated water produced',\n",
       "       'Direct use of treated municipal wastewater',\n",
       "       'Direct use of agricultural drainage water',\n",
       "       'Produced municipal wastewater', 'Collected municipal wastewater',\n",
       "       'Treated municipal wastewater',\n",
       "       'Number of municipal wastewater treatment facilities',\n",
       "       'Capacity of the municipal wastewater treatment facilities',\n",
       "       'Not treated municipal wastewater',\n",
       "       'Treated municipal wastewater discharged (secondary water)',\n",
       "       'Not treated municipal wastewater discharged (secondary water)',\n",
       "       'Direct use of treated municipal wastewater for irrigation purposes',\n",
       "       'Area equipped for irrigation by direct use of treated municipal wastewater',\n",
       "       'MDG 7.5. Freshwater withdrawal as % of total renewable water resources',\n",
       "       'Agricultural water withdrawal as % of total renewable water resources',\n",
       "       'SDG 6.4.2. Water Stress', 'SDG 6.4.1. Water Use Efficiency',\n",
       "       'SDG 6.4.1. Irrigated Agriculture Water Use Efficiency',\n",
       "       'SDG 6.4.1. Industrial Water Use Efficiency',\n",
       "       'SDG 6.4.1. Services Water Use Efficiency', 'Irrigation potential',\n",
       "       'Area equipped for full control irrigation: surface irrigation',\n",
       "       'Area equipped for full control irrigation: sprinkler irrigation',\n",
       "       'Area equipped for full control irrigation: localized irrigation',\n",
       "       'Area equipped for full control irrigation: total',\n",
       "       'Area equipped for full control irrigation: actually irrigated',\n",
       "       '% of area equipped for full control irrigation actually irrigated',\n",
       "       'Area equipped for irrigation: equipped lowland areas',\n",
       "       'Area equipped for irrigation: spate irrigation',\n",
       "       'Area equipped for irrigation: total',\n",
       "       'Area equipped for irrigation: actually irrigated',\n",
       "       '% of the area equipped for irrigation actually irrigated',\n",
       "       '% of the cultivated area equipped for irrigation',\n",
       "       '% of irrigation potential equipped for irrigation',\n",
       "       'Flood recession cropping area non-equipped',\n",
       "       'Cultivated wetlands and inland valley bottoms non-equipped',\n",
       "       'Total agricultural water managed area',\n",
       "       '% of agricultural water managed area equipped for irrigation',\n",
       "       'Area equipped for irrigation by surface water',\n",
       "       'Area equipped for irrigation by groundwater',\n",
       "       'Area equipped for irrigation by mixed surface water and groundwater',\n",
       "       '% of area equipped for irrigation by surface water',\n",
       "       '% of area equipped for irrigation by groundwater',\n",
       "       '% of area equipped for irrigation by mixed surface water and groundwater',\n",
       "       '% of area equipped for irrigation by direct use of  treated municipal wastewater',\n",
       "       'Area equipped for power irrigation (surface water or groundwater)',\n",
       "       '% of area equipped for irrigation power irrigated',\n",
       "       'Total harvested irrigated crop area (full control irrigation)',\n",
       "       'Harvested irrigated temporary crop area: Total',\n",
       "       'Harvested irrigated permanent crop area: Total',\n",
       "       'Irrigated cropping intensity',\n",
       "       'Harvested irrigated temporary crop area: Wheat',\n",
       "       'Harvested irrigated temporary crop area: Rice',\n",
       "       'Harvested irrigated temporary crop area: Barley',\n",
       "       'Harvested irrigated temporary crop area: Maize',\n",
       "       'Harvested irrigated temporary crop area: Millet',\n",
       "       'Harvested irrigated temporary crop area: Sorghum',\n",
       "       'Harvested irrigated temporary crop area: Other cereals',\n",
       "       'Harvested irrigated temporary crop area: Vegetables',\n",
       "       'Harvested irrigated temporary crop area: Soybeans',\n",
       "       'Harvested irrigated temporary crop area: Groundnuts',\n",
       "       'Harvested irrigated temporary crop area: Sesame',\n",
       "       'Harvested irrigated temporary crop area: Sunflower',\n",
       "       'Harvested irrigated temporary crop area: Potatoes',\n",
       "       'Harvested irrigated temporary crop area: Sweet potatoes',\n",
       "       'Harvested irrigated temporary crop area: Other roots and tubers',\n",
       "       'Harvested irrigated temporary crop area: Leguminous crops',\n",
       "       'Harvested irrigated temporary crop area: Sugar beet',\n",
       "       'Harvested irrigated temporary crop area: Sugarcane',\n",
       "       'Harvested irrigated temporary crop area: Fodder',\n",
       "       'Harvested irrigated temporary crop area: Cotton',\n",
       "       'Harvested irrigated temporary crop area: Flowers',\n",
       "       'Harvested irrigated temporary crop area: Other crops',\n",
       "       'Harvested irrigated permanent crop area: Bananas',\n",
       "       'Harvested irrigated permanent crop area: Citrus',\n",
       "       'Harvested irrigated permanent crop area: Grapes',\n",
       "       'Harvested irrigated permanent crop area: Other fruits',\n",
       "       'Harvested irrigated permanent crop area: Olives',\n",
       "       'Harvested irrigated permanent crop area: Other crops',\n",
       "       '% of total grain production irrigated',\n",
       "       'Area equipped for irrigation drained',\n",
       "       'Non-irrigated cultivated area drained',\n",
       "       'Total cultivated area drained',\n",
       "       '% of area equipped for irrigation drained',\n",
       "       '% of total cultivated area drained',\n",
       "       'Area salinized by irrigation',\n",
       "       '% of area equipped for irrigation salinized',\n",
       "       'Flood occurrence (WRI)',\n",
       "       'Total population with access to safe drinking-water (JMP)',\n",
       "       'Rural population with access to safe drinking-water (JMP)',\n",
       "       'Urban population with access to safe drinking-water (JMP)'],\n",
       "      dtype=object)"
      ]
     },
     "execution_count": 5,
     "metadata": {},
     "output_type": "execute_result"
    }
   ],
   "source": [
    "# print the features \n",
    "df['Variable Name'].unique()"
   ]
  },
  {
   "cell_type": "markdown",
   "metadata": {},
   "source": [
    "f. Do any of the rows have missing values?"
   ]
  },
  {
   "cell_type": "code",
   "execution_count": 6,
   "metadata": {},
   "outputs": [
    {
     "data": {
      "text/plain": [
       "Area             False\n",
       "Area Id          False\n",
       "Variable Name    False\n",
       "Variable Id      False\n",
       "Year             False\n",
       "Value             True\n",
       "Symbol            True\n",
       "Md                True\n",
       "Unnamed: 8       False\n",
       "dtype: bool"
      ]
     },
     "execution_count": 6,
     "metadata": {},
     "output_type": "execute_result"
    }
   ],
   "source": [
    "# check if any of the rows have missing values\n",
    "df.isnull().any()"
   ]
  },
  {
   "cell_type": "code",
   "execution_count": 7,
   "metadata": {},
   "outputs": [
    {
     "data": {
      "text/plain": [
       "23"
      ]
     },
     "execution_count": 7,
     "metadata": {},
     "output_type": "execute_result"
    }
   ],
   "source": [
    "# number of missing values in value column\n",
    "df['Value'].isnull().sum()"
   ]
  },
  {
   "cell_type": "markdown",
   "metadata": {
    "collapsed": true
   },
   "source": [
    "b. Is there duplicate  values?"
   ]
  },
  {
   "cell_type": "code",
   "execution_count": 8,
   "metadata": {},
   "outputs": [
    {
     "data": {
      "text/plain": [
       "0"
      ]
     },
     "execution_count": 8,
     "metadata": {},
     "output_type": "execute_result"
    }
   ],
   "source": [
    "# check if there is duplicate  values\n",
    "df.duplicated().sum()"
   ]
  },
  {
   "cell_type": "code",
   "execution_count": 9,
   "metadata": {},
   "outputs": [
    {
     "name": "stdout",
     "output_type": "stream",
     "text": [
      "<class 'pandas.core.frame.DataFrame'>\n",
      "RangeIndex: 856 entries, 0 to 855\n",
      "Data columns (total 9 columns):\n",
      " #   Column         Non-Null Count  Dtype  \n",
      "---  ------         --------------  -----  \n",
      " 0   Area           856 non-null    object \n",
      " 1   Area Id        856 non-null    int64  \n",
      " 2   Variable Name  856 non-null    object \n",
      " 3   Variable Id    856 non-null    int64  \n",
      " 4   Year           856 non-null    int64  \n",
      " 5   Value          833 non-null    float64\n",
      " 6   Symbol         672 non-null    object \n",
      " 7   Md             52 non-null     object \n",
      " 8   Unnamed: 8     856 non-null    int64  \n",
      "dtypes: float64(1), int64(4), object(4)\n",
      "memory usage: 60.3+ KB\n"
     ]
    }
   ],
   "source": [
    "# info description\n",
    "df.info()"
   ]
  },
  {
   "cell_type": "code",
   "execution_count": 10,
   "metadata": {},
   "outputs": [
    {
     "data": {
      "text/html": [
       "<div>\n",
       "<style scoped>\n",
       "    .dataframe tbody tr th:only-of-type {\n",
       "        vertical-align: middle;\n",
       "    }\n",
       "\n",
       "    .dataframe tbody tr th {\n",
       "        vertical-align: top;\n",
       "    }\n",
       "\n",
       "    .dataframe thead th {\n",
       "        text-align: right;\n",
       "    }\n",
       "</style>\n",
       "<table border=\"1\" class=\"dataframe\">\n",
       "  <thead>\n",
       "    <tr style=\"text-align: right;\">\n",
       "      <th></th>\n",
       "      <th>Area Id</th>\n",
       "      <th>Variable Id</th>\n",
       "      <th>Year</th>\n",
       "      <th>Value</th>\n",
       "      <th>Unnamed: 8</th>\n",
       "    </tr>\n",
       "  </thead>\n",
       "  <tbody>\n",
       "    <tr>\n",
       "      <th>count</th>\n",
       "      <td>856.0</td>\n",
       "      <td>856.000000</td>\n",
       "      <td>856.000000</td>\n",
       "      <td>8.330000e+02</td>\n",
       "      <td>856.000000</td>\n",
       "    </tr>\n",
       "    <tr>\n",
       "      <th>mean</th>\n",
       "      <td>818.0</td>\n",
       "      <td>4317.304907</td>\n",
       "      <td>2005.678738</td>\n",
       "      <td>1.944360e+09</td>\n",
       "      <td>1386.204439</td>\n",
       "    </tr>\n",
       "    <tr>\n",
       "      <th>std</th>\n",
       "      <td>0.0</td>\n",
       "      <td>141.096812</td>\n",
       "      <td>8.192612</td>\n",
       "      <td>1.578009e+10</td>\n",
       "      <td>2537.716373</td>\n",
       "    </tr>\n",
       "    <tr>\n",
       "      <th>min</th>\n",
       "      <td>818.0</td>\n",
       "      <td>4100.000000</td>\n",
       "      <td>1988.000000</td>\n",
       "      <td>0.000000e+00</td>\n",
       "      <td>0.000000</td>\n",
       "    </tr>\n",
       "    <tr>\n",
       "      <th>25%</th>\n",
       "      <td>818.0</td>\n",
       "      <td>4182.000000</td>\n",
       "      <td>1997.000000</td>\n",
       "      <td>5.100000e+00</td>\n",
       "      <td>0.000000</td>\n",
       "    </tr>\n",
       "    <tr>\n",
       "      <th>50%</th>\n",
       "      <td>818.0</td>\n",
       "      <td>4318.000000</td>\n",
       "      <td>2007.000000</td>\n",
       "      <td>7.685064e+01</td>\n",
       "      <td>0.000000</td>\n",
       "    </tr>\n",
       "    <tr>\n",
       "      <th>75%</th>\n",
       "      <td>818.0</td>\n",
       "      <td>4452.250000</td>\n",
       "      <td>2012.000000</td>\n",
       "      <td>3.830000e+02</td>\n",
       "      <td>1534.000000</td>\n",
       "    </tr>\n",
       "    <tr>\n",
       "      <th>max</th>\n",
       "      <td>818.0</td>\n",
       "      <td>4558.000000</td>\n",
       "      <td>2017.000000</td>\n",
       "      <td>2.770000e+11</td>\n",
       "      <td>7016.000000</td>\n",
       "    </tr>\n",
       "  </tbody>\n",
       "</table>\n",
       "</div>"
      ],
      "text/plain": [
       "       Area Id  Variable Id         Year         Value   Unnamed: 8\n",
       "count    856.0   856.000000   856.000000  8.330000e+02   856.000000\n",
       "mean     818.0  4317.304907  2005.678738  1.944360e+09  1386.204439\n",
       "std        0.0   141.096812     8.192612  1.578009e+10  2537.716373\n",
       "min      818.0  4100.000000  1988.000000  0.000000e+00     0.000000\n",
       "25%      818.0  4182.000000  1997.000000  5.100000e+00     0.000000\n",
       "50%      818.0  4318.000000  2007.000000  7.685064e+01     0.000000\n",
       "75%      818.0  4452.250000  2012.000000  3.830000e+02  1534.000000\n",
       "max      818.0  4558.000000  2017.000000  2.770000e+11  7016.000000"
      ]
     },
     "execution_count": 10,
     "metadata": {},
     "output_type": "execute_result"
    }
   ],
   "source": [
    "# statistcs description\n",
    "df.describe()"
   ]
  },
  {
   "cell_type": "markdown",
   "metadata": {},
   "source": [
    "<a id='Data_Cleaning'></a>\n",
    "### Part II - Data Cleaning\n"
   ]
  },
  {
   "cell_type": "code",
   "execution_count": 11,
   "metadata": {},
   "outputs": [
    {
     "data": {
      "text/html": [
       "<div>\n",
       "<style scoped>\n",
       "    .dataframe tbody tr th:only-of-type {\n",
       "        vertical-align: middle;\n",
       "    }\n",
       "\n",
       "    .dataframe tbody tr th {\n",
       "        vertical-align: top;\n",
       "    }\n",
       "\n",
       "    .dataframe thead th {\n",
       "        text-align: right;\n",
       "    }\n",
       "</style>\n",
       "<table border=\"1\" class=\"dataframe\">\n",
       "  <thead>\n",
       "    <tr style=\"text-align: right;\">\n",
       "      <th></th>\n",
       "      <th>Area</th>\n",
       "      <th>Variable Name</th>\n",
       "      <th>Variable Id</th>\n",
       "      <th>Year</th>\n",
       "      <th>Value</th>\n",
       "    </tr>\n",
       "  </thead>\n",
       "  <tbody>\n",
       "    <tr>\n",
       "      <th>0</th>\n",
       "      <td>Egypt</td>\n",
       "      <td>Total area of the country (excl. coastal water)</td>\n",
       "      <td>4100</td>\n",
       "      <td>1992</td>\n",
       "      <td>100145.0</td>\n",
       "    </tr>\n",
       "    <tr>\n",
       "      <th>1</th>\n",
       "      <td>Egypt</td>\n",
       "      <td>Total area of the country (excl. coastal water)</td>\n",
       "      <td>4100</td>\n",
       "      <td>1997</td>\n",
       "      <td>100145.0</td>\n",
       "    </tr>\n",
       "    <tr>\n",
       "      <th>2</th>\n",
       "      <td>Egypt</td>\n",
       "      <td>Total area of the country (excl. coastal water)</td>\n",
       "      <td>4100</td>\n",
       "      <td>2002</td>\n",
       "      <td>100145.0</td>\n",
       "    </tr>\n",
       "    <tr>\n",
       "      <th>3</th>\n",
       "      <td>Egypt</td>\n",
       "      <td>Total area of the country (excl. coastal water)</td>\n",
       "      <td>4100</td>\n",
       "      <td>2007</td>\n",
       "      <td>100145.0</td>\n",
       "    </tr>\n",
       "    <tr>\n",
       "      <th>4</th>\n",
       "      <td>Egypt</td>\n",
       "      <td>Total area of the country (excl. coastal water)</td>\n",
       "      <td>4100</td>\n",
       "      <td>2012</td>\n",
       "      <td>100145.0</td>\n",
       "    </tr>\n",
       "  </tbody>\n",
       "</table>\n",
       "</div>"
      ],
      "text/plain": [
       "    Area                                    Variable Name  Variable Id  Year  \\\n",
       "0  Egypt  Total area of the country (excl. coastal water)         4100  1992   \n",
       "1  Egypt  Total area of the country (excl. coastal water)         4100  1997   \n",
       "2  Egypt  Total area of the country (excl. coastal water)         4100  2002   \n",
       "3  Egypt  Total area of the country (excl. coastal water)         4100  2007   \n",
       "4  Egypt  Total area of the country (excl. coastal water)         4100  2012   \n",
       "\n",
       "      Value  \n",
       "0  100145.0  \n",
       "1  100145.0  \n",
       "2  100145.0  \n",
       "3  100145.0  \n",
       "4  100145.0  "
      ]
     },
     "execution_count": 11,
     "metadata": {},
     "output_type": "execute_result"
    }
   ],
   "source": [
    "# drop unimportant columns\n",
    "df=df.drop(['Area Id','Symbol','Md','Unnamed: 8'],axis = 1)\n",
    "df.head()"
   ]
  },
  {
   "cell_type": "code",
   "execution_count": 12,
   "metadata": {},
   "outputs": [
    {
     "data": {
      "text/html": [
       "<div>\n",
       "<style scoped>\n",
       "    .dataframe tbody tr th:only-of-type {\n",
       "        vertical-align: middle;\n",
       "    }\n",
       "\n",
       "    .dataframe tbody tr th {\n",
       "        vertical-align: top;\n",
       "    }\n",
       "\n",
       "    .dataframe thead th {\n",
       "        text-align: right;\n",
       "    }\n",
       "</style>\n",
       "<table border=\"1\" class=\"dataframe\">\n",
       "  <thead>\n",
       "    <tr style=\"text-align: right;\">\n",
       "      <th></th>\n",
       "      <th>Area</th>\n",
       "      <th>Variable_Name</th>\n",
       "      <th>Variable_Id</th>\n",
       "      <th>Year</th>\n",
       "      <th>Value</th>\n",
       "    </tr>\n",
       "  </thead>\n",
       "  <tbody>\n",
       "    <tr>\n",
       "      <th>0</th>\n",
       "      <td>Egypt</td>\n",
       "      <td>Total area of the country (excl. coastal water)</td>\n",
       "      <td>4100</td>\n",
       "      <td>1992</td>\n",
       "      <td>100145.0</td>\n",
       "    </tr>\n",
       "    <tr>\n",
       "      <th>1</th>\n",
       "      <td>Egypt</td>\n",
       "      <td>Total area of the country (excl. coastal water)</td>\n",
       "      <td>4100</td>\n",
       "      <td>1997</td>\n",
       "      <td>100145.0</td>\n",
       "    </tr>\n",
       "    <tr>\n",
       "      <th>2</th>\n",
       "      <td>Egypt</td>\n",
       "      <td>Total area of the country (excl. coastal water)</td>\n",
       "      <td>4100</td>\n",
       "      <td>2002</td>\n",
       "      <td>100145.0</td>\n",
       "    </tr>\n",
       "    <tr>\n",
       "      <th>3</th>\n",
       "      <td>Egypt</td>\n",
       "      <td>Total area of the country (excl. coastal water)</td>\n",
       "      <td>4100</td>\n",
       "      <td>2007</td>\n",
       "      <td>100145.0</td>\n",
       "    </tr>\n",
       "    <tr>\n",
       "      <th>4</th>\n",
       "      <td>Egypt</td>\n",
       "      <td>Total area of the country (excl. coastal water)</td>\n",
       "      <td>4100</td>\n",
       "      <td>2012</td>\n",
       "      <td>100145.0</td>\n",
       "    </tr>\n",
       "  </tbody>\n",
       "</table>\n",
       "</div>"
      ],
      "text/plain": [
       "    Area                                    Variable_Name  Variable_Id  Year  \\\n",
       "0  Egypt  Total area of the country (excl. coastal water)         4100  1992   \n",
       "1  Egypt  Total area of the country (excl. coastal water)         4100  1997   \n",
       "2  Egypt  Total area of the country (excl. coastal water)         4100  2002   \n",
       "3  Egypt  Total area of the country (excl. coastal water)         4100  2007   \n",
       "4  Egypt  Total area of the country (excl. coastal water)         4100  2012   \n",
       "\n",
       "      Value  \n",
       "0  100145.0  \n",
       "1  100145.0  \n",
       "2  100145.0  \n",
       "3  100145.0  \n",
       "4  100145.0  "
      ]
     },
     "execution_count": 12,
     "metadata": {},
     "output_type": "execute_result"
    }
   ],
   "source": [
    "# rename columns\n",
    "df.columns=df.columns.str.replace(' ','_')\n",
    "df.head()"
   ]
  },
  {
   "cell_type": "code",
   "execution_count": 13,
   "metadata": {
    "scrolled": true
   },
   "outputs": [
    {
     "data": {
      "text/html": [
       "<div>\n",
       "<style scoped>\n",
       "    .dataframe tbody tr th:only-of-type {\n",
       "        vertical-align: middle;\n",
       "    }\n",
       "\n",
       "    .dataframe tbody tr th {\n",
       "        vertical-align: top;\n",
       "    }\n",
       "\n",
       "    .dataframe thead tr th {\n",
       "        text-align: left;\n",
       "    }\n",
       "\n",
       "    .dataframe thead tr:last-of-type th {\n",
       "        text-align: right;\n",
       "    }\n",
       "</style>\n",
       "<table border=\"1\" class=\"dataframe\">\n",
       "  <thead>\n",
       "    <tr>\n",
       "      <th></th>\n",
       "      <th colspan=\"21\" halign=\"left\">Value</th>\n",
       "    </tr>\n",
       "    <tr>\n",
       "      <th>Variable_Name</th>\n",
       "      <th>% of agricultural GVA produced by irrigated agriculture</th>\n",
       "      <th>% of agricultural water managed area equipped for irrigation</th>\n",
       "      <th>% of area equipped for full control irrigation actually irrigated</th>\n",
       "      <th>% of area equipped for irrigation by direct use of  treated municipal wastewater</th>\n",
       "      <th>% of area equipped for irrigation by groundwater</th>\n",
       "      <th>% of area equipped for irrigation by mixed surface water and groundwater</th>\n",
       "      <th>% of area equipped for irrigation by surface water</th>\n",
       "      <th>% of area equipped for irrigation drained</th>\n",
       "      <th>% of area equipped for irrigation power irrigated</th>\n",
       "      <th>% of area equipped for irrigation salinized</th>\n",
       "      <th>...</th>\n",
       "      <th>Total renewable surface water</th>\n",
       "      <th>Total renewable water resources</th>\n",
       "      <th>Total renewable water resources per capita</th>\n",
       "      <th>Total water withdrawal</th>\n",
       "      <th>Total water withdrawal per capita</th>\n",
       "      <th>Treated municipal wastewater</th>\n",
       "      <th>Treated municipal wastewater discharged (secondary water)</th>\n",
       "      <th>Urban population</th>\n",
       "      <th>Urban population with access to safe drinking-water (JMP)</th>\n",
       "      <th>Water resources: total external renewable</th>\n",
       "    </tr>\n",
       "    <tr>\n",
       "      <th>Year</th>\n",
       "      <th></th>\n",
       "      <th></th>\n",
       "      <th></th>\n",
       "      <th></th>\n",
       "      <th></th>\n",
       "      <th></th>\n",
       "      <th></th>\n",
       "      <th></th>\n",
       "      <th></th>\n",
       "      <th></th>\n",
       "      <th></th>\n",
       "      <th></th>\n",
       "      <th></th>\n",
       "      <th></th>\n",
       "      <th></th>\n",
       "      <th></th>\n",
       "      <th></th>\n",
       "      <th></th>\n",
       "      <th></th>\n",
       "      <th></th>\n",
       "      <th></th>\n",
       "    </tr>\n",
       "  </thead>\n",
       "  <tbody>\n",
       "    <tr>\n",
       "      <th>1992</th>\n",
       "      <td>100.0</td>\n",
       "      <td>NaN</td>\n",
       "      <td>NaN</td>\n",
       "      <td>NaN</td>\n",
       "      <td>NaN</td>\n",
       "      <td>NaN</td>\n",
       "      <td>NaN</td>\n",
       "      <td>NaN</td>\n",
       "      <td>NaN</td>\n",
       "      <td>NaN</td>\n",
       "      <td>...</td>\n",
       "      <td>56.0</td>\n",
       "      <td>57.5</td>\n",
       "      <td>980.111175</td>\n",
       "      <td>54.716667</td>\n",
       "      <td>932.668112</td>\n",
       "      <td>0.6500</td>\n",
       "      <td>NaN</td>\n",
       "      <td>25942.379</td>\n",
       "      <td>97.0</td>\n",
       "      <td>56.5</td>\n",
       "    </tr>\n",
       "    <tr>\n",
       "      <th>1997</th>\n",
       "      <td>100.0</td>\n",
       "      <td>100.0</td>\n",
       "      <td>99.996104</td>\n",
       "      <td>0.676823</td>\n",
       "      <td>7.268911</td>\n",
       "      <td>0.1</td>\n",
       "      <td>89.765101</td>\n",
       "      <td>NaN</td>\n",
       "      <td>90.901495</td>\n",
       "      <td>27.072916</td>\n",
       "      <td>...</td>\n",
       "      <td>56.0</td>\n",
       "      <td>57.5</td>\n",
       "      <td>886.083966</td>\n",
       "      <td>62.640800</td>\n",
       "      <td>965.304496</td>\n",
       "      <td>0.9925</td>\n",
       "      <td>0.492857</td>\n",
       "      <td>28218.904</td>\n",
       "      <td>97.7</td>\n",
       "      <td>56.5</td>\n",
       "    </tr>\n",
       "    <tr>\n",
       "      <th>2002</th>\n",
       "      <td>100.0</td>\n",
       "      <td>100.0</td>\n",
       "      <td>99.991234</td>\n",
       "      <td>1.227245</td>\n",
       "      <td>10.554306</td>\n",
       "      <td>0.1</td>\n",
       "      <td>83.072787</td>\n",
       "      <td>NaN</td>\n",
       "      <td>85.848698</td>\n",
       "      <td>26.298104</td>\n",
       "      <td>...</td>\n",
       "      <td>56.0</td>\n",
       "      <td>57.5</td>\n",
       "      <td>804.364068</td>\n",
       "      <td>70.240000</td>\n",
       "      <td>982.583168</td>\n",
       "      <td>1.9000</td>\n",
       "      <td>0.546429</td>\n",
       "      <td>31132.914</td>\n",
       "      <td>98.4</td>\n",
       "      <td>56.5</td>\n",
       "    </tr>\n",
       "    <tr>\n",
       "      <th>2007</th>\n",
       "      <td>100.0</td>\n",
       "      <td>100.0</td>\n",
       "      <td>96.677249</td>\n",
       "      <td>1.186571</td>\n",
       "      <td>6.430082</td>\n",
       "      <td>0.1</td>\n",
       "      <td>80.319526</td>\n",
       "      <td>85.433081</td>\n",
       "      <td>83.003436</td>\n",
       "      <td>25.426512</td>\n",
       "      <td>...</td>\n",
       "      <td>56.0</td>\n",
       "      <td>57.5</td>\n",
       "      <td>734.992169</td>\n",
       "      <td>75.090000</td>\n",
       "      <td>959.835861</td>\n",
       "      <td>1.9000</td>\n",
       "      <td>0.600000</td>\n",
       "      <td>34262.785</td>\n",
       "      <td>99.2</td>\n",
       "      <td>56.5</td>\n",
       "    </tr>\n",
       "    <tr>\n",
       "      <th>2012</th>\n",
       "      <td>100.0</td>\n",
       "      <td>100.0</td>\n",
       "      <td>92.586580</td>\n",
       "      <td>0.960498</td>\n",
       "      <td>6.158009</td>\n",
       "      <td>0.1</td>\n",
       "      <td>76.920996</td>\n",
       "      <td>81.818182</td>\n",
       "      <td>79.491342</td>\n",
       "      <td>24.350649</td>\n",
       "      <td>...</td>\n",
       "      <td>56.0</td>\n",
       "      <td>57.5</td>\n",
       "      <td>665.337973</td>\n",
       "      <td>72.300000</td>\n",
       "      <td>836.590182</td>\n",
       "      <td>4.0130</td>\n",
       "      <td>3.011000</td>\n",
       "      <td>37712.493</td>\n",
       "      <td>99.9</td>\n",
       "      <td>56.5</td>\n",
       "    </tr>\n",
       "  </tbody>\n",
       "</table>\n",
       "<p>5 rows × 159 columns</p>\n",
       "</div>"
      ],
      "text/plain": [
       "                                                                Value  \\\n",
       "Variable_Name % of agricultural GVA produced by irrigated agriculture   \n",
       "Year                                                                    \n",
       "1992                                                       100.0        \n",
       "1997                                                       100.0        \n",
       "2002                                                       100.0        \n",
       "2007                                                       100.0        \n",
       "2012                                                       100.0        \n",
       "\n",
       "                                                                            \\\n",
       "Variable_Name % of agricultural water managed area equipped for irrigation   \n",
       "Year                                                                         \n",
       "1992                                                         NaN             \n",
       "1997                                                       100.0             \n",
       "2002                                                       100.0             \n",
       "2007                                                       100.0             \n",
       "2012                                                       100.0             \n",
       "\n",
       "                                                                                 \\\n",
       "Variable_Name % of area equipped for full control irrigation actually irrigated   \n",
       "Year                                                                              \n",
       "1992                                                         NaN                  \n",
       "1997                                                   99.996104                  \n",
       "2002                                                   99.991234                  \n",
       "2007                                                   96.677249                  \n",
       "2012                                                   92.586580                  \n",
       "\n",
       "                                                                                                \\\n",
       "Variable_Name % of area equipped for irrigation by direct use of  treated municipal wastewater   \n",
       "Year                                                                                             \n",
       "1992                                                         NaN                                 \n",
       "1997                                                    0.676823                                 \n",
       "2002                                                    1.227245                                 \n",
       "2007                                                    1.186571                                 \n",
       "2012                                                    0.960498                                 \n",
       "\n",
       "                                                                \\\n",
       "Variable_Name % of area equipped for irrigation by groundwater   \n",
       "Year                                                             \n",
       "1992                                                       NaN   \n",
       "1997                                                  7.268911   \n",
       "2002                                                 10.554306   \n",
       "2007                                                  6.430082   \n",
       "2012                                                  6.158009   \n",
       "\n",
       "                                                                                        \\\n",
       "Variable_Name % of area equipped for irrigation by mixed surface water and groundwater   \n",
       "Year                                                                                     \n",
       "1992                                                         NaN                         \n",
       "1997                                                         0.1                         \n",
       "2002                                                         0.1                         \n",
       "2007                                                         0.1                         \n",
       "2012                                                         0.1                         \n",
       "\n",
       "                                                                  \\\n",
       "Variable_Name % of area equipped for irrigation by surface water   \n",
       "Year                                                               \n",
       "1992                                                         NaN   \n",
       "1997                                                   89.765101   \n",
       "2002                                                   83.072787   \n",
       "2007                                                   80.319526   \n",
       "2012                                                   76.920996   \n",
       "\n",
       "                                                         \\\n",
       "Variable_Name % of area equipped for irrigation drained   \n",
       "Year                                                      \n",
       "1992                                                NaN   \n",
       "1997                                                NaN   \n",
       "2002                                                NaN   \n",
       "2007                                          85.433081   \n",
       "2012                                          81.818182   \n",
       "\n",
       "                                                                 \\\n",
       "Variable_Name % of area equipped for irrigation power irrigated   \n",
       "Year                                                              \n",
       "1992                                                        NaN   \n",
       "1997                                                  90.901495   \n",
       "2002                                                  85.848698   \n",
       "2007                                                  83.003436   \n",
       "2012                                                  79.491342   \n",
       "\n",
       "                                                           ...  \\\n",
       "Variable_Name % of area equipped for irrigation salinized  ...   \n",
       "Year                                                       ...   \n",
       "1992                                                  NaN  ...   \n",
       "1997                                            27.072916  ...   \n",
       "2002                                            26.298104  ...   \n",
       "2007                                            25.426512  ...   \n",
       "2012                                            24.350649  ...   \n",
       "\n",
       "                                                                             \\\n",
       "Variable_Name Total renewable surface water Total renewable water resources   \n",
       "Year                                                                          \n",
       "1992                                   56.0                            57.5   \n",
       "1997                                   56.0                            57.5   \n",
       "2002                                   56.0                            57.5   \n",
       "2007                                   56.0                            57.5   \n",
       "2012                                   56.0                            57.5   \n",
       "\n",
       "                                                          \\\n",
       "Variable_Name Total renewable water resources per capita   \n",
       "Year                                                       \n",
       "1992                                          980.111175   \n",
       "1997                                          886.083966   \n",
       "2002                                          804.364068   \n",
       "2007                                          734.992169   \n",
       "2012                                          665.337973   \n",
       "\n",
       "                                                                        \\\n",
       "Variable_Name Total water withdrawal Total water withdrawal per capita   \n",
       "Year                                                                     \n",
       "1992                       54.716667                        932.668112   \n",
       "1997                       62.640800                        965.304496   \n",
       "2002                       70.240000                        982.583168   \n",
       "2007                       75.090000                        959.835861   \n",
       "2012                       72.300000                        836.590182   \n",
       "\n",
       "                                            \\\n",
       "Variable_Name Treated municipal wastewater   \n",
       "Year                                         \n",
       "1992                                0.6500   \n",
       "1997                                0.9925   \n",
       "2002                                1.9000   \n",
       "2007                                1.9000   \n",
       "2012                                4.0130   \n",
       "\n",
       "                                                                         \\\n",
       "Variable_Name Treated municipal wastewater discharged (secondary water)   \n",
       "Year                                                                      \n",
       "1992                                                         NaN          \n",
       "1997                                                    0.492857          \n",
       "2002                                                    0.546429          \n",
       "2007                                                    0.600000          \n",
       "2012                                                    3.011000          \n",
       "\n",
       "                                \\\n",
       "Variable_Name Urban population   \n",
       "Year                             \n",
       "1992                 25942.379   \n",
       "1997                 28218.904   \n",
       "2002                 31132.914   \n",
       "2007                 34262.785   \n",
       "2012                 37712.493   \n",
       "\n",
       "                                                                         \\\n",
       "Variable_Name Urban population with access to safe drinking-water (JMP)   \n",
       "Year                                                                      \n",
       "1992                                                        97.0          \n",
       "1997                                                        97.7          \n",
       "2002                                                        98.4          \n",
       "2007                                                        99.2          \n",
       "2012                                                        99.9          \n",
       "\n",
       "                                                         \n",
       "Variable_Name Water resources: total external renewable  \n",
       "Year                                                     \n",
       "1992                                               56.5  \n",
       "1997                                               56.5  \n",
       "2002                                               56.5  \n",
       "2007                                               56.5  \n",
       "2012                                               56.5  \n",
       "\n",
       "[5 rows x 159 columns]"
      ]
     },
     "execution_count": 13,
     "metadata": {},
     "output_type": "execute_result"
    }
   ],
   "source": [
    "# change the variable_name values to columns and Value column to values for it\n",
    "df_new = pd.pivot_table(df, values=['Value'], index=['Year'], columns=['Variable_Name'])\n",
    "df_new.head()\n"
   ]
  },
  {
   "cell_type": "code",
   "execution_count": 14,
   "metadata": {},
   "outputs": [
    {
     "data": {
      "text/html": [
       "<div>\n",
       "<style scoped>\n",
       "    .dataframe tbody tr th:only-of-type {\n",
       "        vertical-align: middle;\n",
       "    }\n",
       "\n",
       "    .dataframe tbody tr th {\n",
       "        vertical-align: top;\n",
       "    }\n",
       "\n",
       "    .dataframe thead th {\n",
       "        text-align: right;\n",
       "    }\n",
       "</style>\n",
       "<table border=\"1\" class=\"dataframe\">\n",
       "  <thead>\n",
       "    <tr style=\"text-align: right;\">\n",
       "      <th></th>\n",
       "      <th>% of agricultural GVA produced by irrigated agriculture</th>\n",
       "      <th>% of agricultural water managed area equipped for irrigation</th>\n",
       "      <th>% of area equipped for full control irrigation actually irrigated</th>\n",
       "      <th>% of area equipped for irrigation by direct use of  treated municipal wastewater</th>\n",
       "      <th>% of area equipped for irrigation by groundwater</th>\n",
       "      <th>% of area equipped for irrigation by mixed surface water and groundwater</th>\n",
       "      <th>% of area equipped for irrigation by surface water</th>\n",
       "      <th>% of area equipped for irrigation drained</th>\n",
       "      <th>% of area equipped for irrigation power irrigated</th>\n",
       "      <th>% of area equipped for irrigation salinized</th>\n",
       "      <th>...</th>\n",
       "      <th>Total renewable surface water</th>\n",
       "      <th>Total renewable water resources</th>\n",
       "      <th>Total renewable water resources per capita</th>\n",
       "      <th>Total water withdrawal</th>\n",
       "      <th>Total water withdrawal per capita</th>\n",
       "      <th>Treated municipal wastewater</th>\n",
       "      <th>Treated municipal wastewater discharged (secondary water)</th>\n",
       "      <th>Urban population</th>\n",
       "      <th>Urban population with access to safe drinking-water (JMP)</th>\n",
       "      <th>Water resources: total external renewable</th>\n",
       "    </tr>\n",
       "    <tr>\n",
       "      <th>Year</th>\n",
       "      <th></th>\n",
       "      <th></th>\n",
       "      <th></th>\n",
       "      <th></th>\n",
       "      <th></th>\n",
       "      <th></th>\n",
       "      <th></th>\n",
       "      <th></th>\n",
       "      <th></th>\n",
       "      <th></th>\n",
       "      <th></th>\n",
       "      <th></th>\n",
       "      <th></th>\n",
       "      <th></th>\n",
       "      <th></th>\n",
       "      <th></th>\n",
       "      <th></th>\n",
       "      <th></th>\n",
       "      <th></th>\n",
       "      <th></th>\n",
       "      <th></th>\n",
       "    </tr>\n",
       "  </thead>\n",
       "  <tbody>\n",
       "    <tr>\n",
       "      <th>1992</th>\n",
       "      <td>100.0</td>\n",
       "      <td>NaN</td>\n",
       "      <td>NaN</td>\n",
       "      <td>NaN</td>\n",
       "      <td>NaN</td>\n",
       "      <td>NaN</td>\n",
       "      <td>NaN</td>\n",
       "      <td>NaN</td>\n",
       "      <td>NaN</td>\n",
       "      <td>NaN</td>\n",
       "      <td>...</td>\n",
       "      <td>56.0</td>\n",
       "      <td>57.5</td>\n",
       "      <td>980.111175</td>\n",
       "      <td>54.716667</td>\n",
       "      <td>932.668112</td>\n",
       "      <td>0.6500</td>\n",
       "      <td>NaN</td>\n",
       "      <td>25942.379</td>\n",
       "      <td>97.0</td>\n",
       "      <td>56.5</td>\n",
       "    </tr>\n",
       "    <tr>\n",
       "      <th>1997</th>\n",
       "      <td>100.0</td>\n",
       "      <td>100.0</td>\n",
       "      <td>99.996104</td>\n",
       "      <td>0.676823</td>\n",
       "      <td>7.268911</td>\n",
       "      <td>0.1</td>\n",
       "      <td>89.765101</td>\n",
       "      <td>NaN</td>\n",
       "      <td>90.901495</td>\n",
       "      <td>27.072916</td>\n",
       "      <td>...</td>\n",
       "      <td>56.0</td>\n",
       "      <td>57.5</td>\n",
       "      <td>886.083966</td>\n",
       "      <td>62.640800</td>\n",
       "      <td>965.304496</td>\n",
       "      <td>0.9925</td>\n",
       "      <td>0.492857</td>\n",
       "      <td>28218.904</td>\n",
       "      <td>97.7</td>\n",
       "      <td>56.5</td>\n",
       "    </tr>\n",
       "    <tr>\n",
       "      <th>2002</th>\n",
       "      <td>100.0</td>\n",
       "      <td>100.0</td>\n",
       "      <td>99.991234</td>\n",
       "      <td>1.227245</td>\n",
       "      <td>10.554306</td>\n",
       "      <td>0.1</td>\n",
       "      <td>83.072787</td>\n",
       "      <td>NaN</td>\n",
       "      <td>85.848698</td>\n",
       "      <td>26.298104</td>\n",
       "      <td>...</td>\n",
       "      <td>56.0</td>\n",
       "      <td>57.5</td>\n",
       "      <td>804.364068</td>\n",
       "      <td>70.240000</td>\n",
       "      <td>982.583168</td>\n",
       "      <td>1.9000</td>\n",
       "      <td>0.546429</td>\n",
       "      <td>31132.914</td>\n",
       "      <td>98.4</td>\n",
       "      <td>56.5</td>\n",
       "    </tr>\n",
       "    <tr>\n",
       "      <th>2007</th>\n",
       "      <td>100.0</td>\n",
       "      <td>100.0</td>\n",
       "      <td>96.677249</td>\n",
       "      <td>1.186571</td>\n",
       "      <td>6.430082</td>\n",
       "      <td>0.1</td>\n",
       "      <td>80.319526</td>\n",
       "      <td>85.433081</td>\n",
       "      <td>83.003436</td>\n",
       "      <td>25.426512</td>\n",
       "      <td>...</td>\n",
       "      <td>56.0</td>\n",
       "      <td>57.5</td>\n",
       "      <td>734.992169</td>\n",
       "      <td>75.090000</td>\n",
       "      <td>959.835861</td>\n",
       "      <td>1.9000</td>\n",
       "      <td>0.600000</td>\n",
       "      <td>34262.785</td>\n",
       "      <td>99.2</td>\n",
       "      <td>56.5</td>\n",
       "    </tr>\n",
       "    <tr>\n",
       "      <th>2012</th>\n",
       "      <td>100.0</td>\n",
       "      <td>100.0</td>\n",
       "      <td>92.586580</td>\n",
       "      <td>0.960498</td>\n",
       "      <td>6.158009</td>\n",
       "      <td>0.1</td>\n",
       "      <td>76.920996</td>\n",
       "      <td>81.818182</td>\n",
       "      <td>79.491342</td>\n",
       "      <td>24.350649</td>\n",
       "      <td>...</td>\n",
       "      <td>56.0</td>\n",
       "      <td>57.5</td>\n",
       "      <td>665.337973</td>\n",
       "      <td>72.300000</td>\n",
       "      <td>836.590182</td>\n",
       "      <td>4.0130</td>\n",
       "      <td>3.011000</td>\n",
       "      <td>37712.493</td>\n",
       "      <td>99.9</td>\n",
       "      <td>56.5</td>\n",
       "    </tr>\n",
       "  </tbody>\n",
       "</table>\n",
       "<p>5 rows × 159 columns</p>\n",
       "</div>"
      ],
      "text/plain": [
       "      % of agricultural GVA produced by irrigated agriculture  \\\n",
       "Year                                                            \n",
       "1992                                              100.0         \n",
       "1997                                              100.0         \n",
       "2002                                              100.0         \n",
       "2007                                              100.0         \n",
       "2012                                              100.0         \n",
       "\n",
       "      % of agricultural water managed area equipped for irrigation  \\\n",
       "Year                                                                 \n",
       "1992                                                NaN              \n",
       "1997                                              100.0              \n",
       "2002                                              100.0              \n",
       "2007                                              100.0              \n",
       "2012                                              100.0              \n",
       "\n",
       "      % of area equipped for full control irrigation actually irrigated  \\\n",
       "Year                                                                      \n",
       "1992                                                NaN                   \n",
       "1997                                          99.996104                   \n",
       "2002                                          99.991234                   \n",
       "2007                                          96.677249                   \n",
       "2012                                          92.586580                   \n",
       "\n",
       "      % of area equipped for irrigation by direct use of  treated municipal wastewater  \\\n",
       "Year                                                                                     \n",
       "1992                                                NaN                                  \n",
       "1997                                           0.676823                                  \n",
       "2002                                           1.227245                                  \n",
       "2007                                           1.186571                                  \n",
       "2012                                           0.960498                                  \n",
       "\n",
       "      % of area equipped for irrigation by groundwater  \\\n",
       "Year                                                     \n",
       "1992                                               NaN   \n",
       "1997                                          7.268911   \n",
       "2002                                         10.554306   \n",
       "2007                                          6.430082   \n",
       "2012                                          6.158009   \n",
       "\n",
       "      % of area equipped for irrigation by mixed surface water and groundwater  \\\n",
       "Year                                                                             \n",
       "1992                                                NaN                          \n",
       "1997                                                0.1                          \n",
       "2002                                                0.1                          \n",
       "2007                                                0.1                          \n",
       "2012                                                0.1                          \n",
       "\n",
       "      % of area equipped for irrigation by surface water  \\\n",
       "Year                                                       \n",
       "1992                                                NaN    \n",
       "1997                                          89.765101    \n",
       "2002                                          83.072787    \n",
       "2007                                          80.319526    \n",
       "2012                                          76.920996    \n",
       "\n",
       "      % of area equipped for irrigation drained  \\\n",
       "Year                                              \n",
       "1992                                        NaN   \n",
       "1997                                        NaN   \n",
       "2002                                        NaN   \n",
       "2007                                  85.433081   \n",
       "2012                                  81.818182   \n",
       "\n",
       "      % of area equipped for irrigation power irrigated  \\\n",
       "Year                                                      \n",
       "1992                                                NaN   \n",
       "1997                                          90.901495   \n",
       "2002                                          85.848698   \n",
       "2007                                          83.003436   \n",
       "2012                                          79.491342   \n",
       "\n",
       "      % of area equipped for irrigation salinized  ...  \\\n",
       "Year                                               ...   \n",
       "1992                                          NaN  ...   \n",
       "1997                                    27.072916  ...   \n",
       "2002                                    26.298104  ...   \n",
       "2007                                    25.426512  ...   \n",
       "2012                                    24.350649  ...   \n",
       "\n",
       "      Total renewable surface water  Total renewable water resources  \\\n",
       "Year                                                                   \n",
       "1992                           56.0                             57.5   \n",
       "1997                           56.0                             57.5   \n",
       "2002                           56.0                             57.5   \n",
       "2007                           56.0                             57.5   \n",
       "2012                           56.0                             57.5   \n",
       "\n",
       "      Total renewable water resources per capita  Total water withdrawal  \\\n",
       "Year                                                                       \n",
       "1992                                  980.111175               54.716667   \n",
       "1997                                  886.083966               62.640800   \n",
       "2002                                  804.364068               70.240000   \n",
       "2007                                  734.992169               75.090000   \n",
       "2012                                  665.337973               72.300000   \n",
       "\n",
       "      Total water withdrawal per capita  Treated municipal wastewater  \\\n",
       "Year                                                                    \n",
       "1992                         932.668112                        0.6500   \n",
       "1997                         965.304496                        0.9925   \n",
       "2002                         982.583168                        1.9000   \n",
       "2007                         959.835861                        1.9000   \n",
       "2012                         836.590182                        4.0130   \n",
       "\n",
       "      Treated municipal wastewater discharged (secondary water)  \\\n",
       "Year                                                              \n",
       "1992                                                NaN           \n",
       "1997                                           0.492857           \n",
       "2002                                           0.546429           \n",
       "2007                                           0.600000           \n",
       "2012                                           3.011000           \n",
       "\n",
       "      Urban population  \\\n",
       "Year                     \n",
       "1992         25942.379   \n",
       "1997         28218.904   \n",
       "2002         31132.914   \n",
       "2007         34262.785   \n",
       "2012         37712.493   \n",
       "\n",
       "      Urban population with access to safe drinking-water (JMP)  \\\n",
       "Year                                                              \n",
       "1992                                               97.0           \n",
       "1997                                               97.7           \n",
       "2002                                               98.4           \n",
       "2007                                               99.2           \n",
       "2012                                               99.9           \n",
       "\n",
       "      Water resources: total external renewable  \n",
       "Year                                             \n",
       "1992                                       56.5  \n",
       "1997                                       56.5  \n",
       "2002                                       56.5  \n",
       "2007                                       56.5  \n",
       "2012                                       56.5  \n",
       "\n",
       "[5 rows x 159 columns]"
      ]
     },
     "execution_count": 14,
     "metadata": {},
     "output_type": "execute_result"
    }
   ],
   "source": [
    "#remove columns name\n",
    "df_new.columns = df_new.columns.droplevel(0) \n",
    "df_new.columns.name = None               \n",
    "#df = df.reset_index()    \n",
    "df_new.head()"
   ]
  },
  {
   "cell_type": "code",
   "execution_count": 15,
   "metadata": {},
   "outputs": [
    {
     "data": {
      "text/html": [
       "<div>\n",
       "<style scoped>\n",
       "    .dataframe tbody tr th:only-of-type {\n",
       "        vertical-align: middle;\n",
       "    }\n",
       "\n",
       "    .dataframe tbody tr th {\n",
       "        vertical-align: top;\n",
       "    }\n",
       "\n",
       "    .dataframe thead th {\n",
       "        text-align: right;\n",
       "    }\n",
       "</style>\n",
       "<table border=\"1\" class=\"dataframe\">\n",
       "  <thead>\n",
       "    <tr style=\"text-align: right;\">\n",
       "      <th></th>\n",
       "      <th>%_of_agricultural_GVA_produced_by_irrigated_agriculture</th>\n",
       "      <th>%_of_agricultural_water_managed_area_equipped_for_irrigation</th>\n",
       "      <th>%_of_area_equipped_for_full_control_irrigation_actually_irrigated</th>\n",
       "      <th>%_of_area_equipped_for_irrigation_by_direct_use_of__treated_municipal_wastewater</th>\n",
       "      <th>%_of_area_equipped_for_irrigation_by_groundwater</th>\n",
       "      <th>%_of_area_equipped_for_irrigation_by_mixed_surface_water_and_groundwater</th>\n",
       "      <th>%_of_area_equipped_for_irrigation_by_surface_water</th>\n",
       "      <th>%_of_area_equipped_for_irrigation_drained</th>\n",
       "      <th>%_of_area_equipped_for_irrigation_power_irrigated</th>\n",
       "      <th>%_of_area_equipped_for_irrigation_salinized</th>\n",
       "      <th>...</th>\n",
       "      <th>Total_renewable_surface_water</th>\n",
       "      <th>Total_renewable_water_resources</th>\n",
       "      <th>Total_renewable_water_resources_per_capita</th>\n",
       "      <th>Total_water_withdrawal</th>\n",
       "      <th>Total_water_withdrawal_per_capita</th>\n",
       "      <th>Treated_municipal_wastewater</th>\n",
       "      <th>Treated_municipal_wastewater_discharged_(secondary_water)</th>\n",
       "      <th>Urban_population</th>\n",
       "      <th>Urban_population_with_access_to_safe_drinking-water_(JMP)</th>\n",
       "      <th>Water_resources:_total_external_renewable</th>\n",
       "    </tr>\n",
       "    <tr>\n",
       "      <th>Year</th>\n",
       "      <th></th>\n",
       "      <th></th>\n",
       "      <th></th>\n",
       "      <th></th>\n",
       "      <th></th>\n",
       "      <th></th>\n",
       "      <th></th>\n",
       "      <th></th>\n",
       "      <th></th>\n",
       "      <th></th>\n",
       "      <th></th>\n",
       "      <th></th>\n",
       "      <th></th>\n",
       "      <th></th>\n",
       "      <th></th>\n",
       "      <th></th>\n",
       "      <th></th>\n",
       "      <th></th>\n",
       "      <th></th>\n",
       "      <th></th>\n",
       "      <th></th>\n",
       "    </tr>\n",
       "  </thead>\n",
       "  <tbody>\n",
       "    <tr>\n",
       "      <th>1992</th>\n",
       "      <td>100.0</td>\n",
       "      <td>NaN</td>\n",
       "      <td>NaN</td>\n",
       "      <td>NaN</td>\n",
       "      <td>NaN</td>\n",
       "      <td>NaN</td>\n",
       "      <td>NaN</td>\n",
       "      <td>NaN</td>\n",
       "      <td>NaN</td>\n",
       "      <td>NaN</td>\n",
       "      <td>...</td>\n",
       "      <td>56.0</td>\n",
       "      <td>57.5</td>\n",
       "      <td>980.111175</td>\n",
       "      <td>54.716667</td>\n",
       "      <td>932.668112</td>\n",
       "      <td>0.6500</td>\n",
       "      <td>NaN</td>\n",
       "      <td>25942.379</td>\n",
       "      <td>97.0</td>\n",
       "      <td>56.5</td>\n",
       "    </tr>\n",
       "    <tr>\n",
       "      <th>1997</th>\n",
       "      <td>100.0</td>\n",
       "      <td>100.0</td>\n",
       "      <td>99.996104</td>\n",
       "      <td>0.676823</td>\n",
       "      <td>7.268911</td>\n",
       "      <td>0.1</td>\n",
       "      <td>89.765101</td>\n",
       "      <td>NaN</td>\n",
       "      <td>90.901495</td>\n",
       "      <td>27.072916</td>\n",
       "      <td>...</td>\n",
       "      <td>56.0</td>\n",
       "      <td>57.5</td>\n",
       "      <td>886.083966</td>\n",
       "      <td>62.640800</td>\n",
       "      <td>965.304496</td>\n",
       "      <td>0.9925</td>\n",
       "      <td>0.492857</td>\n",
       "      <td>28218.904</td>\n",
       "      <td>97.7</td>\n",
       "      <td>56.5</td>\n",
       "    </tr>\n",
       "    <tr>\n",
       "      <th>2002</th>\n",
       "      <td>100.0</td>\n",
       "      <td>100.0</td>\n",
       "      <td>99.991234</td>\n",
       "      <td>1.227245</td>\n",
       "      <td>10.554306</td>\n",
       "      <td>0.1</td>\n",
       "      <td>83.072787</td>\n",
       "      <td>NaN</td>\n",
       "      <td>85.848698</td>\n",
       "      <td>26.298104</td>\n",
       "      <td>...</td>\n",
       "      <td>56.0</td>\n",
       "      <td>57.5</td>\n",
       "      <td>804.364068</td>\n",
       "      <td>70.240000</td>\n",
       "      <td>982.583168</td>\n",
       "      <td>1.9000</td>\n",
       "      <td>0.546429</td>\n",
       "      <td>31132.914</td>\n",
       "      <td>98.4</td>\n",
       "      <td>56.5</td>\n",
       "    </tr>\n",
       "    <tr>\n",
       "      <th>2007</th>\n",
       "      <td>100.0</td>\n",
       "      <td>100.0</td>\n",
       "      <td>96.677249</td>\n",
       "      <td>1.186571</td>\n",
       "      <td>6.430082</td>\n",
       "      <td>0.1</td>\n",
       "      <td>80.319526</td>\n",
       "      <td>85.433081</td>\n",
       "      <td>83.003436</td>\n",
       "      <td>25.426512</td>\n",
       "      <td>...</td>\n",
       "      <td>56.0</td>\n",
       "      <td>57.5</td>\n",
       "      <td>734.992169</td>\n",
       "      <td>75.090000</td>\n",
       "      <td>959.835861</td>\n",
       "      <td>1.9000</td>\n",
       "      <td>0.600000</td>\n",
       "      <td>34262.785</td>\n",
       "      <td>99.2</td>\n",
       "      <td>56.5</td>\n",
       "    </tr>\n",
       "    <tr>\n",
       "      <th>2012</th>\n",
       "      <td>100.0</td>\n",
       "      <td>100.0</td>\n",
       "      <td>92.586580</td>\n",
       "      <td>0.960498</td>\n",
       "      <td>6.158009</td>\n",
       "      <td>0.1</td>\n",
       "      <td>76.920996</td>\n",
       "      <td>81.818182</td>\n",
       "      <td>79.491342</td>\n",
       "      <td>24.350649</td>\n",
       "      <td>...</td>\n",
       "      <td>56.0</td>\n",
       "      <td>57.5</td>\n",
       "      <td>665.337973</td>\n",
       "      <td>72.300000</td>\n",
       "      <td>836.590182</td>\n",
       "      <td>4.0130</td>\n",
       "      <td>3.011000</td>\n",
       "      <td>37712.493</td>\n",
       "      <td>99.9</td>\n",
       "      <td>56.5</td>\n",
       "    </tr>\n",
       "  </tbody>\n",
       "</table>\n",
       "<p>5 rows × 159 columns</p>\n",
       "</div>"
      ],
      "text/plain": [
       "      %_of_agricultural_GVA_produced_by_irrigated_agriculture  \\\n",
       "Year                                                            \n",
       "1992                                              100.0         \n",
       "1997                                              100.0         \n",
       "2002                                              100.0         \n",
       "2007                                              100.0         \n",
       "2012                                              100.0         \n",
       "\n",
       "      %_of_agricultural_water_managed_area_equipped_for_irrigation  \\\n",
       "Year                                                                 \n",
       "1992                                                NaN              \n",
       "1997                                              100.0              \n",
       "2002                                              100.0              \n",
       "2007                                              100.0              \n",
       "2012                                              100.0              \n",
       "\n",
       "      %_of_area_equipped_for_full_control_irrigation_actually_irrigated  \\\n",
       "Year                                                                      \n",
       "1992                                                NaN                   \n",
       "1997                                          99.996104                   \n",
       "2002                                          99.991234                   \n",
       "2007                                          96.677249                   \n",
       "2012                                          92.586580                   \n",
       "\n",
       "      %_of_area_equipped_for_irrigation_by_direct_use_of__treated_municipal_wastewater  \\\n",
       "Year                                                                                     \n",
       "1992                                                NaN                                  \n",
       "1997                                           0.676823                                  \n",
       "2002                                           1.227245                                  \n",
       "2007                                           1.186571                                  \n",
       "2012                                           0.960498                                  \n",
       "\n",
       "      %_of_area_equipped_for_irrigation_by_groundwater  \\\n",
       "Year                                                     \n",
       "1992                                               NaN   \n",
       "1997                                          7.268911   \n",
       "2002                                         10.554306   \n",
       "2007                                          6.430082   \n",
       "2012                                          6.158009   \n",
       "\n",
       "      %_of_area_equipped_for_irrigation_by_mixed_surface_water_and_groundwater  \\\n",
       "Year                                                                             \n",
       "1992                                                NaN                          \n",
       "1997                                                0.1                          \n",
       "2002                                                0.1                          \n",
       "2007                                                0.1                          \n",
       "2012                                                0.1                          \n",
       "\n",
       "      %_of_area_equipped_for_irrigation_by_surface_water  \\\n",
       "Year                                                       \n",
       "1992                                                NaN    \n",
       "1997                                          89.765101    \n",
       "2002                                          83.072787    \n",
       "2007                                          80.319526    \n",
       "2012                                          76.920996    \n",
       "\n",
       "      %_of_area_equipped_for_irrigation_drained  \\\n",
       "Year                                              \n",
       "1992                                        NaN   \n",
       "1997                                        NaN   \n",
       "2002                                        NaN   \n",
       "2007                                  85.433081   \n",
       "2012                                  81.818182   \n",
       "\n",
       "      %_of_area_equipped_for_irrigation_power_irrigated  \\\n",
       "Year                                                      \n",
       "1992                                                NaN   \n",
       "1997                                          90.901495   \n",
       "2002                                          85.848698   \n",
       "2007                                          83.003436   \n",
       "2012                                          79.491342   \n",
       "\n",
       "      %_of_area_equipped_for_irrigation_salinized  ...  \\\n",
       "Year                                               ...   \n",
       "1992                                          NaN  ...   \n",
       "1997                                    27.072916  ...   \n",
       "2002                                    26.298104  ...   \n",
       "2007                                    25.426512  ...   \n",
       "2012                                    24.350649  ...   \n",
       "\n",
       "      Total_renewable_surface_water  Total_renewable_water_resources  \\\n",
       "Year                                                                   \n",
       "1992                           56.0                             57.5   \n",
       "1997                           56.0                             57.5   \n",
       "2002                           56.0                             57.5   \n",
       "2007                           56.0                             57.5   \n",
       "2012                           56.0                             57.5   \n",
       "\n",
       "      Total_renewable_water_resources_per_capita  Total_water_withdrawal  \\\n",
       "Year                                                                       \n",
       "1992                                  980.111175               54.716667   \n",
       "1997                                  886.083966               62.640800   \n",
       "2002                                  804.364068               70.240000   \n",
       "2007                                  734.992169               75.090000   \n",
       "2012                                  665.337973               72.300000   \n",
       "\n",
       "      Total_water_withdrawal_per_capita  Treated_municipal_wastewater  \\\n",
       "Year                                                                    \n",
       "1992                         932.668112                        0.6500   \n",
       "1997                         965.304496                        0.9925   \n",
       "2002                         982.583168                        1.9000   \n",
       "2007                         959.835861                        1.9000   \n",
       "2012                         836.590182                        4.0130   \n",
       "\n",
       "      Treated_municipal_wastewater_discharged_(secondary_water)  \\\n",
       "Year                                                              \n",
       "1992                                                NaN           \n",
       "1997                                           0.492857           \n",
       "2002                                           0.546429           \n",
       "2007                                           0.600000           \n",
       "2012                                           3.011000           \n",
       "\n",
       "      Urban_population  \\\n",
       "Year                     \n",
       "1992         25942.379   \n",
       "1997         28218.904   \n",
       "2002         31132.914   \n",
       "2007         34262.785   \n",
       "2012         37712.493   \n",
       "\n",
       "      Urban_population_with_access_to_safe_drinking-water_(JMP)  \\\n",
       "Year                                                              \n",
       "1992                                               97.0           \n",
       "1997                                               97.7           \n",
       "2002                                               98.4           \n",
       "2007                                               99.2           \n",
       "2012                                               99.9           \n",
       "\n",
       "      Water_resources:_total_external_renewable  \n",
       "Year                                             \n",
       "1992                                       56.5  \n",
       "1997                                       56.5  \n",
       "2002                                       56.5  \n",
       "2007                                       56.5  \n",
       "2012                                       56.5  \n",
       "\n",
       "[5 rows x 159 columns]"
      ]
     },
     "execution_count": 15,
     "metadata": {},
     "output_type": "execute_result"
    }
   ],
   "source": [
    "# rename columns\n",
    "df_new.columns=df_new.columns.str.replace(' ','_')\n",
    "df_new.head()"
   ]
  },
  {
   "cell_type": "code",
   "execution_count": 19,
   "metadata": {},
   "outputs": [
    {
     "data": {
      "text/plain": [
       "%_of_agricultural_GVA_produced_by_irrigated_agriculture                             False\n",
       "%_of_agricultural_water_managed_area_equipped_for_irrigation                         True\n",
       "%_of_area_equipped_for_full_control_irrigation_actually_irrigated                    True\n",
       "%_of_area_equipped_for_irrigation_by_direct_use_of__treated_municipal_wastewater     True\n",
       "%_of_area_equipped_for_irrigation_by_groundwater                                     True\n",
       "                                                                                    ...  \n",
       "Treated_municipal_wastewater                                                        False\n",
       "Treated_municipal_wastewater_discharged_(secondary_water)                            True\n",
       "Urban_population                                                                    False\n",
       "Urban_population_with_access_to_safe_drinking-water_(JMP)                           False\n",
       "Water_resources:_total_external_renewable                                           False\n",
       "Length: 159, dtype: bool"
      ]
     },
     "execution_count": 19,
     "metadata": {},
     "output_type": "execute_result"
    }
   ],
   "source": [
    "#check null values\n",
    "df_new.isnull().any()"
   ]
  },
  {
   "cell_type": "code",
   "execution_count": 20,
   "metadata": {},
   "outputs": [
    {
     "data": {
      "text/plain": [
       "78"
      ]
     },
     "execution_count": 20,
     "metadata": {},
     "output_type": "execute_result"
    }
   ],
   "source": [
    "# count null values\n",
    "df_new.isnull().any().sum()"
   ]
  },
  {
   "cell_type": "code",
   "execution_count": null,
   "metadata": {},
   "outputs": [],
   "source": [
    "#drop the first row of year 1992\n",
    "df = df.drop(0)\n",
    "# fill the null values backward\n",
    "df=df.fillna(method=\"bfill\")\n",
    "df.head()"
   ]
  },
  {
   "cell_type": "code",
   "execution_count": 60,
   "metadata": {},
   "outputs": [
    {
     "data": {
      "text/plain": [
       "0"
      ]
     },
     "execution_count": 60,
     "metadata": {},
     "output_type": "execute_result"
    }
   ],
   "source": [
    "# check null values\n",
    "df.isnull().any().sum()"
   ]
  },
  {
   "cell_type": "code",
   "execution_count": 68,
   "metadata": {},
   "outputs": [],
   "source": [
    "# export the new cleaned data\n",
    "df.to_csv('Cleaned_AQUASTAT.csv')"
   ]
  },
  {
   "cell_type": "markdown",
   "metadata": {},
   "source": [
    "<a id='ExplanatoryDataAnalysis'></a>\n",
    "### Part III - Explanatory data analysis\n",
    "\n",
    "`1.` In this final part, we will answer the questions.<br><br>"
   ]
  },
  {
   "cell_type": "markdown",
   "metadata": {},
   "source": [
    "1.What is the resources for water in Egypt?"
   ]
  },
  {
   "cell_type": "code",
   "execution_count": 2,
   "metadata": {},
   "outputs": [
    {
     "data": {
      "text/html": [
       "<div>\n",
       "<style scoped>\n",
       "    .dataframe tbody tr th:only-of-type {\n",
       "        vertical-align: middle;\n",
       "    }\n",
       "\n",
       "    .dataframe tbody tr th {\n",
       "        vertical-align: top;\n",
       "    }\n",
       "\n",
       "    .dataframe thead th {\n",
       "        text-align: right;\n",
       "    }\n",
       "</style>\n",
       "<table border=\"1\" class=\"dataframe\">\n",
       "  <thead>\n",
       "    <tr style=\"text-align: right;\">\n",
       "      <th></th>\n",
       "      <th>Year</th>\n",
       "      <th>%_of_agricultural_GVA_produced_by_irrigated_agriculture</th>\n",
       "      <th>%_of_agricultural_water_managed_area_equipped_for_irrigation</th>\n",
       "      <th>%_of_area_equipped_for_full_control_irrigation_actually_irrigated</th>\n",
       "      <th>%_of_area_equipped_for_irrigation_by_direct_use_of__treated_municipal_wastewater</th>\n",
       "      <th>%_of_area_equipped_for_irrigation_by_groundwater</th>\n",
       "      <th>%_of_area_equipped_for_irrigation_by_mixed_surface_water_and_groundwater</th>\n",
       "      <th>%_of_area_equipped_for_irrigation_by_surface_water</th>\n",
       "      <th>%_of_area_equipped_for_irrigation_drained</th>\n",
       "      <th>%_of_area_equipped_for_irrigation_power_irrigated</th>\n",
       "      <th>...</th>\n",
       "      <th>Total_renewable_surface_water</th>\n",
       "      <th>Total_renewable_water_resources</th>\n",
       "      <th>Total_renewable_water_resources_per_capita</th>\n",
       "      <th>Total_water_withdrawal</th>\n",
       "      <th>Total_water_withdrawal_per_capita</th>\n",
       "      <th>Treated_municipal_wastewater</th>\n",
       "      <th>Treated_municipal_wastewater_discharged_(secondary_water)</th>\n",
       "      <th>Urban_population</th>\n",
       "      <th>Urban_population_with_access_to_safe_drinking-water_(JMP)</th>\n",
       "      <th>Water_resources:_total_external_renewable</th>\n",
       "    </tr>\n",
       "  </thead>\n",
       "  <tbody>\n",
       "    <tr>\n",
       "      <th>0</th>\n",
       "      <td>1997</td>\n",
       "      <td>100</td>\n",
       "      <td>100</td>\n",
       "      <td>99.996104</td>\n",
       "      <td>0.676823</td>\n",
       "      <td>7.268911</td>\n",
       "      <td>0.1</td>\n",
       "      <td>89.765101</td>\n",
       "      <td>85.433081</td>\n",
       "      <td>90.901495</td>\n",
       "      <td>...</td>\n",
       "      <td>56</td>\n",
       "      <td>57.5</td>\n",
       "      <td>886.083966</td>\n",
       "      <td>62.6408</td>\n",
       "      <td>965.304496</td>\n",
       "      <td>0.9925</td>\n",
       "      <td>0.492857</td>\n",
       "      <td>28218.904</td>\n",
       "      <td>97.7</td>\n",
       "      <td>56.5</td>\n",
       "    </tr>\n",
       "    <tr>\n",
       "      <th>1</th>\n",
       "      <td>2002</td>\n",
       "      <td>100</td>\n",
       "      <td>100</td>\n",
       "      <td>99.991234</td>\n",
       "      <td>1.227245</td>\n",
       "      <td>10.554306</td>\n",
       "      <td>0.1</td>\n",
       "      <td>83.072787</td>\n",
       "      <td>85.433081</td>\n",
       "      <td>85.848698</td>\n",
       "      <td>...</td>\n",
       "      <td>56</td>\n",
       "      <td>57.5</td>\n",
       "      <td>804.364068</td>\n",
       "      <td>70.2400</td>\n",
       "      <td>982.583168</td>\n",
       "      <td>1.9000</td>\n",
       "      <td>0.546429</td>\n",
       "      <td>31132.914</td>\n",
       "      <td>98.4</td>\n",
       "      <td>56.5</td>\n",
       "    </tr>\n",
       "    <tr>\n",
       "      <th>2</th>\n",
       "      <td>2007</td>\n",
       "      <td>100</td>\n",
       "      <td>100</td>\n",
       "      <td>96.677249</td>\n",
       "      <td>1.186571</td>\n",
       "      <td>6.430082</td>\n",
       "      <td>0.1</td>\n",
       "      <td>80.319526</td>\n",
       "      <td>85.433081</td>\n",
       "      <td>83.003436</td>\n",
       "      <td>...</td>\n",
       "      <td>56</td>\n",
       "      <td>57.5</td>\n",
       "      <td>734.992169</td>\n",
       "      <td>75.0900</td>\n",
       "      <td>959.835861</td>\n",
       "      <td>1.9000</td>\n",
       "      <td>0.600000</td>\n",
       "      <td>34262.785</td>\n",
       "      <td>99.2</td>\n",
       "      <td>56.5</td>\n",
       "    </tr>\n",
       "    <tr>\n",
       "      <th>3</th>\n",
       "      <td>2012</td>\n",
       "      <td>100</td>\n",
       "      <td>100</td>\n",
       "      <td>92.586580</td>\n",
       "      <td>0.960498</td>\n",
       "      <td>6.158009</td>\n",
       "      <td>0.1</td>\n",
       "      <td>76.920996</td>\n",
       "      <td>81.818182</td>\n",
       "      <td>79.491342</td>\n",
       "      <td>...</td>\n",
       "      <td>56</td>\n",
       "      <td>57.5</td>\n",
       "      <td>665.337973</td>\n",
       "      <td>72.3000</td>\n",
       "      <td>836.590182</td>\n",
       "      <td>4.0130</td>\n",
       "      <td>3.011000</td>\n",
       "      <td>37712.493</td>\n",
       "      <td>99.9</td>\n",
       "      <td>56.5</td>\n",
       "    </tr>\n",
       "    <tr>\n",
       "      <th>4</th>\n",
       "      <td>2017</td>\n",
       "      <td>100</td>\n",
       "      <td>100</td>\n",
       "      <td>89.510855</td>\n",
       "      <td>0.928590</td>\n",
       "      <td>5.953440</td>\n",
       "      <td>0.1</td>\n",
       "      <td>74.365681</td>\n",
       "      <td>79.100183</td>\n",
       "      <td>76.850641</td>\n",
       "      <td>...</td>\n",
       "      <td>56</td>\n",
       "      <td>57.5</td>\n",
       "      <td>596.209614</td>\n",
       "      <td>77.5000</td>\n",
       "      <td>803.586872</td>\n",
       "      <td>4.2820</td>\n",
       "      <td>3.011000</td>\n",
       "      <td>41659.745</td>\n",
       "      <td>100.0</td>\n",
       "      <td>56.5</td>\n",
       "    </tr>\n",
       "  </tbody>\n",
       "</table>\n",
       "<p>5 rows × 160 columns</p>\n",
       "</div>"
      ],
      "text/plain": [
       "   Year  %_of_agricultural_GVA_produced_by_irrigated_agriculture  \\\n",
       "0  1997                                                100         \n",
       "1  2002                                                100         \n",
       "2  2007                                                100         \n",
       "3  2012                                                100         \n",
       "4  2017                                                100         \n",
       "\n",
       "   %_of_agricultural_water_managed_area_equipped_for_irrigation  \\\n",
       "0                                                100              \n",
       "1                                                100              \n",
       "2                                                100              \n",
       "3                                                100              \n",
       "4                                                100              \n",
       "\n",
       "   %_of_area_equipped_for_full_control_irrigation_actually_irrigated  \\\n",
       "0                                          99.996104                   \n",
       "1                                          99.991234                   \n",
       "2                                          96.677249                   \n",
       "3                                          92.586580                   \n",
       "4                                          89.510855                   \n",
       "\n",
       "   %_of_area_equipped_for_irrigation_by_direct_use_of__treated_municipal_wastewater  \\\n",
       "0                                           0.676823                                  \n",
       "1                                           1.227245                                  \n",
       "2                                           1.186571                                  \n",
       "3                                           0.960498                                  \n",
       "4                                           0.928590                                  \n",
       "\n",
       "   %_of_area_equipped_for_irrigation_by_groundwater  \\\n",
       "0                                          7.268911   \n",
       "1                                         10.554306   \n",
       "2                                          6.430082   \n",
       "3                                          6.158009   \n",
       "4                                          5.953440   \n",
       "\n",
       "   %_of_area_equipped_for_irrigation_by_mixed_surface_water_and_groundwater  \\\n",
       "0                                                0.1                          \n",
       "1                                                0.1                          \n",
       "2                                                0.1                          \n",
       "3                                                0.1                          \n",
       "4                                                0.1                          \n",
       "\n",
       "   %_of_area_equipped_for_irrigation_by_surface_water  \\\n",
       "0                                          89.765101    \n",
       "1                                          83.072787    \n",
       "2                                          80.319526    \n",
       "3                                          76.920996    \n",
       "4                                          74.365681    \n",
       "\n",
       "   %_of_area_equipped_for_irrigation_drained  \\\n",
       "0                                  85.433081   \n",
       "1                                  85.433081   \n",
       "2                                  85.433081   \n",
       "3                                  81.818182   \n",
       "4                                  79.100183   \n",
       "\n",
       "   %_of_area_equipped_for_irrigation_power_irrigated  ...  \\\n",
       "0                                          90.901495  ...   \n",
       "1                                          85.848698  ...   \n",
       "2                                          83.003436  ...   \n",
       "3                                          79.491342  ...   \n",
       "4                                          76.850641  ...   \n",
       "\n",
       "   Total_renewable_surface_water  Total_renewable_water_resources  \\\n",
       "0                             56                             57.5   \n",
       "1                             56                             57.5   \n",
       "2                             56                             57.5   \n",
       "3                             56                             57.5   \n",
       "4                             56                             57.5   \n",
       "\n",
       "   Total_renewable_water_resources_per_capita  Total_water_withdrawal  \\\n",
       "0                                  886.083966                 62.6408   \n",
       "1                                  804.364068                 70.2400   \n",
       "2                                  734.992169                 75.0900   \n",
       "3                                  665.337973                 72.3000   \n",
       "4                                  596.209614                 77.5000   \n",
       "\n",
       "   Total_water_withdrawal_per_capita  Treated_municipal_wastewater  \\\n",
       "0                         965.304496                        0.9925   \n",
       "1                         982.583168                        1.9000   \n",
       "2                         959.835861                        1.9000   \n",
       "3                         836.590182                        4.0130   \n",
       "4                         803.586872                        4.2820   \n",
       "\n",
       "   Treated_municipal_wastewater_discharged_(secondary_water)  \\\n",
       "0                                           0.492857           \n",
       "1                                           0.546429           \n",
       "2                                           0.600000           \n",
       "3                                           3.011000           \n",
       "4                                           3.011000           \n",
       "\n",
       "   Urban_population  \\\n",
       "0         28218.904   \n",
       "1         31132.914   \n",
       "2         34262.785   \n",
       "3         37712.493   \n",
       "4         41659.745   \n",
       "\n",
       "   Urban_population_with_access_to_safe_drinking-water_(JMP)  \\\n",
       "0                                               97.7           \n",
       "1                                               98.4           \n",
       "2                                               99.2           \n",
       "3                                               99.9           \n",
       "4                                              100.0           \n",
       "\n",
       "   Water_resources:_total_external_renewable  \n",
       "0                                       56.5  \n",
       "1                                       56.5  \n",
       "2                                       56.5  \n",
       "3                                       56.5  \n",
       "4                                       56.5  \n",
       "\n",
       "[5 rows x 160 columns]"
      ]
     },
     "execution_count": 2,
     "metadata": {},
     "output_type": "execute_result"
    }
   ],
   "source": [
    "# read the dataset and print few rows\n",
    "df=pd.read_csv('Cleaned_AQUASTAT.csv')\n",
    "df.head()"
   ]
  },
  {
   "cell_type": "code",
   "execution_count": 29,
   "metadata": {},
   "outputs": [
    {
     "data": {
      "text/plain": [
       "Text(0, 0.5, 'Long term average annual precipitation in volume(10^9 m3/year)')"
      ]
     },
     "execution_count": 29,
     "metadata": {},
     "output_type": "execute_result"
    },
    {
     "data": {
      "image/png": "[encoded data removed]",
      "text/plain": [
       "<Figure size 576x360 with 1 Axes>"
      ]
     },
     "metadata": {
      "needs_background": "light"
     },
     "output_type": "display_data"
    }
   ],
   "source": [
    "# precipitation visualization\n",
    "f, (ax1) = plt.subplots(nrows=1, ncols=1, figsize=(8,5))  \n",
    "pal = sns.color_palette(\"Greens_d\", len(df['Long-term_average_annual_precipitation_in_volume']))\n",
    "rank = df['Long-term_average_annual_precipitation_in_volume'].argsort().argsort()\n",
    "sns.barplot(x='Year',y='Long-term_average_annual_precipitation_in_volume',data=df,ax=ax1,palette=np.array(pal[::-1])[rank])\n",
    "\n",
    "plt.title('Precipitation Visualization')\n",
    "\n",
    "plt.xlabel(\"Year\")\n",
    "plt.ylabel(\"Long term average annual precipitation in volume(10^9 m3/year)\")\n",
    "\n"
   ]
  },
  {
   "cell_type": "markdown",
   "metadata": {},
   "source": [
    "Visualization of internal renewable water resources"
   ]
  },
  {
   "cell_type": "code",
   "execution_count": 44,
   "metadata": {},
   "outputs": [
    {
     "data": {
      "text/plain": [
       "<seaborn.axisgrid.FacetGrid at 0x224823ea148>"
      ]
     },
     "execution_count": 44,
     "metadata": {},
     "output_type": "execute_result"
    },
    {
     "data": {
      "image/png": "[encoded data removed]",
      "text/plain": [
       "<Figure size 296x288 with 1 Axes>"
      ]
     },
     "metadata": {
      "needs_background": "light"
     },
     "output_type": "display_data"
    },
    {
     "data": {
      "image/png": "[encoded data removed]",
      "text/plain": [
       "<Figure size 260x252 with 1 Axes>"
      ]
     },
     "metadata": {
      "needs_background": "light"
     },
     "output_type": "display_data"
    },
    {
     "data": {
      "image/png": "[encoded data removed]",
      "text/plain": [
       "<Figure size 260x252 with 1 Axes>"
      ]
     },
     "metadata": {
      "needs_background": "light"
     },
     "output_type": "display_data"
    }
   ],
   "source": [
    "# visualization of overlap between surface water and ground water\n",
    "\n",
    "# first plot\n",
    "g=sns.FacetGrid(data=df,height=4)\n",
    "g.map(sns.regplot,'Year','Overlap_between_surface_water_and_groundwater',scatter_kws={'alpha':0.3})\n",
    "g.add_legend()\n",
    "\n",
    "# add title\n",
    "plt.subplots_adjust(top=0.6)\n",
    "g.fig.suptitle(\"Visualization of internal renewable water resources\")\n",
    "\n",
    "# second plot\n",
    "# visualization of surface water produced internally\n",
    "g=sns.FacetGrid(data=df,height=3.5)\n",
    "g.map(sns.regplot,'Year','Surface_water_produced_internally',scatter_kws={'alpha':0.3})\n",
    "g.add_legend()\n",
    "\n",
    "# third plot\n",
    "# visualization of ground water produced internally\n",
    "g=sns.FacetGrid(data=df,height=3.5)\n",
    "g.map(sns.regplot,'Year','Groundwater_produced_internally',scatter_kws={'alpha':0.3})\n",
    "g.add_legend()\n",
    "\n",
    "\n"
   ]
  },
  {
   "cell_type": "markdown",
   "metadata": {},
   "source": [
    "Visualization of External renewable water resources\n"
   ]
  },
  {
   "cell_type": "code",
   "execution_count": 3,
   "metadata": {},
   "outputs": [
    {
     "data": {
      "image/png": "[encoded data removed]",
      "text/plain": [
       "<Figure size 360x360 with 1 Axes>"
      ]
     },
     "metadata": {
      "needs_background": "light"
     },
     "output_type": "display_data"
    }
   ],
   "source": [
    "# visualization of surface water: total external renewable\n",
    "sns.relplot(x=\"Year\", y=\"Surface_water:_total_external_renewable\", data=df);"
   ]
  },
  {
   "cell_type": "markdown",
   "metadata": {},
   "source": [
    "> These visualizations show the water resources in Egypt which is from rainfall, groundwater, rivers and lakes and the quantity through the years till 2017 is approximately the same, it also shows that there is no groundwater pushed into the river."
   ]
  },
  {
   "cell_type": "markdown",
   "metadata": {},
   "source": [
    "2.What is the water withdrawal in agricultural, industrial, municipal compared to each other in Egypt?\n",
    "\n"
   ]
  },
  {
   "cell_type": "code",
   "execution_count": 9,
   "metadata": {},
   "outputs": [
    {
     "data": {
      "text/plain": [
       "<matplotlib.axes._subplots.AxesSubplot at 0x1d9c2f66988>"
      ]
     },
     "execution_count": 9,
     "metadata": {},
     "output_type": "execute_result"
    },
    {
     "data": {
      "image/png": "[encoded data removed]",
      "text/plain": [
       "<Figure size 1152x216 with 3 Axes>"
      ]
     },
     "metadata": {
      "needs_background": "light"
     },
     "output_type": "display_data"
    }
   ],
   "source": [
    "# visualization of withdrawal in agricultural, industrial, municipal\n",
    "# figure size\n",
    "plt.figure(figsize = [16, 3])\n",
    "#add figure title\n",
    "# LEFT plot\n",
    "plt.subplot(1, 3, 1)\n",
    "sns.barplot(data = df, x = 'Year', y = 'Agricultural_water_withdrawal')\n",
    "# middle plot\n",
    "plt.subplot(1, 3, 2)\n",
    "sns.barplot(data = df, x = 'Year', y = 'Industrial_water_withdrawal')\n",
    "# right plot\n",
    "plt.subplot(1, 3, 3)\n",
    "sns.barplot(data = df, x = 'Year', y = 'Municipal_water_withdrawal')\n"
   ]
  },
  {
   "cell_type": "markdown",
   "metadata": {},
   "source": [
    "> Those visualizations show that the withdrawal in agriculture is the greatest then in municipal(direct use by the population) then in industrial, and also the withdrawal is increasing by time."
   ]
  },
  {
   "cell_type": "markdown",
   "metadata": {},
   "source": [
    "3.How much water we use in agriculture's products?\n"
   ]
  },
  {
   "cell_type": "code",
   "execution_count": 14,
   "metadata": {},
   "outputs": [
    {
     "name": "stderr",
     "output_type": "stream",
     "text": [
      "C:\\Users\\EL7md\\anaconda3\\lib\\site-packages\\seaborn\\axisgrid.py:670: UserWarning: Using the barplot function without specifying `order` is likely to produce an incorrect plot.\n",
      "  warnings.warn(warning)\n",
      "C:\\Users\\EL7md\\anaconda3\\lib\\site-packages\\seaborn\\axisgrid.py:670: UserWarning: Using the barplot function without specifying `order` is likely to produce an incorrect plot.\n",
      "  warnings.warn(warning)\n",
      "C:\\Users\\EL7md\\anaconda3\\lib\\site-packages\\seaborn\\axisgrid.py:670: UserWarning: Using the barplot function without specifying `order` is likely to produce an incorrect plot.\n",
      "  warnings.warn(warning)\n",
      "C:\\Users\\EL7md\\anaconda3\\lib\\site-packages\\seaborn\\axisgrid.py:670: UserWarning: Using the barplot function without specifying `order` is likely to produce an incorrect plot.\n",
      "  warnings.warn(warning)\n",
      "C:\\Users\\EL7md\\anaconda3\\lib\\site-packages\\seaborn\\axisgrid.py:670: UserWarning: Using the barplot function without specifying `order` is likely to produce an incorrect plot.\n",
      "  warnings.warn(warning)\n",
      "C:\\Users\\EL7md\\anaconda3\\lib\\site-packages\\seaborn\\axisgrid.py:670: UserWarning: Using the barplot function without specifying `order` is likely to produce an incorrect plot.\n",
      "  warnings.warn(warning)\n",
      "C:\\Users\\EL7md\\anaconda3\\lib\\site-packages\\seaborn\\axisgrid.py:670: UserWarning: Using the barplot function without specifying `order` is likely to produce an incorrect plot.\n",
      "  warnings.warn(warning)\n",
      "C:\\Users\\EL7md\\anaconda3\\lib\\site-packages\\seaborn\\axisgrid.py:670: UserWarning: Using the barplot function without specifying `order` is likely to produce an incorrect plot.\n",
      "  warnings.warn(warning)\n",
      "C:\\Users\\EL7md\\anaconda3\\lib\\site-packages\\seaborn\\axisgrid.py:670: UserWarning: Using the barplot function without specifying `order` is likely to produce an incorrect plot.\n",
      "  warnings.warn(warning)\n",
      "C:\\Users\\EL7md\\anaconda3\\lib\\site-packages\\seaborn\\axisgrid.py:670: UserWarning: Using the barplot function without specifying `order` is likely to produce an incorrect plot.\n",
      "  warnings.warn(warning)\n",
      "C:\\Users\\EL7md\\anaconda3\\lib\\site-packages\\seaborn\\axisgrid.py:670: UserWarning: Using the barplot function without specifying `order` is likely to produce an incorrect plot.\n",
      "  warnings.warn(warning)\n",
      "C:\\Users\\EL7md\\anaconda3\\lib\\site-packages\\seaborn\\axisgrid.py:670: UserWarning: Using the barplot function without specifying `order` is likely to produce an incorrect plot.\n",
      "  warnings.warn(warning)\n",
      "C:\\Users\\EL7md\\anaconda3\\lib\\site-packages\\seaborn\\axisgrid.py:670: UserWarning: Using the barplot function without specifying `order` is likely to produce an incorrect plot.\n",
      "  warnings.warn(warning)\n",
      "C:\\Users\\EL7md\\anaconda3\\lib\\site-packages\\seaborn\\axisgrid.py:670: UserWarning: Using the barplot function without specifying `order` is likely to produce an incorrect plot.\n",
      "  warnings.warn(warning)\n",
      "C:\\Users\\EL7md\\anaconda3\\lib\\site-packages\\seaborn\\axisgrid.py:670: UserWarning: Using the barplot function without specifying `order` is likely to produce an incorrect plot.\n",
      "  warnings.warn(warning)\n",
      "C:\\Users\\EL7md\\anaconda3\\lib\\site-packages\\seaborn\\axisgrid.py:670: UserWarning: Using the barplot function without specifying `order` is likely to produce an incorrect plot.\n",
      "  warnings.warn(warning)\n",
      "C:\\Users\\EL7md\\anaconda3\\lib\\site-packages\\seaborn\\axisgrid.py:670: UserWarning: Using the barplot function without specifying `order` is likely to produce an incorrect plot.\n",
      "  warnings.warn(warning)\n",
      "C:\\Users\\EL7md\\anaconda3\\lib\\site-packages\\seaborn\\axisgrid.py:670: UserWarning: Using the barplot function without specifying `order` is likely to produce an incorrect plot.\n",
      "  warnings.warn(warning)\n"
     ]
    },
    {
     "data": {
      "text/plain": [
       "<seaborn.axisgrid.FacetGrid at 0x25709c9e908>"
      ]
     },
     "execution_count": 14,
     "metadata": {},
     "output_type": "execute_result"
    },
    {
     "data": {
      "image/png": "[encoded data removed]",
      "text/plain": [
       "<Figure size 296x288 with 1 Axes>"
      ]
     },
     "metadata": {
      "needs_background": "light"
     },
     "output_type": "display_data"
    },
    {
     "data": {
      "image/png": "[encoded data removed]",
      "text/plain": [
       "<Figure size 296x288 with 1 Axes>"
      ]
     },
     "metadata": {
      "needs_background": "light"
     },
     "output_type": "display_data"
    },
    {
     "data": {
      "image/png": "[encoded data removed]",
      "text/plain": [
       "<Figure size 296x288 with 1 Axes>"
      ]
     },
     "metadata": {
      "needs_background": "light"
     },
     "output_type": "display_data"
    },
    {
     "data": {
      "image/png": "[encoded data removed]",
      "text/plain": [
       "<Figure size 296x288 with 1 Axes>"
      ]
     },
     "metadata": {
      "needs_background": "light"
     },
     "output_type": "display_data"
    },
    {
     "data": {
      "image/png": "[encoded data removed]",
      "text/plain": [
       "<Figure size 296x288 with 1 Axes>"
      ]
     },
     "metadata": {
      "needs_background": "light"
     },
     "output_type": "display_data"
    },
    {
     "data": {
      "image/png": "[encoded data removed]",
      "text/plain": [
       "<Figure size 296x288 with 1 Axes>"
      ]
     },
     "metadata": {
      "needs_background": "light"
     },
     "output_type": "display_data"
    },
    {
     "data": {
      "image/png": "[encoded data removed]",
      "text/plain": [
       "<Figure size 296x288 with 1 Axes>"
      ]
     },
     "metadata": {
      "needs_background": "light"
     },
     "output_type": "display_data"
    },
    {
     "data": {
      "image/png": "[encoded data removed]",
      "text/plain": [
       "<Figure size 296x288 with 1 Axes>"
      ]
     },
     "metadata": {
      "needs_background": "light"
     },
     "output_type": "display_data"
    },
    {
     "data": {
      "image/png": "[encoded data removed]",
      "text/plain": [
       "<Figure size 368x360 with 1 Axes>"
      ]
     },
     "metadata": {
      "needs_background": "light"
     },
     "output_type": "display_data"
    },
    {
     "data": {
      "image/png": "[encoded data removed]",
      "text/plain": [
       "<Figure size 296x288 with 1 Axes>"
      ]
     },
     "metadata": {
      "needs_background": "light"
     },
     "output_type": "display_data"
    },
    {
     "data": {
      "image/png": "[encoded data removed]",
      "text/plain": [
       "<Figure size 296x288 with 1 Axes>"
      ]
     },
     "metadata": {
      "needs_background": "light"
     },
     "output_type": "display_data"
    },
    {
     "data": {
      "image/png": "[encoded data removed]",
      "text/plain": [
       "<Figure size 296x288 with 1 Axes>"
      ]
     },
     "metadata": {
      "needs_background": "light"
     },
     "output_type": "display_data"
    },
    {
     "data": {
      "image/png": "[encoded data removed]",
      "text/plain": [
       "<Figure size 296x288 with 1 Axes>"
      ]
     },
     "metadata": {
      "needs_background": "light"
     },
     "output_type": "display_data"
    },
    {
     "data": {
      "image/png": "[encoded data removed]",
      "text/plain": [
       "<Figure size 296x288 with 1 Axes>"
      ]
     },
     "metadata": {
      "needs_background": "light"
     },
     "output_type": "display_data"
    },
    {
     "data": {
      "image/png": "[encoded data removed]",
      "text/plain": [
       "<Figure size 296x288 with 1 Axes>"
      ]
     },
     "metadata": {
      "needs_background": "light"
     },
     "output_type": "display_data"
    },
    {
     "data": {
      "image/png": "[encoded data removed]",
      "text/plain": [
       "<Figure size 296x288 with 1 Axes>"
      ]
     },
     "metadata": {
      "needs_background": "light"
     },
     "output_type": "display_data"
    },
    {
     "data": {
      "image/png": "[encoded data removed]",
      "text/plain": [
       "<Figure size 296x288 with 1 Axes>"
      ]
     },
     "metadata": {
      "needs_background": "light"
     },
     "output_type": "display_data"
    },
    {
     "data": {
      "image/png": "[encoded data removed]",
      "text/plain": [
       "<Figure size 296x288 with 1 Axes>"
      ]
     },
     "metadata": {
      "needs_background": "light"
     },
     "output_type": "display_data"
    }
   ],
   "source": [
    "# visualization of agriculture's products\n",
    "# visualization of wheat\n",
    "g=sns.FacetGrid(data=df,height=4)\n",
    "g.map(sns.barplot,'Year','Harvested_irrigated_temporary_crop_area:_Wheat')\n",
    "g.add_legend()\n",
    "# visualization of rice\n",
    "g=sns.FacetGrid(data=df,height=4)\n",
    "g.map(sns.barplot,'Year','Harvested_irrigated_temporary_crop_area:_Rice')\n",
    "g.add_legend()\n",
    "# visualization of Barley\n",
    "g=sns.FacetGrid(data=df,height=4)\n",
    "g.map(sns.barplot,'Year','Harvested_irrigated_temporary_crop_area:_Barley')\n",
    "g.add_legend()\n",
    "# visualization of Maize\n",
    "g=sns.FacetGrid(data=df,height=4)\n",
    "g.map(sns.barplot,'Year','Harvested_irrigated_temporary_crop_area:_Maize')\n",
    "g.add_legend()\n",
    "# visualization of Millet\n",
    "g=sns.FacetGrid(data=df,height=4)\n",
    "g.map(sns.barplot,'Year','Harvested_irrigated_temporary_crop_area:_Millet')\n",
    "g.add_legend()\n",
    "# visualization of cereals\n",
    "g=sns.FacetGrid(data=df,height=4)\n",
    "g.map(sns.barplot,'Year','Harvested_irrigated_temporary_crop_area:_Other_cereals')\n",
    "g.add_legend()\n",
    "# visualization of Vegetables\n",
    "g=sns.FacetGrid(data=df,height=4)\n",
    "g.map(sns.barplot,'Year','Harvested_irrigated_temporary_crop_area:_Vegetables')\n",
    "g.add_legend()\n",
    "# visualization of Potatoes\n",
    "g=sns.FacetGrid(data=df,height=4)\n",
    "g.map(sns.barplot,'Year','Harvested_irrigated_temporary_crop_area:_Potatoes')\n",
    "g.add_legend()\n",
    "# visualization of Other roots and tubers\n",
    "g=sns.FacetGrid(data=df,height=5)\n",
    "g.map(sns.barplot,'Year','Harvested_irrigated_temporary_crop_area:_Other_roots_and_tubers')\n",
    "g.add_legend()\n",
    "# visualization of Sugar beet\n",
    "g=sns.FacetGrid(data=df,height=4)\n",
    "g.map(sns.barplot,'Year','Harvested_irrigated_temporary_crop_area:_Sugar_beet')\n",
    "g.add_legend()\n",
    "# visualization of Sugarcane\n",
    "g=sns.FacetGrid(data=df,height=4)\n",
    "g.map(sns.barplot,'Year','Harvested_irrigated_temporary_crop_area:_Sugarcane')\n",
    "g.add_legend()\n",
    "# visualization of Cotton\n",
    "g=sns.FacetGrid(data=df,height=4)\n",
    "g.map(sns.barplot,'Year','Harvested_irrigated_temporary_crop_area:_Cotton')\n",
    "g.add_legend()\n",
    "# visualization of Flowers\n",
    "g=sns.FacetGrid(data=df,height=4)\n",
    "g.map(sns.barplot,'Year','Harvested_irrigated_temporary_crop_area:_Flowers')\n",
    "g.add_legend()\n",
    "# visualization of Other crops\n",
    "g=sns.FacetGrid(data=df,height=4)\n",
    "g.map(sns.barplot,'Year','Harvested_irrigated_temporary_crop_area:_Other_crops')\n",
    "g.add_legend()\n",
    "# visualization of Bananas\n",
    "g=sns.FacetGrid(data=df,height=4)\n",
    "g.map(sns.barplot,'Year','Harvested_irrigated_permanent_crop_area:_Bananas')\n",
    "g.add_legend()\n",
    "# visualization of Other fruits\n",
    "g=sns.FacetGrid(data=df,height=4)\n",
    "g.map(sns.barplot,'Year','Harvested_irrigated_permanent_crop_area:_Other_fruits')\n",
    "g.add_legend()\n",
    "# visualization of Olives\n",
    "g=sns.FacetGrid(data=df,height=4)\n",
    "g.map(sns.barplot,'Year','Harvested_irrigated_permanent_crop_area:_Olives')\n",
    "g.add_legend()\n",
    "# visualization of Fodder\n",
    "g=sns.FacetGrid(data=df,height=4)\n",
    "g.map(sns.barplot,'Year','Harvested_irrigated_temporary_crop_area:_Fodder')\n",
    "g.add_legend()\n",
    "\n"
   ]
  },
  {
   "cell_type": "markdown",
   "metadata": {},
   "source": [
    "> Those visualization show that there is increasing, stable, decreasing over years in harvested irrigated area for the crop:\n",
    "- Icreasing like in: Wheat, maize, vegetables, fruits, sugar beet and other roots&tubers respectively.\n",
    "- Stable like in: Fodder, sugarcane, potatoes, olives, flowers respectively.\n",
    "- Decreasing like in: rice, other cereals, cotton respectively.\n",
    "\n",
    "> Those visualization also show that :\n",
    "- wheat, Fodder, maize, vegetables, fruits, rice and other cereals respectively take a great amount of harvested irrigated area."
   ]
  },
  {
   "cell_type": "markdown",
   "metadata": {},
   "source": [
    "4.How much rainfall water, flood and groundwater we use and How we can store it?\n"
   ]
  },
  {
   "cell_type": "code",
   "execution_count": 28,
   "metadata": {},
   "outputs": [
    {
     "data": {
      "text/plain": [
       "<matplotlib.axes._subplots.AxesSubplot at 0x2570c7d8308>"
      ]
     },
     "execution_count": 28,
     "metadata": {},
     "output_type": "execute_result"
    },
    {
     "data": {
      "image/png": "[encoded data removed]",
      "text/plain": [
       "<Figure size 1080x144 with 2 Axes>"
      ]
     },
     "metadata": {
      "needs_background": "light"
     },
     "output_type": "display_data"
    }
   ],
   "source": [
    "# visualization of Exploitable: total renewable surface water, Exploitable: regular renewable groundwater through years\n",
    "# figure size\n",
    "plt.figure(figsize = [15, 2])\n",
    "#add figure title\n",
    "# LEFT plot\n",
    "plt.subplot(1, 2, 1)\n",
    "sns.barplot(data = df, x = 'Year', y = 'Exploitable:_total_renewable_surface_water')\n",
    "# right plot\n",
    "plt.subplot(1, 2, 2)\n",
    "sns.barplot(data = df, x = 'Year', y = 'Exploitable:_regular_renewable_groundwater')\n",
    "\n",
    "\n"
   ]
  },
  {
   "cell_type": "code",
   "execution_count": 29,
   "metadata": {},
   "outputs": [
    {
     "data": {
      "text/plain": [
       "<matplotlib.axes._subplots.AxesSubplot at 0x2570c9ab448>"
      ]
     },
     "execution_count": 29,
     "metadata": {},
     "output_type": "execute_result"
    },
    {
     "data": {
      "image/png": "[encoded data removed]",
      "text/plain": [
       "<Figure size 432x288 with 1 Axes>"
      ]
     },
     "metadata": {
      "needs_background": "light"
     },
     "output_type": "display_data"
    }
   ],
   "source": [
    "# visualization of dam capacity\n",
    "sns.barplot(data = df, x = 'Year', y = 'Total_dam_capacity')\n"
   ]
  },
  {
   "cell_type": "markdown",
   "metadata": {},
   "source": [
    "> Those visualizations show the Exploitable water sources which are from rivers, floods and groundwater, their amounts through years is stable, and also the capacity of the dam can store them."
   ]
  },
  {
   "cell_type": "markdown",
   "metadata": {},
   "source": [
    "5.How pollution affects water consumption?\n"
   ]
  },
  {
   "cell_type": "code",
   "execution_count": 3,
   "metadata": {},
   "outputs": [
    {
     "data": {
      "text/plain": [
       "<matplotlib.axes._subplots.AxesSubplot at 0x22481b09b08>"
      ]
     },
     "execution_count": 3,
     "metadata": {},
     "output_type": "execute_result"
    },
    {
     "data": {
      "image/png": "[encoded data removed]",
      "text/plain": [
       "<Figure size 1080x144 with 2 Axes>"
      ]
     },
     "metadata": {
      "needs_background": "light"
     },
     "output_type": "display_data"
    }
   ],
   "source": [
    "# visualization of Produced municipal wastewater and Collected municipal wastewater over years\n",
    "# figure size\n",
    "plt.figure(figsize = [15, 2])\n",
    "#add figure title\n",
    "# LEFT plot\n",
    "plt.subplot(1, 2, 1)\n",
    "sns.barplot(data = df, x = 'Year', y = 'Produced_municipal_wastewater')\n",
    "# right plot\n",
    "plt.subplot(1, 2, 2)\n",
    "sns.barplot(data = df, x = 'Year', y = 'Collected_municipal_wastewater')\n",
    "\n",
    "\n"
   ]
  },
  {
   "cell_type": "markdown",
   "metadata": {},
   "source": [
    "> Those visualizations show that the Produced municipal wastewater is increasing through years, and the Collected municipal wastewater is still stable."
   ]
  },
  {
   "cell_type": "markdown",
   "metadata": {},
   "source": [
    "<a id='conclusions'></a>\n",
    "## Conclusions\n",
    "\n",
    "**After those ways of analysis i can conclude the following:**\n",
    "\n",
    "1. The water resources in Egypt is rainfall, groundwater, rivers and lakes.\n",
    "2. The withdrawal in agriculture is very great and agriculture's crops consume a great amount of water.\n",
    "3. There are Exploitable water sources from groundwater, rainfall, flood that can be stored in the dam.\n",
    "4. There is an increase in Produced municipal wastewater through years, and that will affect the Exploitable water we use and agriculture.\n"
   ]
  },
  {
   "cell_type": "code",
   "execution_count": null,
   "metadata": {
    "collapsed": true
   },
   "outputs": [],
   "source": []
  }
 ],
 "metadata": {
  "kernelspec": {
   "display_name": "Python 3",
   "language": "python",
   "name": "python3"
  },
  "language_info": {
   "codemirror_mode": {
    "name": "ipython",
    "version": 3
   },
   "file_extension": ".py",
   "mimetype": "text/x-python",
   "name": "python",
   "nbconvert_exporter": "python",
   "pygments_lexer": "ipython3",
   "version": "3.7.4"
  }
 },
 "nbformat": 4,
 "nbformat_minor": 2
}

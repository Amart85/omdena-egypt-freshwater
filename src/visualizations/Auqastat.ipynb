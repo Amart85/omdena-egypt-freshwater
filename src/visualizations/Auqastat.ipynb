{
  "nbformat": 4,
  "nbformat_minor": 0,
  "metadata": {
    "colab": {
      "name": "Auqastat.ipynb",
      "provenance": []
    },
    "kernelspec": {
      "name": "python3",
      "display_name": "Python 3"
    },
    "language_info": {
      "name": "python"
    }
  },
  "cells": [
    {
      "cell_type": "code",
      "metadata": {
        "id": "NR-vWSyLE5Ek"
      },
      "source": [
        "import numpy as np\n",
        "import pandas as pd\n",
        "import matplotlib.pyplot as plt\n",
        "import seaborn as sb\n",
        "\n",
        "import warnings\n",
        "warnings.filterwarnings('ignore')\n",
        "%matplotlib inline"
      ],
      "execution_count": null,
      "outputs": []
    },
    {
      "cell_type": "code",
      "metadata": {
        "id": "mziGo-u1E9YP"
      },
      "source": [
        "df=pd.read_csv('/content/drive/MyDrive/Omdena Fresh water/Dataset/aquastat (4).csv')"
      ],
      "execution_count": null,
      "outputs": []
    },
    {
      "cell_type": "code",
      "metadata": {
        "colab": {
          "base_uri": "https://localhost:8080/"
        },
        "id": "noM_K7dmFLaN",
        "outputId": "59ff9233-4cdb-4c85-d2e3-4af83cfbe68d"
      },
      "source": [
        "len(df)"
      ],
      "execution_count": null,
      "outputs": [
        {
          "output_type": "execute_result",
          "data": {
            "text/plain": [
              "216"
            ]
          },
          "metadata": {
            "tags": []
          },
          "execution_count": 36
        }
      ]
    },
    {
      "cell_type": "code",
      "metadata": {
        "colab": {
          "base_uri": "https://localhost:8080/"
        },
        "id": "IGcTc4pLHjFD",
        "outputId": "a9a1904a-6cad-4938-d86a-2e761301bb46"
      },
      "source": [
        "df.columns\n"
      ],
      "execution_count": null,
      "outputs": [
        {
          "output_type": "execute_result",
          "data": {
            "text/plain": [
              "Index(['Unnamed: 0', 'Unnamed: 1', 'Unnamed: 2', '1988-1992', 'Unnamed: 4',\n",
              "       'Unnamed: 5', 'Unnamed: 6', '1993-1997', 'Unnamed: 8', 'Unnamed: 9',\n",
              "       'Unnamed: 10', '1998-2002', 'Unnamed: 12', 'Unnamed: 13', 'Unnamed: 14',\n",
              "       '2003-2007', 'Unnamed: 16', 'Unnamed: 17', 'Unnamed: 18', '2008-2012',\n",
              "       'Unnamed: 20', 'Unnamed: 21', 'Unnamed: 22', '2013-2017', 'Unnamed: 24',\n",
              "       'Unnamed: 25', 'Unnamed: 26', '2018-2022', 'Unnamed: 28',\n",
              "       'Unnamed: 29'],\n",
              "      dtype='object')"
            ]
          },
          "metadata": {
            "tags": []
          },
          "execution_count": 37
        }
      ]
    },
    {
      "cell_type": "code",
      "metadata": {
        "colab": {
          "base_uri": "https://localhost:8080/",
          "height": 538
        },
        "id": "l-nDTHSxFGz3",
        "outputId": "08a66756-36a1-40aa-bbf1-052cd51ad88a"
      },
      "source": [
        "df.head()"
      ],
      "execution_count": null,
      "outputs": [
        {
          "output_type": "execute_result",
          "data": {
            "text/html": [
              "<div>\n",
              "<style scoped>\n",
              "    .dataframe tbody tr th:only-of-type {\n",
              "        vertical-align: middle;\n",
              "    }\n",
              "\n",
              "    .dataframe tbody tr th {\n",
              "        vertical-align: top;\n",
              "    }\n",
              "\n",
              "    .dataframe thead th {\n",
              "        text-align: right;\n",
              "    }\n",
              "</style>\n",
              "<table border=\"1\" class=\"dataframe\">\n",
              "  <thead>\n",
              "    <tr style=\"text-align: right;\">\n",
              "      <th></th>\n",
              "      <th>Unnamed: 0</th>\n",
              "      <th>Unnamed: 1</th>\n",
              "      <th>Unnamed: 2</th>\n",
              "      <th>1988-1992</th>\n",
              "      <th>Unnamed: 4</th>\n",
              "      <th>Unnamed: 5</th>\n",
              "      <th>Unnamed: 6</th>\n",
              "      <th>1993-1997</th>\n",
              "      <th>Unnamed: 8</th>\n",
              "      <th>Unnamed: 9</th>\n",
              "      <th>Unnamed: 10</th>\n",
              "      <th>1998-2002</th>\n",
              "      <th>Unnamed: 12</th>\n",
              "      <th>Unnamed: 13</th>\n",
              "      <th>Unnamed: 14</th>\n",
              "      <th>2003-2007</th>\n",
              "      <th>Unnamed: 16</th>\n",
              "      <th>Unnamed: 17</th>\n",
              "      <th>Unnamed: 18</th>\n",
              "      <th>2008-2012</th>\n",
              "      <th>Unnamed: 20</th>\n",
              "      <th>Unnamed: 21</th>\n",
              "      <th>Unnamed: 22</th>\n",
              "      <th>2013-2017</th>\n",
              "      <th>Unnamed: 24</th>\n",
              "      <th>Unnamed: 25</th>\n",
              "      <th>Unnamed: 26</th>\n",
              "      <th>2018-2022</th>\n",
              "      <th>Unnamed: 28</th>\n",
              "      <th>Unnamed: 29</th>\n",
              "    </tr>\n",
              "  </thead>\n",
              "  <tbody>\n",
              "    <tr>\n",
              "      <th>0</th>\n",
              "      <td>Egypt</td>\n",
              "      <td>Long-term average annual precipitation in dept...</td>\n",
              "      <td>1992.0</td>\n",
              "      <td>18.100000</td>\n",
              "      <td>NaN</td>\n",
              "      <td>NaN</td>\n",
              "      <td>1997.0</td>\n",
              "      <td>18.100000</td>\n",
              "      <td>NaN</td>\n",
              "      <td>NaN</td>\n",
              "      <td>2002.0</td>\n",
              "      <td>18.100000</td>\n",
              "      <td>NaN</td>\n",
              "      <td>NaN</td>\n",
              "      <td>2007.0</td>\n",
              "      <td>18.100000</td>\n",
              "      <td>NaN</td>\n",
              "      <td>NaN</td>\n",
              "      <td>2012.0</td>\n",
              "      <td>18.100000</td>\n",
              "      <td>NaN</td>\n",
              "      <td>NaN</td>\n",
              "      <td>2017.0</td>\n",
              "      <td>18.100000</td>\n",
              "      <td>NaN</td>\n",
              "      <td>NaN</td>\n",
              "      <td>NaN</td>\n",
              "      <td>NaN</td>\n",
              "      <td>NaN</td>\n",
              "      <td>NaN</td>\n",
              "    </tr>\n",
              "    <tr>\n",
              "      <th>1</th>\n",
              "      <td>Egypt</td>\n",
              "      <td>Long-term average annual precipitation in volu...</td>\n",
              "      <td>1992.0</td>\n",
              "      <td>18.126245</td>\n",
              "      <td>E</td>\n",
              "      <td>NaN</td>\n",
              "      <td>1997.0</td>\n",
              "      <td>18.126245</td>\n",
              "      <td>E</td>\n",
              "      <td>NaN</td>\n",
              "      <td>2002.0</td>\n",
              "      <td>18.126245</td>\n",
              "      <td>E</td>\n",
              "      <td>NaN</td>\n",
              "      <td>2007.0</td>\n",
              "      <td>18.126245</td>\n",
              "      <td>E</td>\n",
              "      <td>NaN</td>\n",
              "      <td>2012.0</td>\n",
              "      <td>18.126245</td>\n",
              "      <td>E</td>\n",
              "      <td>NaN</td>\n",
              "      <td>2017.0</td>\n",
              "      <td>18.126245</td>\n",
              "      <td>E</td>\n",
              "      <td>NaN</td>\n",
              "      <td>NaN</td>\n",
              "      <td>NaN</td>\n",
              "      <td>NaN</td>\n",
              "      <td>NaN</td>\n",
              "    </tr>\n",
              "    <tr>\n",
              "      <th>2</th>\n",
              "      <td>Egypt</td>\n",
              "      <td>National Rainfall Index (NRI) (mm/yr)</td>\n",
              "      <td>1992.0</td>\n",
              "      <td>170.400000</td>\n",
              "      <td>X</td>\n",
              "      <td>NaN</td>\n",
              "      <td>1997.0</td>\n",
              "      <td>96.033333</td>\n",
              "      <td>I</td>\n",
              "      <td>NaN</td>\n",
              "      <td>2002.0</td>\n",
              "      <td>106.600000</td>\n",
              "      <td>X</td>\n",
              "      <td>NaN</td>\n",
              "      <td>2007.0</td>\n",
              "      <td>106.600000</td>\n",
              "      <td>I</td>\n",
              "      <td>NaN</td>\n",
              "      <td>2012.0</td>\n",
              "      <td>106.600000</td>\n",
              "      <td>I</td>\n",
              "      <td>NaN</td>\n",
              "      <td>2017.0</td>\n",
              "      <td>106.600000</td>\n",
              "      <td>I</td>\n",
              "      <td>NaN</td>\n",
              "      <td>NaN</td>\n",
              "      <td>NaN</td>\n",
              "      <td>NaN</td>\n",
              "      <td>NaN</td>\n",
              "    </tr>\n",
              "    <tr>\n",
              "      <th>3</th>\n",
              "      <td>Egypt</td>\n",
              "      <td>Surface water produced internally (10^9 m3/yr)</td>\n",
              "      <td>1992.0</td>\n",
              "      <td>0.500000</td>\n",
              "      <td>NaN</td>\n",
              "      <td>NaN</td>\n",
              "      <td>1997.0</td>\n",
              "      <td>0.500000</td>\n",
              "      <td>NaN</td>\n",
              "      <td>NaN</td>\n",
              "      <td>2002.0</td>\n",
              "      <td>0.500000</td>\n",
              "      <td>NaN</td>\n",
              "      <td>NaN</td>\n",
              "      <td>2007.0</td>\n",
              "      <td>0.500000</td>\n",
              "      <td>NaN</td>\n",
              "      <td>NaN</td>\n",
              "      <td>2012.0</td>\n",
              "      <td>0.500000</td>\n",
              "      <td>NaN</td>\n",
              "      <td>NaN</td>\n",
              "      <td>2017.0</td>\n",
              "      <td>0.500000</td>\n",
              "      <td>NaN</td>\n",
              "      <td>NaN</td>\n",
              "      <td>NaN</td>\n",
              "      <td>NaN</td>\n",
              "      <td>NaN</td>\n",
              "      <td>NaN</td>\n",
              "    </tr>\n",
              "    <tr>\n",
              "      <th>4</th>\n",
              "      <td>Egypt</td>\n",
              "      <td>Groundwater produced internally (10^9 m3/yr)</td>\n",
              "      <td>1992.0</td>\n",
              "      <td>0.500000</td>\n",
              "      <td>NaN</td>\n",
              "      <td>[1]</td>\n",
              "      <td>1997.0</td>\n",
              "      <td>0.500000</td>\n",
              "      <td>NaN</td>\n",
              "      <td>[2]</td>\n",
              "      <td>2002.0</td>\n",
              "      <td>0.500000</td>\n",
              "      <td>NaN</td>\n",
              "      <td>[3]</td>\n",
              "      <td>2007.0</td>\n",
              "      <td>0.500000</td>\n",
              "      <td>NaN</td>\n",
              "      <td>[4]</td>\n",
              "      <td>2012.0</td>\n",
              "      <td>0.500000</td>\n",
              "      <td>NaN</td>\n",
              "      <td>[5]</td>\n",
              "      <td>2017.0</td>\n",
              "      <td>0.500000</td>\n",
              "      <td>NaN</td>\n",
              "      <td>[6]</td>\n",
              "      <td>NaN</td>\n",
              "      <td>NaN</td>\n",
              "      <td>NaN</td>\n",
              "      <td>NaN</td>\n",
              "    </tr>\n",
              "  </tbody>\n",
              "</table>\n",
              "</div>"
            ],
            "text/plain": [
              "  Unnamed: 0  ... Unnamed: 29\n",
              "0      Egypt  ...         NaN\n",
              "1      Egypt  ...         NaN\n",
              "2      Egypt  ...         NaN\n",
              "3      Egypt  ...         NaN\n",
              "4      Egypt  ...         NaN\n",
              "\n",
              "[5 rows x 30 columns]"
            ]
          },
          "metadata": {
            "tags": []
          },
          "execution_count": 38
        }
      ]
    },
    {
      "cell_type": "code",
      "metadata": {
        "colab": {
          "base_uri": "https://localhost:8080/"
        },
        "id": "qpm2ZmTaFa-C",
        "outputId": "e6de9a74-3a1c-4d2c-c30d-9fa9e5f3e5a2"
      },
      "source": [
        "df['Unnamed: 1'].unique()"
      ],
      "execution_count": null,
      "outputs": [
        {
          "output_type": "execute_result",
          "data": {
            "text/plain": [
              "array(['Long-term average annual precipitation in depth (mm/year)',\n",
              "       'Long-term average annual precipitation in volume (10^9 m3/year)',\n",
              "       'National Rainfall Index (NRI) (mm/yr)',\n",
              "       'Surface water produced internally (10^9 m3/yr)',\n",
              "       'Groundwater produced internally (10^9 m3/yr)',\n",
              "       'Overlap between surface water and groundwater (10^9 m3/yr)',\n",
              "       'Total internal renewable water resources (IRWR) (10^9 m3/yr)',\n",
              "       'Total internal renewable water resources per capita (m3/inhab/yr)',\n",
              "       'Surface water: entering the country (total) (10^9 m3/yr)',\n",
              "       'Surface water: inflow not submitted to treaties (10^9 m3/yr)',\n",
              "       'Surface water: inflow submitted to treaties (10^9 m3/yr)',\n",
              "       'Surface water: inflow secured through treaties (10^9 m3/yr)',\n",
              "       'Surface water: total flow of border rivers (10^9 m3/year)',\n",
              "       'Surface water: accounted flow of border rivers (10^9 m3/yr)',\n",
              "       'Surface water: accounted inflow (10^9 m3/yr)',\n",
              "       'Surface water: leaving the country to other countries (total) (10^9 m3/year)',\n",
              "       'Surface water: outflow to other countries not submitted to treaties (10^9 m3/year)',\n",
              "       'Surface water: outflow to other countries submitted to treaties (10^9 m3/year)',\n",
              "       'Surface water: outflow to other countries secured through treaties (10^9 m3/year)',\n",
              "       'Surface water: total external renewable (10^9 m3/yr)',\n",
              "       'Groundwater: entering the country (total) (10^9 m3/yr)',\n",
              "       'Groundwater: accounted inflow (10^9 m3/yr)',\n",
              "       'Groundwater: leaving the country to other countries (total) (10^9 m3/year)',\n",
              "       'Groundwater: accounted outflow to other countries (10^9 m3/year)',\n",
              "       'Water resources: total external renewable (10^9 m3/yr)',\n",
              "       'Total renewable surface water (10^9 m3/yr)',\n",
              "       'Total renewable groundwater (10^9 m3/yr)',\n",
              "       'Overlap: between surface water and groundwater (10^9 m3/yr)',\n",
              "       'Total renewable water resources (10^9 m3/yr)',\n",
              "       'Dependency ratio (%)',\n",
              "       'Total renewable water resources per capita (m3/inhab/yr)',\n",
              "       'Exploitable: regular renewable surface water (km<sup>3</sup>/year or 10<sup>9</sup>m<sup>3</sup>/year)',\n",
              "       'Exploitable: irregular renewable surface water (km<sup>3</sup>/year or 10<sup>9</sup>m<sup>3</sup>/year)',\n",
              "       'Exploitable: total renewable surface water (10^9 m3/yr)',\n",
              "       'Exploitable: regular renewable groundwater (km<sup>3</sup>/year or 10<sup>9</sup>m<sup>3</sup>/year)',\n",
              "       'Total exploitable water resources (10^9 m3/yr)',\n",
              "       'Interannual variability (WRI) (-)',\n",
              "       'Seasonal variability (WRI) (-)',\n",
              "       'Total dam capacity (km<sup>3</sup>)',\n",
              "       'Dam capacity per capita (m3/inhab)',\n",
              "       'Agricultural water withdrawal (10^9 m3/year)',\n",
              "       'Industrial water withdrawal (km<sup>3</sup>/year or 10<sup>9</sup>m<sup>3</sup>/year)',\n",
              "       'Municipal water withdrawal (km<sup>3</sup>/year or 10<sup>9</sup>m<sup>3</sup>/year)',\n",
              "       'Total water withdrawal (10^9 m3/yr)',\n",
              "       'Irrigation water withdrawal (10^9 m3/yr)',\n",
              "       'Irrigation water requirement (km<sup>3</sup>/year or 10<sup>9</sup>m<sup>3</sup>/year)',\n",
              "       'Agricultural water withdrawal as % of total water withdrawal (%)',\n",
              "       'Industrial water withdrawal as % of total water withdrawal (%)',\n",
              "       'Municipal water withdrawal as % of total withdrawal (%)',\n",
              "       'Total water withdrawal per capita (m<sup>3</sup>/year per inhabitant)',\n",
              "       'Environmental Flow Requirements (10^9 m3/year)',\n",
              "       'Fresh surface water withdrawal (10^9 m3/yr)',\n",
              "       'Fresh groundwater withdrawal (10^9 m3/yr)',\n",
              "       'Total freshwater withdrawal (10^9 m3/yr)',\n",
              "       'Desalinated water produced (km<sup>3</sup>/year or 10<sup>9</sup>m<sup>3</sup>/year)',\n",
              "       'Direct use of treated municipal wastewater (10^9 m3/yr)',\n",
              "       'Direct use of agricultural drainage water (10^9 m3/yr)',\n",
              "       'Produced municipal wastewater (km<sup>3</sup>/year or 10^9m<sup>3</sup>/year)',\n",
              "       'Collected municipal wastewater (km<sup>3</sup>/year or 10^9m<sup>3</sup>/year)',\n",
              "       'Treated municipal wastewater (km<sup>3</sup>/year or 10^9m<sup>3</sup>/year)',\n",
              "       'Number of municipal wastewater treatment facilities (-)',\n",
              "       'Capacity of the municipal wastewater treatment facilities (10^9 m3/yr)',\n",
              "       'Not treated municipal wastewater (km<sup>3</sup>/year or 10^9m<sup>3</sup>/year)',\n",
              "       'Treated municipal wastewater discharged (secondary water) (km<sup>3</sup>/year or 10^9m<sup>3</sup>/year)',\n",
              "       'Not treated municipal wastewater discharged (secondary water) (km<sup>3</sup>/year or 10^9m<sup>3</sup>/year)',\n",
              "       'Direct use of treated municipal wastewater (km<sup>3</sup>/year or 10^9m<sup>3</sup>/year)',\n",
              "       'Direct use of treated municipal wastewater for irrigation purposes (km<sup>3</sup>/year or 10^9m<sup>3</sup>/year)',\n",
              "       'Direct use of not treated municipal wastewater for irrigation purposes (km<sup>3</sup>/year or 10^9m<sup>3</sup>/year)',\n",
              "       'Area equipped for irrigation by direct use of treated municipal wastewater (1000 ha)',\n",
              "       'Area equipped for irrigation by direct use of not treated municipal wastewater (1000 ha)',\n",
              "       'MDG 7.5. Freshwater withdrawal as % of total renewable water resources (%)',\n",
              "       'Agricultural water withdrawal as % of total renewable water resources (%)',\n",
              "       'SDG 6.4.2. Water Stress (%)',\n",
              "       'SDG 6.4.1. Water Use Efficiency (US$/m3)',\n",
              "       'SDG 6.4.1. Irrigated Agriculture Water Use Efficiency (US$/m3)',\n",
              "       'SDG 6.4.1. Industrial Water Use Efficiency (US$/m3)',\n",
              "       'SDG 6.4.1. Services Water Use Efficiency (US$/m3)',\n",
              "       'Irrigation potential (1000 hectares)',\n",
              "       'Area equipped for full control irrigation: surface irrigation (1000 ha)',\n",
              "       'Area equipped for full control irrigation: sprinkler irrigation (1000 ha)',\n",
              "       'Area equipped for full control irrigation: localized irrigation (1000 ha)',\n",
              "       'Area equipped for full control irrigation: total (1000 ha)',\n",
              "       'Area equipped for full control irrigation: actually irrigated (1000 ha)',\n",
              "       '% of area equipped for full control irrigation actually irrigated (%)',\n",
              "       'Area equipped for irrigation: equipped lowland areas (1000 ha)',\n",
              "       'Area equipped for irrigation: spate irrigation (1000 ha)',\n",
              "       'Area equipped for irrigation: total (1000 ha)',\n",
              "       '% of the area equipped for irrigation managed by women (%)',\n",
              "       '% of the agricultural holdings with irrigation managed by women (%)',\n",
              "       'Area equipped for irrigation: actually irrigated (1000 ha)',\n",
              "       '% of the area equipped for irrigation actually irrigated (%)',\n",
              "       '% of the cultivated area equipped for irrigation (%)',\n",
              "       '% of irrigation potential equipped for irrigation (%)',\n",
              "       'Flood recession cropping area non-equipped (1000 ha)',\n",
              "       'Cultivated wetlands and inland valley bottoms non-equipped (1000 ha)',\n",
              "       'Total agricultural water managed area (1000 ha)',\n",
              "       '% of agricultural water managed area equipped for irrigation (%)',\n",
              "       'Area equipped for irrigation by surface water (1000 ha)',\n",
              "       'Area equipped for irrigation by groundwater (1000 ha)',\n",
              "       'Area equipped for irrigation by mixed surface water and groundwater (1000 ha)',\n",
              "       'Area equipped for irrigation by direct use of non-treated municipal wastewater  (1000 ha)',\n",
              "       'Area equipped for irrigation by direct use of agricultural drainage water (1000 ha)',\n",
              "       'Area equipped for irrigation by desalinated water (1000 ha)',\n",
              "       '% of area equipped for irrigation by surface water (%)',\n",
              "       '% of area equipped for irrigation by groundwater  (%)',\n",
              "       '% of area equipped for irrigation by mixed surface water and groundwater (%)',\n",
              "       '% of area equipped for irrigation by direct use of  treated municipal wastewater (%)',\n",
              "       '% of area equipped for irrigation by direct use of non-treated municipal wastewater (%)',\n",
              "       '% of area equipped for irrigation by direct use of agricultural drainage water  (%)',\n",
              "       '% of area equipped for irrigation by desalinated water (%)',\n",
              "       'Area equipped for power irrigation (surface water or groundwater) (1000 ha)',\n",
              "       '% of area equipped for irrigation power irrigated (%)',\n",
              "       'Total harvested irrigated crop area (full control irrigation) (1000 ha)',\n",
              "       'Harvested irrigated temporary crop area: Total (1000 ha)',\n",
              "       'Harvested irrigated permanent crop area: Total (1000 ha)',\n",
              "       'Permanent meadows and pastures irrigated (1000 ha)',\n",
              "       'Irrigated cropping intensity (%)',\n",
              "       'Harvested irrigated temporary crop area: Wheat (1000 ha)',\n",
              "       'Harvested irrigated temporary crop area: Rice (1000 ha)',\n",
              "       'Harvested irrigated temporary crop area: Barley (1000 ha)',\n",
              "       'Harvested irrigated temporary crop area: Maize (1000 ha)',\n",
              "       'Harvested irrigated temporary crop area: Millet (1000 ha)',\n",
              "       'Harvested irrigated temporary crop area: Sorghum (1000 ha)',\n",
              "       'Harvested irrigated temporary crop area: Other cereals (1000 ha)',\n",
              "       'Harvested irrigated temporary crop area: Vegetables (1000 ha)',\n",
              "       'Harvested irrigated temporary crop area: Soybeans (1000 ha)',\n",
              "       'Harvested irrigated temporary crop area: Groundnuts (1000 ha)',\n",
              "       'Harvested irrigated temporary crop area: Sesame (1000 ha)',\n",
              "       'Harvested irrigated temporary crop area: Sunflower (1000 ha)',\n",
              "       'Harvested irrigated temporary crop area: Potatoes (1000 ha)',\n",
              "       'Harvested irrigated temporary crop area: Sweet potatoes (1000 ha)',\n",
              "       'Harvested irrigated temporary crop area: Cassava (1000 ha)',\n",
              "       'Harvested irrigated temporary crop area: Other roots and tubers (1000 ha)',\n",
              "       'Harvested irrigated temporary crop area: Leguminous crops (1000 ha)',\n",
              "       'Harvested irrigated temporary crop area: Sugar beet (1000 ha)',\n",
              "       'Harvested irrigated temporary crop area: Sugarcane (1000 ha)',\n",
              "       'Harvested irrigated temporary crop area: Fodder (1000 ha)',\n",
              "       'Harvested irrigated temporary crop area: Cotton (1000 ha)',\n",
              "       'Harvested irrigated temporary crop area: Flowers (1000 ha)',\n",
              "       'Harvested irrigated temporary crop area: Tobacco (1000 ha)',\n",
              "       'Harvested irrigated temporary crop area: Other crops (1000 ha)',\n",
              "       'Harvested irrigated permanent crop area: Plantains (1000 ha)',\n",
              "       'Harvested irrigated permanent crop area: Bananas (1000 ha)',\n",
              "       'Harvested irrigated permanent crop area: Citrus (1000 ha)',\n",
              "       'Harvested irrigated permanent crop area: Grapes (1000 ha)',\n",
              "       'Harvested irrigated permanent crop area: Other fruits (1000 ha)',\n",
              "       'Harvested irrigated permanent crop area: Coconuts (1000 ha)',\n",
              "       'Harvested irrigated permanent crop area: Olives (1000 ha)',\n",
              "       'Harvested irrigated permanent crop area: Oil palm (1000 ha)',\n",
              "       'Harvested irrigated permanent crop area: Coffee (1000 ha)',\n",
              "       'Harvested irrigated permanent crop area: Tea (1000 ha)',\n",
              "       'Harvested irrigated permanent crop area: Cocoa beans (1000 ha)',\n",
              "       'Harvested irrigated permanent crop area: Grass and Fodder (1000 ha)',\n",
              "       'Harvested irrigated permanent crop area: Rubber (1000 ha)',\n",
              "       'Harvested irrigated permanent crop area: Other crops (1000 ha)',\n",
              "       '% of total grain production irrigated (%)',\n",
              "       'Ratio between rainfed and irrigated yields (-)',\n",
              "       'Area equipped for irrigation drained (1000 ha)',\n",
              "       'Non-irrigated cultivated area drained (1000 ha)',\n",
              "       'Total cultivated area drained (1000 ha)',\n",
              "       '% of area equipped for irrigation drained (%)',\n",
              "       '% of total cultivated area drained (%)', nan], dtype=object)"
            ]
          },
          "metadata": {
            "tags": []
          },
          "execution_count": 39
        }
      ]
    },
    {
      "cell_type": "markdown",
      "metadata": {
        "id": "riaJaHWyUXJB"
      },
      "source": [
        "### Water Withdrawal"
      ]
    },
    {
      "cell_type": "code",
      "metadata": {
        "id": "2hsVPBRrUbqZ"
      },
      "source": [
        "water_withdrawal=df[(df['Unnamed: 1']=='Industrial water withdrawal (km<sup>3</sup>/year or 10<sup>9</sup>m<sup>3</sup>/year)')|\n",
        "                    (df['Unnamed: 1']=='Municipal water withdrawal (km<sup>3</sup>/year or 10<sup>9</sup>m<sup>3</sup>/year)')|\n",
        "                    (df['Unnamed: 1']=='Irrigation water withdrawal (10^9 m3/yr)')]\n",
        "                    "
      ],
      "execution_count": null,
      "outputs": []
    },
    {
      "cell_type": "code",
      "metadata": {
        "id": "WBDaBAmtUxqJ"
      },
      "source": [
        "water_withdrawal.drop(['Unnamed: 2','Unnamed: 4','Unnamed: 6','Unnamed: 8','Unnamed: 10','Unnamed: 12','Unnamed: 14','Unnamed: 5','Unnamed: 9','Unnamed: 13','Unnamed: 16','Unnamed: 17','Unnamed: 18','Unnamed: 20','Unnamed: 21','Unnamed: 22','Unnamed: 24','Unnamed: 25','Unnamed: 26','Unnamed: 28','Unnamed: 29'], inplace=True, axis=1)\n"
      ],
      "execution_count": null,
      "outputs": []
    },
    {
      "cell_type": "code",
      "metadata": {
        "colab": {
          "base_uri": "https://localhost:8080/"
        },
        "id": "F_01pF0qUzPO",
        "outputId": "5c32253e-2073-417c-8936-5e112c7824f4"
      },
      "source": [
        "len(water_withdrawal)"
      ],
      "execution_count": null,
      "outputs": [
        {
          "output_type": "execute_result",
          "data": {
            "text/plain": [
              "3"
            ]
          },
          "metadata": {
            "tags": []
          },
          "execution_count": 111
        }
      ]
    },
    {
      "cell_type": "code",
      "metadata": {
        "colab": {
          "base_uri": "https://localhost:8080/",
          "height": 141
        },
        "id": "ZMU_cy23U0SF",
        "outputId": "b971cf84-6bc6-4c25-c032-56d078d1c102"
      },
      "source": [
        "water_withdrawal.head()"
      ],
      "execution_count": null,
      "outputs": [
        {
          "output_type": "execute_result",
          "data": {
            "text/html": [
              "<div>\n",
              "<style scoped>\n",
              "    .dataframe tbody tr th:only-of-type {\n",
              "        vertical-align: middle;\n",
              "    }\n",
              "\n",
              "    .dataframe tbody tr th {\n",
              "        vertical-align: top;\n",
              "    }\n",
              "\n",
              "    .dataframe thead th {\n",
              "        text-align: right;\n",
              "    }\n",
              "</style>\n",
              "<table border=\"1\" class=\"dataframe\">\n",
              "  <thead>\n",
              "    <tr style=\"text-align: right;\">\n",
              "      <th></th>\n",
              "      <th>Unnamed: 0</th>\n",
              "      <th>Unnamed: 1</th>\n",
              "      <th>1988-1992</th>\n",
              "      <th>1993-1997</th>\n",
              "      <th>1998-2002</th>\n",
              "      <th>2003-2007</th>\n",
              "      <th>2008-2012</th>\n",
              "      <th>2013-2017</th>\n",
              "      <th>2018-2022</th>\n",
              "    </tr>\n",
              "  </thead>\n",
              "  <tbody>\n",
              "    <tr>\n",
              "      <th>41</th>\n",
              "      <td>Egypt</td>\n",
              "      <td>Industrial water withdrawal (km&lt;sup&gt;3&lt;/sup&gt;/ye...</td>\n",
              "      <td>NaN</td>\n",
              "      <td>4.2574</td>\n",
              "      <td>3.60</td>\n",
              "      <td>2.60</td>\n",
              "      <td>1.2</td>\n",
              "      <td>5.40</td>\n",
              "      <td>NaN</td>\n",
              "    </tr>\n",
              "    <tr>\n",
              "      <th>42</th>\n",
              "      <td>Egypt</td>\n",
              "      <td>Municipal water withdrawal (km&lt;sup&gt;3&lt;/sup&gt;/yea...</td>\n",
              "      <td>NaN</td>\n",
              "      <td>4.3574</td>\n",
              "      <td>6.04</td>\n",
              "      <td>7.89</td>\n",
              "      <td>9.6</td>\n",
              "      <td>10.75</td>\n",
              "      <td>NaN</td>\n",
              "    </tr>\n",
              "    <tr>\n",
              "      <th>44</th>\n",
              "      <td>Egypt</td>\n",
              "      <td>Irrigation water withdrawal (10^9 m3/yr)</td>\n",
              "      <td>NaN</td>\n",
              "      <td>NaN</td>\n",
              "      <td>NaN</td>\n",
              "      <td>NaN</td>\n",
              "      <td>NaN</td>\n",
              "      <td>NaN</td>\n",
              "      <td>NaN</td>\n",
              "    </tr>\n",
              "  </tbody>\n",
              "</table>\n",
              "</div>"
            ],
            "text/plain": [
              "   Unnamed: 0  ... 2018-2022\n",
              "41      Egypt  ...       NaN\n",
              "42      Egypt  ...       NaN\n",
              "44      Egypt  ...       NaN\n",
              "\n",
              "[3 rows x 9 columns]"
            ]
          },
          "metadata": {
            "tags": []
          },
          "execution_count": 112
        }
      ]
    },
    {
      "cell_type": "code",
      "metadata": {
        "colab": {
          "base_uri": "https://localhost:8080/",
          "height": 606
        },
        "id": "Uprd7LgFWTZU",
        "outputId": "6b8c1dae-d357-4304-c232-8dadb304c8b5"
      },
      "source": [
        "df_val=  water_withdrawal[['1993-1997','Unnamed: 1']].dropna()\n",
        "df_val['Unnamed: 1'] = df_val['Unnamed: 1'].str[:50]\n",
        "a4_dims = (12, 10)\n",
        "fig, ax =plt.subplots(figsize=a4_dims)\n",
        "\n",
        "ax = sb.barplot(data = df_val, x = 'Unnamed: 1', y = '1993-1997',)\n",
        "plt.grid()"
      ],
      "execution_count": null,
      "outputs": [
        {
          "output_type": "display_data",
          "data": {
            "image/png": "[encoded data removed]",
            "text/plain": [
              "<Figure size 864x720 with 1 Axes>"
            ]
          },
          "metadata": {
            "tags": [],
            "needs_background": "light"
          }
        }
      ]
    },
    {
      "cell_type": "code",
      "metadata": {
        "colab": {
          "base_uri": "https://localhost:8080/",
          "height": 606
        },
        "id": "rVGh1vHHWjwo",
        "outputId": "1db46ed9-d97c-4901-dea6-1740e7c01151"
      },
      "source": [
        "df_val=  water_withdrawal[['1998-2002','Unnamed: 1']].dropna()\n",
        "df_val['Unnamed: 1'] = df_val['Unnamed: 1'].str[:50]\n",
        "a4_dims = (12, 10)\n",
        "fig, ax =plt.subplots(figsize=a4_dims)\n",
        "\n",
        "ax = sb.barplot(data = df_val, x = 'Unnamed: 1', y = '1998-2002',)\n",
        "plt.grid()"
      ],
      "execution_count": null,
      "outputs": [
        {
          "output_type": "display_data",
          "data": {
            "image/png": "[encoded data removed]",
            "text/plain": [
              "<Figure size 864x720 with 1 Axes>"
            ]
          },
          "metadata": {
            "tags": [],
            "needs_background": "light"
          }
        }
      ]
    },
    {
      "cell_type": "code",
      "metadata": {
        "colab": {
          "base_uri": "https://localhost:8080/",
          "height": 606
        },
        "id": "oPTXj9ZqWojr",
        "outputId": "4b259bb6-0523-4979-93ff-53168242c9d9"
      },
      "source": [
        "df_val=  water_withdrawal[['2003-2007','Unnamed: 1']].dropna()\n",
        "df_val['Unnamed: 1'] = df_val['Unnamed: 1'].str[:50]\n",
        "a4_dims = (12, 10)\n",
        "fig, ax =plt.subplots(figsize=a4_dims)\n",
        "\n",
        "ax = sb.barplot(data = df_val, x = 'Unnamed: 1', y = '2003-2007',)\n",
        "plt.grid()"
      ],
      "execution_count": null,
      "outputs": [
        {
          "output_type": "display_data",
          "data": {
            "image/png": "[encoded data removed]",
            "text/plain": [
              "<Figure size 864x720 with 1 Axes>"
            ]
          },
          "metadata": {
            "tags": [],
            "needs_background": "light"
          }
        }
      ]
    },
    {
      "cell_type": "code",
      "metadata": {
        "colab": {
          "base_uri": "https://localhost:8080/",
          "height": 606
        },
        "id": "8YUkf70mWsFf",
        "outputId": "b92b2636-b03b-46a8-f3de-d9ac6ab7fd48"
      },
      "source": [
        "df_val=  water_withdrawal[['2008-2012','Unnamed: 1']].dropna()\n",
        "df_val['Unnamed: 1'] = df_val['Unnamed: 1'].str[:50]\n",
        "a4_dims = (12, 10)\n",
        "fig, ax =plt.subplots(figsize=a4_dims)\n",
        "\n",
        "ax = sb.barplot(data = df_val, x = 'Unnamed: 1', y = '2008-2012',)\n",
        "plt.grid()"
      ],
      "execution_count": null,
      "outputs": [
        {
          "output_type": "display_data",
          "data": {
            "image/png": "[encoded data removed]",
            "text/plain": [
              "<Figure size 864x720 with 1 Axes>"
            ]
          },
          "metadata": {
            "tags": [],
            "needs_background": "light"
          }
        }
      ]
    },
    {
      "cell_type": "code",
      "metadata": {
        "id": "nhia-MHsWu_q",
        "colab": {
          "base_uri": "https://localhost:8080/",
          "height": 606
        },
        "outputId": "8e639fd2-fff8-4d7f-d70b-a350efd5918c"
      },
      "source": [
        "df_val=  water_withdrawal[['2013-2017','Unnamed: 1']].dropna()\n",
        "df_val['Unnamed: 1'] = df_val['Unnamed: 1'].str[:50]\n",
        "a4_dims = (12, 10)\n",
        "fig, ax =plt.subplots(figsize=a4_dims)\n",
        "\n",
        "ax = sb.barplot(data = df_val, x = 'Unnamed: 1', y = '2013-2017',)\n",
        "plt.grid()"
      ],
      "execution_count": null,
      "outputs": [
        {
          "output_type": "display_data",
          "data": {
            "image/png": "[encoded data removed]",
            "text/plain": [
              "<Figure size 864x720 with 1 Axes>"
            ]
          },
          "metadata": {
            "tags": [],
            "needs_background": "light"
          }
        }
      ]
    },
    {
      "cell_type": "markdown",
      "metadata": {
        "id": "6BvQhQdYRq_A"
      },
      "source": [
        "### Harvested irrigated temporary crop area\n",
        "\n",
        "\n",
        "\n"
      ]
    },
    {
      "cell_type": "code",
      "metadata": {
        "id": "KqkloB1sF3Q9"
      },
      "source": [
        "harvested_temp_df=df[(df['Unnamed: 1']=='Harvested irrigated temporary crop area: Wheat (1000 ha)')|\n",
        "      ( df['Unnamed: 1']=='Harvested irrigated temporary crop area: Rice (1000 ha)')|\n",
        "       (df['Unnamed: 1']=='Harvested irrigated temporary crop area: Barley (1000 ha)')|\n",
        "       (df['Unnamed: 1']=='Harvested irrigated temporary crop area: Maize (1000 ha)')|\n",
        "      (df['Unnamed: 1']== 'Harvested irrigated temporary crop area: Millet (1000 ha)')|\n",
        "      (df['Unnamed: 1']== 'Harvested irrigated temporary crop area: Sorghum (1000 ha)')|\n",
        "      (df['Unnamed: 1']== 'Harvested irrigated temporary crop area: Other cereals (1000 ha)')|\n",
        "      (df['Unnamed: 1']== 'Harvested irrigated temporary crop area: Vegetables (1000 ha)')|\n",
        "     (df['Unnamed: 1']==  'Harvested irrigated temporary crop area: Soybeans (1000 ha)')|\n",
        "      (df['Unnamed: 1']== 'Harvested irrigated temporary crop area: Groundnuts (1000 ha)')|\n",
        "      (df['Unnamed: 1']== 'Harvested irrigated temporary crop area: Sesame (1000 ha)')|\n",
        "      (df['Unnamed: 1']== 'Harvested irrigated temporary crop area: Sunflower (1000 ha)')|\n",
        "      (df['Unnamed: 1']== 'Harvested irrigated temporary crop area: Potatoes (1000 ha)')|\n",
        "      (df['Unnamed: 1']== 'Harvested irrigated temporary crop area: Sweet potatoes (1000 ha)')|\n",
        "      (df['Unnamed: 1']== 'Harvested irrigated temporary crop area: Cassava (1000 ha)')|\n",
        "      (df['Unnamed: 1']== 'Harvested irrigated temporary crop area: Other roots and tubers (1000 ha)')|\n",
        "       (df['Unnamed: 1']=='Harvested irrigated temporary crop area: Leguminous crops (1000 ha)')|\n",
        "       (df['Unnamed: 1']=='Harvested irrigated temporary crop area: Sugar beet (1000 ha)')|\n",
        "       (df['Unnamed: 1']=='Harvested irrigated temporary crop area: Sugarcane (1000 ha)')|\n",
        "       (df['Unnamed: 1']=='Harvested irrigated temporary crop area: Fodder (1000 ha)')|\n",
        "       (df['Unnamed: 1']=='Harvested irrigated temporary crop area: Cotton (1000 ha)')|\n",
        "       (df['Unnamed: 1']=='Harvested irrigated temporary crop area: Flowers (1000 ha)')|\n",
        "       (df['Unnamed: 1']=='Harvested irrigated temporary crop area: Tobacco (1000 ha)')|\n",
        "       (df['Unnamed: 1']=='Harvested irrigated temporary crop area: Other crops (1000 ha)')\n",
        "                \n",
        "                \n",
        "                \n",
        "                \n",
        "                \n",
        "                ]"
      ],
      "execution_count": null,
      "outputs": []
    },
    {
      "cell_type": "code",
      "metadata": {
        "id": "dfH5f508HclQ"
      },
      "source": [
        "harvested_temp_df.drop(['Unnamed: 2','Unnamed: 4','Unnamed: 6','Unnamed: 8','Unnamed: 10','Unnamed: 12','Unnamed: 14','Unnamed: 5','Unnamed: 9','Unnamed: 13','Unnamed: 16','Unnamed: 17','Unnamed: 18','Unnamed: 20','Unnamed: 21','Unnamed: 22','Unnamed: 24','Unnamed: 25','Unnamed: 26','Unnamed: 28','Unnamed: 29'], inplace=True, axis=1)\n"
      ],
      "execution_count": null,
      "outputs": []
    },
    {
      "cell_type": "code",
      "metadata": {
        "colab": {
          "base_uri": "https://localhost:8080/"
        },
        "id": "sOFcI3UxIICp",
        "outputId": "eb366c85-6889-493f-effb-dd4babea9fa1"
      },
      "source": [
        "len(harvested_temp_df)"
      ],
      "execution_count": null,
      "outputs": [
        {
          "output_type": "execute_result",
          "data": {
            "text/plain": [
              "24"
            ]
          },
          "metadata": {
            "tags": []
          },
          "execution_count": 54
        }
      ]
    },
    {
      "cell_type": "code",
      "metadata": {
        "colab": {
          "base_uri": "https://localhost:8080/",
          "height": 784
        },
        "id": "qcI1jC2UHDy6",
        "outputId": "8044682d-e874-436f-c4b2-a66b87acd55e"
      },
      "source": [
        "harvested_temp_df.head(24)"
      ],
      "execution_count": null,
      "outputs": [
        {
          "output_type": "execute_result",
          "data": {
            "text/html": [
              "<div>\n",
              "<style scoped>\n",
              "    .dataframe tbody tr th:only-of-type {\n",
              "        vertical-align: middle;\n",
              "    }\n",
              "\n",
              "    .dataframe tbody tr th {\n",
              "        vertical-align: top;\n",
              "    }\n",
              "\n",
              "    .dataframe thead th {\n",
              "        text-align: right;\n",
              "    }\n",
              "</style>\n",
              "<table border=\"1\" class=\"dataframe\">\n",
              "  <thead>\n",
              "    <tr style=\"text-align: right;\">\n",
              "      <th></th>\n",
              "      <th>Unnamed: 0</th>\n",
              "      <th>Unnamed: 1</th>\n",
              "      <th>1988-1992</th>\n",
              "      <th>1993-1997</th>\n",
              "      <th>1998-2002</th>\n",
              "      <th>2003-2007</th>\n",
              "      <th>2008-2012</th>\n",
              "      <th>2013-2017</th>\n",
              "      <th>2018-2022</th>\n",
              "    </tr>\n",
              "  </thead>\n",
              "  <tbody>\n",
              "    <tr>\n",
              "      <th>118</th>\n",
              "      <td>Egypt</td>\n",
              "      <td>Harvested irrigated temporary crop area: Wheat...</td>\n",
              "      <td>860.112500</td>\n",
              "      <td>963.888889</td>\n",
              "      <td>1029.000</td>\n",
              "      <td>1174.000000</td>\n",
              "      <td>1261.000</td>\n",
              "      <td>1261.000</td>\n",
              "      <td>NaN</td>\n",
              "    </tr>\n",
              "    <tr>\n",
              "      <th>119</th>\n",
              "      <td>Egypt</td>\n",
              "      <td>Harvested irrigated temporary crop area: Rice ...</td>\n",
              "      <td>520.062500</td>\n",
              "      <td>588.277778</td>\n",
              "      <td>650.000</td>\n",
              "      <td>526.250000</td>\n",
              "      <td>452.000</td>\n",
              "      <td>452.000</td>\n",
              "      <td>NaN</td>\n",
              "    </tr>\n",
              "    <tr>\n",
              "      <th>120</th>\n",
              "      <td>Egypt</td>\n",
              "      <td>Harvested irrigated temporary crop area: Barle...</td>\n",
              "      <td>NaN</td>\n",
              "      <td>76.355556</td>\n",
              "      <td>96.200</td>\n",
              "      <td>96.200000</td>\n",
              "      <td>96.200</td>\n",
              "      <td>96.200</td>\n",
              "      <td>NaN</td>\n",
              "    </tr>\n",
              "    <tr>\n",
              "      <th>121</th>\n",
              "      <td>Egypt</td>\n",
              "      <td>Harvested irrigated temporary crop area: Maize...</td>\n",
              "      <td>798.437500</td>\n",
              "      <td>828.344444</td>\n",
              "      <td>827.900</td>\n",
              "      <td>889.837500</td>\n",
              "      <td>927.000</td>\n",
              "      <td>927.000</td>\n",
              "      <td>NaN</td>\n",
              "    </tr>\n",
              "    <tr>\n",
              "      <th>122</th>\n",
              "      <td>Egypt</td>\n",
              "      <td>Harvested irrigated temporary crop area: Mille...</td>\n",
              "      <td>NaN</td>\n",
              "      <td>149.500000</td>\n",
              "      <td>149.500</td>\n",
              "      <td>149.500000</td>\n",
              "      <td>149.500</td>\n",
              "      <td>149.500</td>\n",
              "      <td>NaN</td>\n",
              "    </tr>\n",
              "    <tr>\n",
              "      <th>123</th>\n",
              "      <td>Egypt</td>\n",
              "      <td>Harvested irrigated temporary crop area: Sorgh...</td>\n",
              "      <td>NaN</td>\n",
              "      <td>NaN</td>\n",
              "      <td>156.200</td>\n",
              "      <td>156.200000</td>\n",
              "      <td>156.200</td>\n",
              "      <td>156.200</td>\n",
              "      <td>NaN</td>\n",
              "    </tr>\n",
              "    <tr>\n",
              "      <th>124</th>\n",
              "      <td>Egypt</td>\n",
              "      <td>Harvested irrigated temporary crop area: Other...</td>\n",
              "      <td>957.240000</td>\n",
              "      <td>788.840000</td>\n",
              "      <td>620.440</td>\n",
              "      <td>452.040000</td>\n",
              "      <td>351.000</td>\n",
              "      <td>351.000</td>\n",
              "      <td>NaN</td>\n",
              "    </tr>\n",
              "    <tr>\n",
              "      <th>125</th>\n",
              "      <td>Egypt</td>\n",
              "      <td>Harvested irrigated temporary crop area: Veget...</td>\n",
              "      <td>NaN</td>\n",
              "      <td>436.600000</td>\n",
              "      <td>472.100</td>\n",
              "      <td>662.037500</td>\n",
              "      <td>776.000</td>\n",
              "      <td>776.000</td>\n",
              "      <td>NaN</td>\n",
              "    </tr>\n",
              "    <tr>\n",
              "      <th>126</th>\n",
              "      <td>Egypt</td>\n",
              "      <td>Harvested irrigated temporary crop area: Soybe...</td>\n",
              "      <td>NaN</td>\n",
              "      <td>NaN</td>\n",
              "      <td>5.914</td>\n",
              "      <td>5.914000</td>\n",
              "      <td>5.914</td>\n",
              "      <td>5.914</td>\n",
              "      <td>NaN</td>\n",
              "    </tr>\n",
              "    <tr>\n",
              "      <th>127</th>\n",
              "      <td>Egypt</td>\n",
              "      <td>Harvested irrigated temporary crop area: Groun...</td>\n",
              "      <td>NaN</td>\n",
              "      <td>NaN</td>\n",
              "      <td>59.240</td>\n",
              "      <td>45.965000</td>\n",
              "      <td>38.000</td>\n",
              "      <td>38.000</td>\n",
              "      <td>NaN</td>\n",
              "    </tr>\n",
              "    <tr>\n",
              "      <th>128</th>\n",
              "      <td>Egypt</td>\n",
              "      <td>Harvested irrigated temporary crop area: Sesam...</td>\n",
              "      <td>NaN</td>\n",
              "      <td>NaN</td>\n",
              "      <td>30.280</td>\n",
              "      <td>28.855000</td>\n",
              "      <td>28.000</td>\n",
              "      <td>28.000</td>\n",
              "      <td>NaN</td>\n",
              "    </tr>\n",
              "    <tr>\n",
              "      <th>129</th>\n",
              "      <td>Egypt</td>\n",
              "      <td>Harvested irrigated temporary crop area: Sunfl...</td>\n",
              "      <td>NaN</td>\n",
              "      <td>NaN</td>\n",
              "      <td>15.490</td>\n",
              "      <td>15.490000</td>\n",
              "      <td>15.490</td>\n",
              "      <td>15.490</td>\n",
              "      <td>NaN</td>\n",
              "    </tr>\n",
              "    <tr>\n",
              "      <th>130</th>\n",
              "      <td>Egypt</td>\n",
              "      <td>Harvested irrigated temporary crop area: Potat...</td>\n",
              "      <td>NaN</td>\n",
              "      <td>NaN</td>\n",
              "      <td>82.590</td>\n",
              "      <td>82.590000</td>\n",
              "      <td>82.590</td>\n",
              "      <td>82.590</td>\n",
              "      <td>NaN</td>\n",
              "    </tr>\n",
              "    <tr>\n",
              "      <th>131</th>\n",
              "      <td>Egypt</td>\n",
              "      <td>Harvested irrigated temporary crop area: Sweet...</td>\n",
              "      <td>NaN</td>\n",
              "      <td>NaN</td>\n",
              "      <td>8.388</td>\n",
              "      <td>8.388000</td>\n",
              "      <td>8.388</td>\n",
              "      <td>8.388</td>\n",
              "      <td>NaN</td>\n",
              "    </tr>\n",
              "    <tr>\n",
              "      <th>132</th>\n",
              "      <td>Egypt</td>\n",
              "      <td>Harvested irrigated temporary crop area: Cassa...</td>\n",
              "      <td>NaN</td>\n",
              "      <td>NaN</td>\n",
              "      <td>NaN</td>\n",
              "      <td>NaN</td>\n",
              "      <td>NaN</td>\n",
              "      <td>NaN</td>\n",
              "      <td>NaN</td>\n",
              "    </tr>\n",
              "    <tr>\n",
              "      <th>133</th>\n",
              "      <td>Egypt</td>\n",
              "      <td>Harvested irrigated temporary crop area: Other...</td>\n",
              "      <td>NaN</td>\n",
              "      <td>NaN</td>\n",
              "      <td>3.001</td>\n",
              "      <td>99.875375</td>\n",
              "      <td>158.000</td>\n",
              "      <td>158.000</td>\n",
              "      <td>NaN</td>\n",
              "    </tr>\n",
              "    <tr>\n",
              "      <th>134</th>\n",
              "      <td>Egypt</td>\n",
              "      <td>Harvested irrigated temporary crop area: Legum...</td>\n",
              "      <td>137.882353</td>\n",
              "      <td>150.941176</td>\n",
              "      <td>164.000</td>\n",
              "      <td>122.750000</td>\n",
              "      <td>98.000</td>\n",
              "      <td>98.000</td>\n",
              "      <td>NaN</td>\n",
              "    </tr>\n",
              "    <tr>\n",
              "      <th>135</th>\n",
              "      <td>Egypt</td>\n",
              "      <td>Harvested irrigated temporary crop area: Sugar...</td>\n",
              "      <td>NaN</td>\n",
              "      <td>NaN</td>\n",
              "      <td>64.600</td>\n",
              "      <td>125.475000</td>\n",
              "      <td>162.000</td>\n",
              "      <td>162.000</td>\n",
              "      <td>NaN</td>\n",
              "    </tr>\n",
              "    <tr>\n",
              "      <th>136</th>\n",
              "      <td>Egypt</td>\n",
              "      <td>Harvested irrigated temporary crop area: Sugar...</td>\n",
              "      <td>112.700000</td>\n",
              "      <td>123.577778</td>\n",
              "      <td>135.800</td>\n",
              "      <td>132.800000</td>\n",
              "      <td>131.000</td>\n",
              "      <td>131.000</td>\n",
              "      <td>NaN</td>\n",
              "    </tr>\n",
              "    <tr>\n",
              "      <th>137</th>\n",
              "      <td>Egypt</td>\n",
              "      <td>Harvested irrigated temporary crop area: Fodde...</td>\n",
              "      <td>NaN</td>\n",
              "      <td>1141.555556</td>\n",
              "      <td>1196.000</td>\n",
              "      <td>1031.000000</td>\n",
              "      <td>932.000</td>\n",
              "      <td>932.000</td>\n",
              "      <td>NaN</td>\n",
              "    </tr>\n",
              "    <tr>\n",
              "      <th>138</th>\n",
              "      <td>Egypt</td>\n",
              "      <td>Harvested irrigated temporary crop area: Cotto...</td>\n",
              "      <td>381.662500</td>\n",
              "      <td>338.144444</td>\n",
              "      <td>296.700</td>\n",
              "      <td>208.137500</td>\n",
              "      <td>155.000</td>\n",
              "      <td>155.000</td>\n",
              "      <td>NaN</td>\n",
              "    </tr>\n",
              "    <tr>\n",
              "      <th>139</th>\n",
              "      <td>Egypt</td>\n",
              "      <td>Harvested irrigated temporary crop area: Flowe...</td>\n",
              "      <td>NaN</td>\n",
              "      <td>NaN</td>\n",
              "      <td>26.050</td>\n",
              "      <td>26.050000</td>\n",
              "      <td>26.050</td>\n",
              "      <td>26.050</td>\n",
              "      <td>NaN</td>\n",
              "    </tr>\n",
              "    <tr>\n",
              "      <th>140</th>\n",
              "      <td>Egypt</td>\n",
              "      <td>Harvested irrigated temporary crop area: Tobac...</td>\n",
              "      <td>NaN</td>\n",
              "      <td>NaN</td>\n",
              "      <td>NaN</td>\n",
              "      <td>NaN</td>\n",
              "      <td>NaN</td>\n",
              "      <td>NaN</td>\n",
              "      <td>NaN</td>\n",
              "    </tr>\n",
              "    <tr>\n",
              "      <th>141</th>\n",
              "      <td>Egypt</td>\n",
              "      <td>Harvested irrigated temporary crop area: Other...</td>\n",
              "      <td>NaN</td>\n",
              "      <td>383.522222</td>\n",
              "      <td>219.300</td>\n",
              "      <td>123.487500</td>\n",
              "      <td>66.000</td>\n",
              "      <td>66.000</td>\n",
              "      <td>NaN</td>\n",
              "    </tr>\n",
              "  </tbody>\n",
              "</table>\n",
              "</div>"
            ],
            "text/plain": [
              "    Unnamed: 0  ... 2018-2022\n",
              "118      Egypt  ...       NaN\n",
              "119      Egypt  ...       NaN\n",
              "120      Egypt  ...       NaN\n",
              "121      Egypt  ...       NaN\n",
              "122      Egypt  ...       NaN\n",
              "123      Egypt  ...       NaN\n",
              "124      Egypt  ...       NaN\n",
              "125      Egypt  ...       NaN\n",
              "126      Egypt  ...       NaN\n",
              "127      Egypt  ...       NaN\n",
              "128      Egypt  ...       NaN\n",
              "129      Egypt  ...       NaN\n",
              "130      Egypt  ...       NaN\n",
              "131      Egypt  ...       NaN\n",
              "132      Egypt  ...       NaN\n",
              "133      Egypt  ...       NaN\n",
              "134      Egypt  ...       NaN\n",
              "135      Egypt  ...       NaN\n",
              "136      Egypt  ...       NaN\n",
              "137      Egypt  ...       NaN\n",
              "138      Egypt  ...       NaN\n",
              "139      Egypt  ...       NaN\n",
              "140      Egypt  ...       NaN\n",
              "141      Egypt  ...       NaN\n",
              "\n",
              "[24 rows x 9 columns]"
            ]
          },
          "metadata": {
            "tags": []
          },
          "execution_count": 55
        }
      ]
    },
    {
      "cell_type": "code",
      "metadata": {
        "colab": {
          "base_uri": "https://localhost:8080/",
          "height": 607
        },
        "id": "K08tPBVzI8Ae",
        "outputId": "5321b3cb-3f72-4923-dfb4-79d0e0021ba6"
      },
      "source": [
        "df_val=  harvested_temp_df[['1988-1992','Unnamed: 1']].dropna()\n",
        "df_val['Unnamed: 1'] = df_val['Unnamed: 1'].str[-20:]\n",
        "df_val['Unnamed: 1'] = df_val['Unnamed: 1'].str[:10]\n",
        "a4_dims = (12, 10)\n",
        "fig, ax =plt.subplots(figsize=a4_dims)\n",
        "\n",
        "ax = sb.barplot(data = df_val, x = 'Unnamed: 1', y = '1988-1992',)\n",
        "plt.grid()"
      ],
      "execution_count": null,
      "outputs": [
        {
          "output_type": "display_data",
          "data": {
            "image/png": "[encoded data removed]",
            "text/plain": [
              "<Figure size 864x720 with 1 Axes>"
            ]
          },
          "metadata": {
            "tags": [],
            "needs_background": "light"
          }
        }
      ]
    },
    {
      "cell_type": "code",
      "metadata": {
        "colab": {
          "base_uri": "https://localhost:8080/",
          "height": 606
        },
        "id": "q9l2_yf5Q_q0",
        "outputId": "4f296556-dd17-46e5-8fb8-a118220d5b93"
      },
      "source": [
        "df_val=  harvested_temp_df[['1993-1997','Unnamed: 1']].dropna()\n",
        "df_val['Unnamed: 1'] = df_val['Unnamed: 1'].str[-20:]\n",
        "df_val['Unnamed: 1'] = df_val['Unnamed: 1'].str[:10]\n",
        "a4_dims = (15, 10)\n",
        "fig, ax =plt.subplots(figsize=a4_dims)\n",
        "\n",
        "ax = sb.barplot(data = df_val, x = 'Unnamed: 1', y = '1993-1997',)\n",
        "plt.grid()"
      ],
      "execution_count": null,
      "outputs": [
        {
          "output_type": "display_data",
          "data": {
            "image/png": "[encoded data removed]",
            "text/plain": [
              "<Figure size 1080x720 with 1 Axes>"
            ]
          },
          "metadata": {
            "tags": [],
            "needs_background": "light"
          }
        }
      ]
    },
    {
      "cell_type": "code",
      "metadata": {
        "colab": {
          "base_uri": "https://localhost:8080/",
          "height": 626
        },
        "id": "CmzMaE20RL6L",
        "outputId": "fdd42359-75f4-4ad4-d444-7ac36d3205e4"
      },
      "source": [
        "df_val=  harvested_temp_df[['1998-2002','Unnamed: 1']].dropna()\n",
        "df_val['Unnamed: 1'] = df_val['Unnamed: 1'].str[-20:]\n",
        "df_val['Unnamed: 1'] = df_val['Unnamed: 1'].str[:10]\n",
        "a4_dims = (30, 10)\n",
        "fig, ax =plt.subplots(figsize=a4_dims)\n",
        "\n",
        "ax = sb.barplot(data = df_val, x = 'Unnamed: 1', y = '1998-2002',)\n",
        "plt.grid()"
      ],
      "execution_count": null,
      "outputs": [
        {
          "output_type": "display_data",
          "data": {
            "image/png": "[encoded data removed]",
            "text/plain": [
              "<Figure size 2160x720 with 1 Axes>"
            ]
          },
          "metadata": {
            "tags": [],
            "needs_background": "light"
          }
        }
      ]
    },
    {
      "cell_type": "code",
      "metadata": {
        "colab": {
          "base_uri": "https://localhost:8080/",
          "height": 626
        },
        "id": "rbYyVbfMRTy6",
        "outputId": "50b1357c-db25-48ef-c19d-a0fd9e19ee61"
      },
      "source": [
        "df_val=  harvested_temp_df[['2003-2007','Unnamed: 1']].dropna()\n",
        "df_val['Unnamed: 1'] = df_val['Unnamed: 1'].str[-20:]\n",
        "df_val['Unnamed: 1'] = df_val['Unnamed: 1'].str[:10]\n",
        "a4_dims = (30, 10)\n",
        "fig, ax =plt.subplots(figsize=a4_dims)\n",
        "\n",
        "ax = sb.barplot(data = df_val, x = 'Unnamed: 1', y = '2003-2007',)\n",
        "plt.grid()"
      ],
      "execution_count": null,
      "outputs": [
        {
          "output_type": "display_data",
          "data": {
            "image/png": "[encoded data removed]",
            "text/plain": [
              "<Figure size 2160x720 with 1 Axes>"
            ]
          },
          "metadata": {
            "tags": [],
            "needs_background": "light"
          }
        }
      ]
    },
    {
      "cell_type": "code",
      "metadata": {
        "colab": {
          "base_uri": "https://localhost:8080/",
          "height": 626
        },
        "id": "A2n4UI4YRb6e",
        "outputId": "275e8756-cba1-4e93-aecb-abc75582700e"
      },
      "source": [
        "df_val=  harvested_temp_df[['2008-2012','Unnamed: 1']].dropna()\n",
        "df_val['Unnamed: 1'] = df_val['Unnamed: 1'].str[-20:]\n",
        "df_val['Unnamed: 1'] = df_val['Unnamed: 1'].str[:10]\n",
        "a4_dims = (30, 10)\n",
        "fig, ax =plt.subplots(figsize=a4_dims)\n",
        "\n",
        "ax = sb.barplot(data = df_val, x = 'Unnamed: 1', y = '2008-2012',)\n",
        "plt.grid()"
      ],
      "execution_count": null,
      "outputs": [
        {
          "output_type": "display_data",
          "data": {
            "image/png": "[encoded data removed]",
            "text/plain": [
              "<Figure size 2160x720 with 1 Axes>"
            ]
          },
          "metadata": {
            "tags": [],
            "needs_background": "light"
          }
        }
      ]
    },
    {
      "cell_type": "code",
      "metadata": {
        "colab": {
          "base_uri": "https://localhost:8080/",
          "height": 626
        },
        "id": "fej2jc0YRgK1",
        "outputId": "6842f850-c260-48f4-dab8-451aeed09575"
      },
      "source": [
        "df_val=  harvested_temp_df[['2013-2017','Unnamed: 1']].dropna()\n",
        "df_val['Unnamed: 1'] = df_val['Unnamed: 1'].str[-20:]\n",
        "df_val['Unnamed: 1'] = df_val['Unnamed: 1'].str[:10]\n",
        "a4_dims = (30, 10)\n",
        "fig, ax =plt.subplots(figsize=a4_dims)\n",
        "\n",
        "ax = sb.barplot(data = df_val, x = 'Unnamed: 1', y = '2013-2017',)\n",
        "plt.grid()"
      ],
      "execution_count": null,
      "outputs": [
        {
          "output_type": "display_data",
          "data": {
            "image/png": "[encoded data removed]",
            "text/plain": [
              "<Figure size 2160x720 with 1 Axes>"
            ]
          },
          "metadata": {
            "tags": [],
            "needs_background": "light"
          }
        }
      ]
    },
    {
      "cell_type": "markdown",
      "metadata": {
        "id": "8sxSG2PsR8kz"
      },
      "source": [
        "### Harvested irrigated permanent crop area"
      ]
    },
    {
      "cell_type": "code",
      "metadata": {
        "id": "wnLdn4UZSFZF"
      },
      "source": [
        "harvested_permanent_df=df[(df['Unnamed: 1']=='Harvested irrigated temporary crop area: Wheat (1000 ha)')|\n",
        "                      (df['Unnamed: 1']=='Harvested irrigated permanent crop area: Bananas (1000 ha)')|\n",
        "        (df['Unnamed: 1']=='Harvested irrigated permanent crop area: Citrus (1000 ha)')|\n",
        "        (df['Unnamed: 1']=='Harvested irrigated permanent crop area: Grapes (1000 ha)')|\n",
        "        (df['Unnamed: 1']=='Harvested irrigated permanent crop area: Other fruits (1000 ha)')|\n",
        "        (df['Unnamed: 1']=='Harvested irrigated permanent crop area: Coconuts (1000 ha)')|\n",
        "        (df['Unnamed: 1']=='Harvested irrigated permanent crop area: Olives (1000 ha)')|\n",
        "        (df['Unnamed: 1']=='Harvested irrigated permanent crop area: Oil palm (1000 ha)')|\n",
        "        (df['Unnamed: 1']=='Harvested irrigated permanent crop area: Coffee (1000 ha)')|\n",
        "        (df['Unnamed: 1']=='Harvested irrigated permanent crop area: Tea (1000 ha)')|\n",
        "        (df['Unnamed: 1']=='Harvested irrigated permanent crop area: Cocoa beans (1000 ha)')|\n",
        "        (df['Unnamed: 1']=='Harvested irrigated permanent crop area: Grass and Fodder (1000 ha)')|\n",
        "        (df['Unnamed: 1']=='Harvested irrigated permanent crop area: Rubber (1000 ha)')|\n",
        "        (df['Unnamed: 1']=='Harvested irrigated permanent crop area: Other crops (1000 ha)')\n",
        "     \n",
        "                \n",
        "                \n",
        "                \n",
        "                \n",
        "                \n",
        "                ]"
      ],
      "execution_count": null,
      "outputs": []
    },
    {
      "cell_type": "code",
      "metadata": {
        "colab": {
          "base_uri": "https://localhost:8080/"
        },
        "id": "olZSqTCNSfmi",
        "outputId": "712c7a2b-4bbe-47d6-9980-22fe8f5ee49f"
      },
      "source": [
        "len(harvested_permanent_df)"
      ],
      "execution_count": null,
      "outputs": [
        {
          "output_type": "execute_result",
          "data": {
            "text/plain": [
              "14"
            ]
          },
          "metadata": {
            "tags": []
          },
          "execution_count": 98
        }
      ]
    },
    {
      "cell_type": "code",
      "metadata": {
        "id": "ogj-F9y2Smk-"
      },
      "source": [
        "harvested_permanent_df.drop(['Unnamed: 2','Unnamed: 4','Unnamed: 6','Unnamed: 8','Unnamed: 10','Unnamed: 12','Unnamed: 14','Unnamed: 5','Unnamed: 9','Unnamed: 13','Unnamed: 16','Unnamed: 17','Unnamed: 18','Unnamed: 20','Unnamed: 21','Unnamed: 22','Unnamed: 24','Unnamed: 25','Unnamed: 26','Unnamed: 28','Unnamed: 29'], inplace=True, axis=1)\n"
      ],
      "execution_count": null,
      "outputs": []
    },
    {
      "cell_type": "code",
      "metadata": {
        "colab": {
          "base_uri": "https://localhost:8080/",
          "height": 477
        },
        "id": "mfztFnvfSgoP",
        "outputId": "429f62bd-53c0-4bad-97a1-53b32e3636ed"
      },
      "source": [
        "harvested_permanent_df.head(14)"
      ],
      "execution_count": null,
      "outputs": [
        {
          "output_type": "execute_result",
          "data": {
            "text/html": [
              "<div>\n",
              "<style scoped>\n",
              "    .dataframe tbody tr th:only-of-type {\n",
              "        vertical-align: middle;\n",
              "    }\n",
              "\n",
              "    .dataframe tbody tr th {\n",
              "        vertical-align: top;\n",
              "    }\n",
              "\n",
              "    .dataframe thead th {\n",
              "        text-align: right;\n",
              "    }\n",
              "</style>\n",
              "<table border=\"1\" class=\"dataframe\">\n",
              "  <thead>\n",
              "    <tr style=\"text-align: right;\">\n",
              "      <th></th>\n",
              "      <th>Unnamed: 0</th>\n",
              "      <th>Unnamed: 1</th>\n",
              "      <th>1988-1992</th>\n",
              "      <th>1993-1997</th>\n",
              "      <th>1998-2002</th>\n",
              "      <th>2003-2007</th>\n",
              "      <th>2008-2012</th>\n",
              "      <th>2013-2017</th>\n",
              "      <th>2018-2022</th>\n",
              "    </tr>\n",
              "  </thead>\n",
              "  <tbody>\n",
              "    <tr>\n",
              "      <th>118</th>\n",
              "      <td>Egypt</td>\n",
              "      <td>Harvested irrigated temporary crop area: Wheat...</td>\n",
              "      <td>860.1125</td>\n",
              "      <td>963.888889</td>\n",
              "      <td>1029.00</td>\n",
              "      <td>1174.0000</td>\n",
              "      <td>1261.00</td>\n",
              "      <td>1261.00</td>\n",
              "      <td>NaN</td>\n",
              "    </tr>\n",
              "    <tr>\n",
              "      <th>143</th>\n",
              "      <td>Egypt</td>\n",
              "      <td>Harvested irrigated permanent crop area: Banan...</td>\n",
              "      <td>NaN</td>\n",
              "      <td>NaN</td>\n",
              "      <td>24.16</td>\n",
              "      <td>24.1600</td>\n",
              "      <td>24.16</td>\n",
              "      <td>24.16</td>\n",
              "      <td>NaN</td>\n",
              "    </tr>\n",
              "    <tr>\n",
              "      <th>144</th>\n",
              "      <td>Egypt</td>\n",
              "      <td>Harvested irrigated permanent crop area: Citru...</td>\n",
              "      <td>NaN</td>\n",
              "      <td>NaN</td>\n",
              "      <td>145.40</td>\n",
              "      <td>152.6500</td>\n",
              "      <td>157.00</td>\n",
              "      <td>157.00</td>\n",
              "      <td>NaN</td>\n",
              "    </tr>\n",
              "    <tr>\n",
              "      <th>145</th>\n",
              "      <td>Egypt</td>\n",
              "      <td>Harvested irrigated permanent crop area: Grape...</td>\n",
              "      <td>NaN</td>\n",
              "      <td>NaN</td>\n",
              "      <td>64.00</td>\n",
              "      <td>64.0000</td>\n",
              "      <td>64.00</td>\n",
              "      <td>64.00</td>\n",
              "      <td>NaN</td>\n",
              "    </tr>\n",
              "    <tr>\n",
              "      <th>146</th>\n",
              "      <td>Egypt</td>\n",
              "      <td>Harvested irrigated permanent crop area: Other...</td>\n",
              "      <td>NaN</td>\n",
              "      <td>NaN</td>\n",
              "      <td>204.70</td>\n",
              "      <td>406.1375</td>\n",
              "      <td>527.00</td>\n",
              "      <td>527.00</td>\n",
              "      <td>NaN</td>\n",
              "    </tr>\n",
              "    <tr>\n",
              "      <th>147</th>\n",
              "      <td>Egypt</td>\n",
              "      <td>Harvested irrigated permanent crop area: Cocon...</td>\n",
              "      <td>NaN</td>\n",
              "      <td>NaN</td>\n",
              "      <td>NaN</td>\n",
              "      <td>NaN</td>\n",
              "      <td>NaN</td>\n",
              "      <td>NaN</td>\n",
              "      <td>NaN</td>\n",
              "    </tr>\n",
              "    <tr>\n",
              "      <th>148</th>\n",
              "      <td>Egypt</td>\n",
              "      <td>Harvested irrigated permanent crop area: Olive...</td>\n",
              "      <td>NaN</td>\n",
              "      <td>NaN</td>\n",
              "      <td>50.00</td>\n",
              "      <td>50.0000</td>\n",
              "      <td>50.00</td>\n",
              "      <td>50.00</td>\n",
              "      <td>NaN</td>\n",
              "    </tr>\n",
              "    <tr>\n",
              "      <th>149</th>\n",
              "      <td>Egypt</td>\n",
              "      <td>Harvested irrigated permanent crop area: Oil p...</td>\n",
              "      <td>NaN</td>\n",
              "      <td>NaN</td>\n",
              "      <td>NaN</td>\n",
              "      <td>NaN</td>\n",
              "      <td>NaN</td>\n",
              "      <td>NaN</td>\n",
              "      <td>NaN</td>\n",
              "    </tr>\n",
              "    <tr>\n",
              "      <th>150</th>\n",
              "      <td>Egypt</td>\n",
              "      <td>Harvested irrigated permanent crop area: Coffe...</td>\n",
              "      <td>NaN</td>\n",
              "      <td>NaN</td>\n",
              "      <td>NaN</td>\n",
              "      <td>NaN</td>\n",
              "      <td>NaN</td>\n",
              "      <td>NaN</td>\n",
              "      <td>NaN</td>\n",
              "    </tr>\n",
              "    <tr>\n",
              "      <th>151</th>\n",
              "      <td>Egypt</td>\n",
              "      <td>Harvested irrigated permanent crop area: Tea (...</td>\n",
              "      <td>NaN</td>\n",
              "      <td>NaN</td>\n",
              "      <td>NaN</td>\n",
              "      <td>NaN</td>\n",
              "      <td>NaN</td>\n",
              "      <td>NaN</td>\n",
              "      <td>NaN</td>\n",
              "    </tr>\n",
              "    <tr>\n",
              "      <th>152</th>\n",
              "      <td>Egypt</td>\n",
              "      <td>Harvested irrigated permanent crop area: Cocoa...</td>\n",
              "      <td>NaN</td>\n",
              "      <td>NaN</td>\n",
              "      <td>NaN</td>\n",
              "      <td>NaN</td>\n",
              "      <td>NaN</td>\n",
              "      <td>NaN</td>\n",
              "      <td>NaN</td>\n",
              "    </tr>\n",
              "    <tr>\n",
              "      <th>153</th>\n",
              "      <td>Egypt</td>\n",
              "      <td>Harvested irrigated permanent crop area: Grass...</td>\n",
              "      <td>NaN</td>\n",
              "      <td>NaN</td>\n",
              "      <td>NaN</td>\n",
              "      <td>NaN</td>\n",
              "      <td>NaN</td>\n",
              "      <td>NaN</td>\n",
              "      <td>NaN</td>\n",
              "    </tr>\n",
              "    <tr>\n",
              "      <th>154</th>\n",
              "      <td>Egypt</td>\n",
              "      <td>Harvested irrigated permanent crop area: Rubbe...</td>\n",
              "      <td>NaN</td>\n",
              "      <td>NaN</td>\n",
              "      <td>NaN</td>\n",
              "      <td>NaN</td>\n",
              "      <td>NaN</td>\n",
              "      <td>NaN</td>\n",
              "      <td>NaN</td>\n",
              "    </tr>\n",
              "    <tr>\n",
              "      <th>155</th>\n",
              "      <td>Egypt</td>\n",
              "      <td>Harvested irrigated permanent crop area: Other...</td>\n",
              "      <td>NaN</td>\n",
              "      <td>383.000000</td>\n",
              "      <td>383.00</td>\n",
              "      <td>383.0000</td>\n",
              "      <td>383.00</td>\n",
              "      <td>383.00</td>\n",
              "      <td>NaN</td>\n",
              "    </tr>\n",
              "  </tbody>\n",
              "</table>\n",
              "</div>"
            ],
            "text/plain": [
              "    Unnamed: 0  ... 2018-2022\n",
              "118      Egypt  ...       NaN\n",
              "143      Egypt  ...       NaN\n",
              "144      Egypt  ...       NaN\n",
              "145      Egypt  ...       NaN\n",
              "146      Egypt  ...       NaN\n",
              "147      Egypt  ...       NaN\n",
              "148      Egypt  ...       NaN\n",
              "149      Egypt  ...       NaN\n",
              "150      Egypt  ...       NaN\n",
              "151      Egypt  ...       NaN\n",
              "152      Egypt  ...       NaN\n",
              "153      Egypt  ...       NaN\n",
              "154      Egypt  ...       NaN\n",
              "155      Egypt  ...       NaN\n",
              "\n",
              "[14 rows x 9 columns]"
            ]
          },
          "metadata": {
            "tags": []
          },
          "execution_count": 101
        }
      ]
    },
    {
      "cell_type": "code",
      "metadata": {
        "colab": {
          "base_uri": "https://localhost:8080/",
          "height": 606
        },
        "id": "c_qKEOn1Ssa3",
        "outputId": "59d101a8-67b5-4704-b6cb-14af7e0a7fbf"
      },
      "source": [
        "df_val=  harvested_permanent_df[['1988-1992','Unnamed: 1']].dropna()\n",
        "df_val['Unnamed: 1'] = df_val['Unnamed: 1'].str[-20:]\n",
        "df_val['Unnamed: 1'] = df_val['Unnamed: 1'].str[:10]\n",
        "a4_dims = (12, 10)\n",
        "fig, ax =plt.subplots(figsize=a4_dims)\n",
        "\n",
        "ax = sb.barplot(data = df_val, x = 'Unnamed: 1', y = '1988-1992',)\n",
        "plt.grid()"
      ],
      "execution_count": null,
      "outputs": [
        {
          "output_type": "display_data",
          "data": {
            "image/png": "[encoded data removed]",
            "text/plain": [
              "<Figure size 864x720 with 1 Axes>"
            ]
          },
          "metadata": {
            "tags": [],
            "needs_background": "light"
          }
        }
      ]
    },
    {
      "cell_type": "code",
      "metadata": {
        "colab": {
          "base_uri": "https://localhost:8080/",
          "height": 606
        },
        "id": "xcjgv0lgStNv",
        "outputId": "4ce3431d-458e-4614-a46e-4de285fa33de"
      },
      "source": [
        "df_val=  harvested_permanent_df[['1993-1997','Unnamed: 1']].dropna()\n",
        "df_val['Unnamed: 1'] = df_val['Unnamed: 1'].str[-20:]\n",
        "df_val['Unnamed: 1'] = df_val['Unnamed: 1'].str[:10]\n",
        "a4_dims = (15, 10)\n",
        "fig, ax =plt.subplots(figsize=a4_dims)\n",
        "\n",
        "ax = sb.barplot(data = df_val, x = 'Unnamed: 1', y = '1993-1997',)\n",
        "plt.grid()"
      ],
      "execution_count": null,
      "outputs": [
        {
          "output_type": "display_data",
          "data": {
            "image/png": "[encoded data removed]",
            "text/plain": [
              "<Figure size 1080x720 with 1 Axes>"
            ]
          },
          "metadata": {
            "tags": [],
            "needs_background": "light"
          }
        }
      ]
    },
    {
      "cell_type": "code",
      "metadata": {
        "colab": {
          "base_uri": "https://localhost:8080/",
          "height": 626
        },
        "id": "HL4fwfIfSymq",
        "outputId": "44e52749-7d26-45b8-d160-b9b14f1452e5"
      },
      "source": [
        "df_val=  harvested_permanent_df[['1998-2002','Unnamed: 1']].dropna()\n",
        "df_val['Unnamed: 1'] = df_val['Unnamed: 1'].str[-20:]\n",
        "df_val['Unnamed: 1'] = df_val['Unnamed: 1'].str[:10]\n",
        "a4_dims = (30, 10)\n",
        "fig, ax =plt.subplots(figsize=a4_dims)\n",
        "\n",
        "ax = sb.barplot(data = df_val, x = 'Unnamed: 1', y = '1998-2002',)\n",
        "plt.grid()"
      ],
      "execution_count": null,
      "outputs": [
        {
          "output_type": "display_data",
          "data": {
            "image/png": "[encoded data removed]",
            "text/plain": [
              "<Figure size 2160x720 with 1 Axes>"
            ]
          },
          "metadata": {
            "tags": [],
            "needs_background": "light"
          }
        }
      ]
    },
    {
      "cell_type": "code",
      "metadata": {
        "colab": {
          "base_uri": "https://localhost:8080/",
          "height": 626
        },
        "id": "ZORwTm7ES1WC",
        "outputId": "77b6c2fe-8fec-4c32-b14e-44e9097d088a"
      },
      "source": [
        "df_val=  harvested_permanent_df[['2003-2007','Unnamed: 1']].dropna()\n",
        "df_val['Unnamed: 1'] = df_val['Unnamed: 1'].str[-20:]\n",
        "df_val['Unnamed: 1'] = df_val['Unnamed: 1'].str[:10]\n",
        "a4_dims = (30, 10)\n",
        "fig, ax =plt.subplots(figsize=a4_dims)\n",
        "\n",
        "ax = sb.barplot(data = df_val, x = 'Unnamed: 1', y = '2003-2007',)\n",
        "plt.grid()"
      ],
      "execution_count": null,
      "outputs": [
        {
          "output_type": "display_data",
          "data": {
            "image/png": "[encoded data removed]",
            "text/plain": [
              "<Figure size 2160x720 with 1 Axes>"
            ]
          },
          "metadata": {
            "tags": [],
            "needs_background": "light"
          }
        }
      ]
    },
    {
      "cell_type": "code",
      "metadata": {
        "colab": {
          "base_uri": "https://localhost:8080/",
          "height": 626
        },
        "id": "X2VQcnLbS4Ia",
        "outputId": "b237ba05-1353-4d9c-b074-98ce837091fc"
      },
      "source": [
        "df_val=  harvested_permanent_df[['2008-2012','Unnamed: 1']].dropna()\n",
        "df_val['Unnamed: 1'] = df_val['Unnamed: 1'].str[-20:]\n",
        "df_val['Unnamed: 1'] = df_val['Unnamed: 1'].str[:10]\n",
        "a4_dims = (30, 10)\n",
        "fig, ax =plt.subplots(figsize=a4_dims)\n",
        "\n",
        "ax = sb.barplot(data = df_val, x = 'Unnamed: 1', y = '2008-2012',)\n",
        "plt.grid()"
      ],
      "execution_count": null,
      "outputs": [
        {
          "output_type": "display_data",
          "data": {
            "image/png": "[encoded data removed]",
            "text/plain": [
              "<Figure size 2160x720 with 1 Axes>"
            ]
          },
          "metadata": {
            "tags": [],
            "needs_background": "light"
          }
        }
      ]
    },
    {
      "cell_type": "code",
      "metadata": {
        "colab": {
          "base_uri": "https://localhost:8080/",
          "height": 626
        },
        "id": "XN9thIkwS52U",
        "outputId": "cc750402-7c23-409c-f7c9-d39ccae11230"
      },
      "source": [
        "df_val=  harvested_permanent_df[['2013-2017','Unnamed: 1']].dropna()\n",
        "df_val['Unnamed: 1'] = df_val['Unnamed: 1'].str[-20:]\n",
        "df_val['Unnamed: 1'] = df_val['Unnamed: 1'].str[:10]\n",
        "a4_dims = (30, 10)\n",
        "fig, ax =plt.subplots(figsize=a4_dims)\n",
        "\n",
        "ax = sb.barplot(data = df_val, x = 'Unnamed: 1', y = '2013-2017',)\n",
        "plt.grid()"
      ],
      "execution_count": null,
      "outputs": [
        {
          "output_type": "display_data",
          "data": {
            "image/png": "[encoded data removed]",
            "text/plain": [
              "<Figure size 2160x720 with 1 Axes>"
            ]
          },
          "metadata": {
            "tags": [],
            "needs_background": "light"
          }
        }
      ]
    }
  ]
}
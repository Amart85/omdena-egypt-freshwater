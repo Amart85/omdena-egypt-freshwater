{
  "nbformat": 4,
  "nbformat_minor": 0,
  "metadata": {
    "colab": {
      "name": "Untitled49.ipynb",
      "provenance": []
    },
    "kernelspec": {
      "name": "python3",
      "display_name": "Python 3"
    },
    "language_info": {
      "name": "python"
    }
  },
  "cells": [
    {
      "cell_type": "code",
      "metadata": {
        "id": "xXNUTxViDgE9"
      },
      "source": [
        "## import Libraries \n",
        "import pandas as pd\n",
        "import numpy as np\n",
        "import matplotlib.pyplot as plt\n",
        "import seaborn as sns"
      ],
      "execution_count": 77,
      "outputs": []
    },
    {
      "cell_type": "code",
      "metadata": {
        "colab": {
          "base_uri": "https://localhost:8080/",
          "height": 206
        },
        "id": "0O0dxWziEAPe",
        "outputId": "d63f4cb4-90ad-45a5-b5f1-b3fb163a07b4"
      },
      "source": [
        "data = pd.read_csv(\"/content/Clean Water Produced & Consumed by use, Egypt, 2007-2013 in different goverments.csv\")\n",
        "data.head()"
      ],
      "execution_count": 78,
      "outputs": [
        {
          "output_type": "execute_result",
          "data": {
            "text/html": [
              "<div>\n",
              "<style scoped>\n",
              "    .dataframe tbody tr th:only-of-type {\n",
              "        vertical-align: middle;\n",
              "    }\n",
              "\n",
              "    .dataframe tbody tr th {\n",
              "        vertical-align: top;\n",
              "    }\n",
              "\n",
              "    .dataframe thead th {\n",
              "        text-align: right;\n",
              "    }\n",
              "</style>\n",
              "<table border=\"1\" class=\"dataframe\">\n",
              "  <thead>\n",
              "    <tr style=\"text-align: right;\">\n",
              "      <th></th>\n",
              "      <th>location</th>\n",
              "      <th>variable</th>\n",
              "      <th>Unit</th>\n",
              "      <th>Date</th>\n",
              "      <th>Value</th>\n",
              "    </tr>\n",
              "  </thead>\n",
              "  <tbody>\n",
              "    <tr>\n",
              "      <th>0</th>\n",
              "      <td>Cairo</td>\n",
              "      <td>Total Water consumed, Water Companies</td>\n",
              "      <td>thousand cubic meters</td>\n",
              "      <td>2007</td>\n",
              "      <td>1782780</td>\n",
              "    </tr>\n",
              "    <tr>\n",
              "      <th>1</th>\n",
              "      <td>Cairo</td>\n",
              "      <td>Total Water consumed, Water Companies</td>\n",
              "      <td>thousand cubic meters</td>\n",
              "      <td>2008</td>\n",
              "      <td>1810366</td>\n",
              "    </tr>\n",
              "    <tr>\n",
              "      <th>2</th>\n",
              "      <td>Cairo</td>\n",
              "      <td>Total Water consumed, Water Companies</td>\n",
              "      <td>thousand cubic meters</td>\n",
              "      <td>2009</td>\n",
              "      <td>1275457</td>\n",
              "    </tr>\n",
              "    <tr>\n",
              "      <th>3</th>\n",
              "      <td>Cairo</td>\n",
              "      <td>Total Water consumed, Water Companies</td>\n",
              "      <td>thousand cubic meters</td>\n",
              "      <td>2010</td>\n",
              "      <td>1736310</td>\n",
              "    </tr>\n",
              "    <tr>\n",
              "      <th>4</th>\n",
              "      <td>Cairo</td>\n",
              "      <td>Total Water consumed, Water Companies</td>\n",
              "      <td>thousand cubic meters</td>\n",
              "      <td>2011</td>\n",
              "      <td>1743894</td>\n",
              "    </tr>\n",
              "  </tbody>\n",
              "</table>\n",
              "</div>"
            ],
            "text/plain": [
              "  location                               variable  ...  Date    Value\n",
              "0    Cairo  Total Water consumed, Water Companies  ...  2007  1782780\n",
              "1    Cairo  Total Water consumed, Water Companies  ...  2008  1810366\n",
              "2    Cairo  Total Water consumed, Water Companies  ...  2009  1275457\n",
              "3    Cairo  Total Water consumed, Water Companies  ...  2010  1736310\n",
              "4    Cairo  Total Water consumed, Water Companies  ...  2011  1743894\n",
              "\n",
              "[5 rows x 5 columns]"
            ]
          },
          "metadata": {},
          "execution_count": 78
        }
      ]
    },
    {
      "cell_type": "code",
      "metadata": {
        "colab": {
          "base_uri": "https://localhost:8080/"
        },
        "id": "ojC8a1UwFePb",
        "outputId": "599328ce-a54b-4ff0-dff2-2a9a498ce9a4"
      },
      "source": [
        "data.duplicated().any()"
      ],
      "execution_count": 79,
      "outputs": [
        {
          "output_type": "execute_result",
          "data": {
            "text/plain": [
              "False"
            ]
          },
          "metadata": {},
          "execution_count": 79
        }
      ]
    },
    {
      "cell_type": "code",
      "metadata": {
        "colab": {
          "base_uri": "https://localhost:8080/"
        },
        "id": "SXezb50_GTib",
        "outputId": "9fcdf9e7-21c6-45dd-efe9-62e56a60c0fa"
      },
      "source": [
        "data.isna().sum()"
      ],
      "execution_count": 80,
      "outputs": [
        {
          "output_type": "execute_result",
          "data": {
            "text/plain": [
              "location    0\n",
              "variable    0\n",
              "Unit        0\n",
              "Date        0\n",
              "Value       0\n",
              "dtype: int64"
            ]
          },
          "metadata": {},
          "execution_count": 80
        }
      ]
    },
    {
      "cell_type": "code",
      "metadata": {
        "colab": {
          "base_uri": "https://localhost:8080/"
        },
        "id": "Ax4Y9WU-Enxr",
        "outputId": "d76ddabb-31d4-4495-d6ad-cfd7124ea7ff"
      },
      "source": [
        "data.info()\n"
      ],
      "execution_count": 81,
      "outputs": [
        {
          "output_type": "stream",
          "name": "stdout",
          "text": [
            "<class 'pandas.core.frame.DataFrame'>\n",
            "RangeIndex: 726 entries, 0 to 725\n",
            "Data columns (total 5 columns):\n",
            " #   Column    Non-Null Count  Dtype \n",
            "---  ------    --------------  ----- \n",
            " 0   location  726 non-null    object\n",
            " 1   variable  726 non-null    object\n",
            " 2   Unit      726 non-null    object\n",
            " 3   Date      726 non-null    int64 \n",
            " 4   Value     726 non-null    int64 \n",
            "dtypes: int64(2), object(3)\n",
            "memory usage: 28.5+ KB\n"
          ]
        }
      ]
    },
    {
      "cell_type": "code",
      "metadata": {
        "colab": {
          "base_uri": "https://localhost:8080/"
        },
        "id": "Fq609ddFFjx0",
        "outputId": "d2a3720c-d777-4c0b-e158-792197f1ba5c"
      },
      "source": [
        "data.nunique()"
      ],
      "execution_count": 82,
      "outputs": [
        {
          "output_type": "execute_result",
          "data": {
            "text/plain": [
              "location      9\n",
              "variable     33\n",
              "Unit          1\n",
              "Date          7\n",
              "Value       692\n",
              "dtype: int64"
            ]
          },
          "metadata": {},
          "execution_count": 82
        }
      ]
    },
    {
      "cell_type": "code",
      "metadata": {
        "colab": {
          "base_uri": "https://localhost:8080/"
        },
        "id": "H_eLuJI7Fjz1",
        "outputId": "1a8426e2-db7e-49cd-e3ce-371f6717d64c"
      },
      "source": [
        "data['variable'].value_counts()"
      ],
      "execution_count": 83,
      "outputs": [
        {
          "output_type": "execute_result",
          "data": {
            "text/plain": [
              "Loss networks, Water Companies                     52\n",
              "Government agencies, Water Companies               52\n",
              "Housing units, Water Companies                     52\n",
              "Total water produced, Water Companies              52\n",
              "Shops, Water Companies                             52\n",
              "Workshops and factories, Small, Water Companies    52\n",
              "Manufacturing Plants, Large, Water Companies       52\n",
              "Other (Non-residential units), Water Companies     52\n",
              "Number of subscriptions, Water Companies           52\n",
              "Investment Companies Places, Water Companies       52\n",
              "Total Water consumed, Water Companies              52\n",
              "Loss networks, New Cities                           9\n",
              "Other (Non-residential units), New Cities           9\n",
              "Number of subscriptions, New Cities                 9\n",
              "Total Water consumed, New Cities                    9\n",
              "Housing units, New Cities                           9\n",
              "Shops, New Cities                                   9\n",
              "Government agencies, New Cities                     9\n",
              "Manufacturing Plants, Large, New Cities             9\n",
              "Investment Companies Places, New Cities             9\n",
              "Workshops and factories, Small, New Cities          9\n",
              "Total water produced, New Cities                    9\n",
              "Total Water consumed, City Councils                 5\n",
              "Manufacturing Plants, Large, City Councils          5\n",
              "Total water produced, City Councils                 5\n",
              "Loss networks, City Councils                        5\n",
              "Other (Non-residential units), City Councils        5\n",
              "Investment Companies Places, City Councils          5\n",
              "Shops, City Councils                                5\n",
              "Workshops and factories, Small, City Councils       5\n",
              "Number of subscriptions, City Councils              5\n",
              "Government agencies, City Councils                  5\n",
              "Housing units, City Councils                        5\n",
              "Name: variable, dtype: int64"
            ]
          },
          "metadata": {},
          "execution_count": 83
        }
      ]
    },
    {
      "cell_type": "code",
      "metadata": {
        "colab": {
          "base_uri": "https://localhost:8080/"
        },
        "id": "1nR1Lra5Fj2G",
        "outputId": "ac944cb4-6c78-4da4-b5a8-442bdf2aba7c"
      },
      "source": [
        "data['Date'].describe()"
      ],
      "execution_count": 84,
      "outputs": [
        {
          "output_type": "execute_result",
          "data": {
            "text/plain": [
              "count     726.000000\n",
              "mean     2009.636364\n",
              "std         2.043661\n",
              "min      2007.000000\n",
              "25%      2008.000000\n",
              "50%      2009.000000\n",
              "75%      2011.000000\n",
              "max      2013.000000\n",
              "Name: Date, dtype: float64"
            ]
          },
          "metadata": {},
          "execution_count": 84
        }
      ]
    },
    {
      "cell_type": "code",
      "metadata": {
        "colab": {
          "base_uri": "https://localhost:8080/",
          "height": 877
        },
        "id": "0SpjiWv-KP1t",
        "outputId": "d78b46af-d0cc-420b-8d32-831e4a9bc5df"
      },
      "source": [
        "plt.figure(figsize = (20,15))\n",
        "fig = sns.lineplot(x = 'Date', y = 'Value', data = data)\n",
        "plt.show()\n"
      ],
      "execution_count": 105,
      "outputs": [
        {
          "output_type": "display_data",
          "data": {
            "image/png": "[encoded data removed]",
            "text/plain": [
              "<Figure size 1440x1080 with 1 Axes>"
            ]
          },
          "metadata": {
            "needs_background": "light"
          }
        }
      ]
    },
    {
      "cell_type": "code",
      "metadata": {
        "id": "lnmcHrXdOuVR"
      },
      "source": [
        ""
      ],
      "execution_count": null,
      "outputs": []
    }
  ]
}
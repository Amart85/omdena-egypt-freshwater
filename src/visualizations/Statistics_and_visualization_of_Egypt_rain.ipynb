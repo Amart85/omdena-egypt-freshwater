{
 "cells": [
  {
   "cell_type": "code",
   "execution_count": 2,
   "id": "61d789d6",
   "metadata": {
    "ExecuteTime": {
     "end_time": "2021-08-19T14:13:23.557789Z",
     "start_time": "2021-08-19T14:13:22.015829Z"
    }
   },
   "outputs": [],
   "source": [
    "import pandas as pd \n",
    "import numpy as np\n",
    "import matplotlib.pyplot as plt\n",
    "import seaborn as sns\n",
    "\n",
    "%matplotlib inline"
   ]
  },
  {
   "cell_type": "code",
   "execution_count": 3,
   "id": "cfe051d0",
   "metadata": {
    "ExecuteTime": {
     "end_time": "2021-08-19T14:13:23.586790Z",
     "start_time": "2021-08-19T14:13:23.577791Z"
    }
   },
   "outputs": [],
   "source": [
    "df = pd.read_csv('../data/rain-temp.csv')"
   ]
  },
  {
   "cell_type": "code",
   "execution_count": 4,
   "id": "842786df",
   "metadata": {
    "ExecuteTime": {
     "end_time": "2021-08-19T14:13:23.651789Z",
     "start_time": "2021-08-19T14:13:23.627789Z"
    }
   },
   "outputs": [
    {
     "data": {
      "text/html": [
       "<div>\n",
       "<style scoped>\n",
       "    .dataframe tbody tr th:only-of-type {\n",
       "        vertical-align: middle;\n",
       "    }\n",
       "\n",
       "    .dataframe tbody tr th {\n",
       "        vertical-align: top;\n",
       "    }\n",
       "\n",
       "    .dataframe thead th {\n",
       "        text-align: right;\n",
       "    }\n",
       "</style>\n",
       "<table border=\"1\" class=\"dataframe\">\n",
       "  <thead>\n",
       "    <tr style=\"text-align: right;\">\n",
       "      <th></th>\n",
       "      <th>Year</th>\n",
       "      <th>Country</th>\n",
       "      <th>Statistics</th>\n",
       "      <th>Rainfall(MM)</th>\n",
       "      <th>Temperature(C)</th>\n",
       "      <th>MinTemp(C)</th>\n",
       "      <th>MaxTemp(C)</th>\n",
       "    </tr>\n",
       "  </thead>\n",
       "  <tbody>\n",
       "    <tr>\n",
       "      <th>0</th>\n",
       "      <td>1991</td>\n",
       "      <td>Egypt</td>\n",
       "      <td>Jan Average</td>\n",
       "      <td>6.1</td>\n",
       "      <td>13.1</td>\n",
       "      <td>6.0</td>\n",
       "      <td>20.1</td>\n",
       "    </tr>\n",
       "    <tr>\n",
       "      <th>1</th>\n",
       "      <td>1991</td>\n",
       "      <td>Egypt</td>\n",
       "      <td>Feb Average</td>\n",
       "      <td>4.2</td>\n",
       "      <td>15.2</td>\n",
       "      <td>7.6</td>\n",
       "      <td>22.9</td>\n",
       "    </tr>\n",
       "    <tr>\n",
       "      <th>2</th>\n",
       "      <td>1991</td>\n",
       "      <td>Egypt</td>\n",
       "      <td>Mar Average</td>\n",
       "      <td>8.8</td>\n",
       "      <td>19.1</td>\n",
       "      <td>11.4</td>\n",
       "      <td>26.8</td>\n",
       "    </tr>\n",
       "    <tr>\n",
       "      <th>3</th>\n",
       "      <td>1991</td>\n",
       "      <td>Egypt</td>\n",
       "      <td>Apr Average</td>\n",
       "      <td>3.3</td>\n",
       "      <td>24.2</td>\n",
       "      <td>16.1</td>\n",
       "      <td>32.3</td>\n",
       "    </tr>\n",
       "    <tr>\n",
       "      <th>4</th>\n",
       "      <td>1991</td>\n",
       "      <td>Egypt</td>\n",
       "      <td>May Average</td>\n",
       "      <td>1.5</td>\n",
       "      <td>26.7</td>\n",
       "      <td>19.2</td>\n",
       "      <td>34.3</td>\n",
       "    </tr>\n",
       "  </tbody>\n",
       "</table>\n",
       "</div>"
      ],
      "text/plain": [
       "   Year Country    Statistics  Rainfall(MM)  Temperature(C)  MinTemp(C)  \\\n",
       "0  1991   Egypt   Jan Average           6.1            13.1         6.0   \n",
       "1  1991   Egypt   Feb Average           4.2            15.2         7.6   \n",
       "2  1991   Egypt   Mar Average           8.8            19.1        11.4   \n",
       "3  1991   Egypt   Apr Average           3.3            24.2        16.1   \n",
       "4  1991   Egypt   May Average           1.5            26.7        19.2   \n",
       "\n",
       "   MaxTemp(C)  \n",
       "0        20.1  \n",
       "1        22.9  \n",
       "2        26.8  \n",
       "3        32.3  \n",
       "4        34.3  "
      ]
     },
     "execution_count": 4,
     "metadata": {},
     "output_type": "execute_result"
    }
   ],
   "source": [
    "df.head()"
   ]
  },
  {
   "cell_type": "code",
   "execution_count": 5,
   "id": "1715b8e8",
   "metadata": {
    "ExecuteTime": {
     "end_time": "2021-08-19T14:13:23.701790Z",
     "start_time": "2021-08-19T14:13:23.696790Z"
    }
   },
   "outputs": [],
   "source": [
    "year = df[df['Year'] >= 2015].groupby('Year')"
   ]
  },
  {
   "cell_type": "code",
   "execution_count": 6,
   "id": "f96f9873",
   "metadata": {
    "ExecuteTime": {
     "end_time": "2021-08-19T14:13:23.769790Z",
     "start_time": "2021-08-19T14:13:23.741790Z"
    }
   },
   "outputs": [
    {
     "data": {
      "text/html": [
       "<div>\n",
       "<style scoped>\n",
       "    .dataframe tbody tr th:only-of-type {\n",
       "        vertical-align: middle;\n",
       "    }\n",
       "\n",
       "    .dataframe tbody tr th {\n",
       "        vertical-align: top;\n",
       "    }\n",
       "\n",
       "    .dataframe thead th {\n",
       "        text-align: right;\n",
       "    }\n",
       "</style>\n",
       "<table border=\"1\" class=\"dataframe\">\n",
       "  <thead>\n",
       "    <tr style=\"text-align: right;\">\n",
       "      <th></th>\n",
       "      <th>Country</th>\n",
       "      <th>Statistics</th>\n",
       "      <th>Rainfall(MM)</th>\n",
       "      <th>Temperature(C)</th>\n",
       "      <th>MinTemp(C)</th>\n",
       "      <th>MaxTemp(C)</th>\n",
       "    </tr>\n",
       "    <tr>\n",
       "      <th>Year</th>\n",
       "      <th></th>\n",
       "      <th></th>\n",
       "      <th></th>\n",
       "      <th></th>\n",
       "      <th></th>\n",
       "      <th></th>\n",
       "    </tr>\n",
       "  </thead>\n",
       "  <tbody>\n",
       "    <tr>\n",
       "      <th>2018</th>\n",
       "      <td>Egypt</td>\n",
       "      <td>Sep Average</td>\n",
       "      <td>13.7</td>\n",
       "      <td>31.1</td>\n",
       "      <td>23.9</td>\n",
       "      <td>39.0</td>\n",
       "    </tr>\n",
       "    <tr>\n",
       "      <th>2019</th>\n",
       "      <td>Egypt</td>\n",
       "      <td>Sep Average</td>\n",
       "      <td>7.9</td>\n",
       "      <td>31.2</td>\n",
       "      <td>24.2</td>\n",
       "      <td>39.0</td>\n",
       "    </tr>\n",
       "    <tr>\n",
       "      <th>2020</th>\n",
       "      <td>Egypt</td>\n",
       "      <td>Sep Average</td>\n",
       "      <td>7.8</td>\n",
       "      <td>30.9</td>\n",
       "      <td>23.7</td>\n",
       "      <td>38.2</td>\n",
       "    </tr>\n",
       "    <tr>\n",
       "      <th>2016</th>\n",
       "      <td>Egypt</td>\n",
       "      <td>Sep Average</td>\n",
       "      <td>5.2</td>\n",
       "      <td>31.4</td>\n",
       "      <td>23.7</td>\n",
       "      <td>39.2</td>\n",
       "    </tr>\n",
       "    <tr>\n",
       "      <th>2015</th>\n",
       "      <td>Egypt</td>\n",
       "      <td>Sep Average</td>\n",
       "      <td>4.2</td>\n",
       "      <td>31.4</td>\n",
       "      <td>24.1</td>\n",
       "      <td>38.8</td>\n",
       "    </tr>\n",
       "    <tr>\n",
       "      <th>2017</th>\n",
       "      <td>Egypt</td>\n",
       "      <td>Sep Average</td>\n",
       "      <td>3.0</td>\n",
       "      <td>31.3</td>\n",
       "      <td>24.2</td>\n",
       "      <td>38.7</td>\n",
       "    </tr>\n",
       "  </tbody>\n",
       "</table>\n",
       "</div>"
      ],
      "text/plain": [
       "     Country    Statistics  Rainfall(MM)  Temperature(C)  MinTemp(C)  \\\n",
       "Year                                                                   \n",
       "2018   Egypt   Sep Average          13.7            31.1        23.9   \n",
       "2019   Egypt   Sep Average           7.9            31.2        24.2   \n",
       "2020   Egypt   Sep Average           7.8            30.9        23.7   \n",
       "2016   Egypt   Sep Average           5.2            31.4        23.7   \n",
       "2015   Egypt   Sep Average           4.2            31.4        24.1   \n",
       "2017   Egypt   Sep Average           3.0            31.3        24.2   \n",
       "\n",
       "      MaxTemp(C)  \n",
       "Year              \n",
       "2018        39.0  \n",
       "2019        39.0  \n",
       "2020        38.2  \n",
       "2016        39.2  \n",
       "2015        38.8  \n",
       "2017        38.7  "
      ]
     },
     "execution_count": 6,
     "metadata": {},
     "output_type": "execute_result"
    }
   ],
   "source": [
    "max_rain_volume = year.max().sort_values(by='Rainfall(MM)', ascending=False)\n",
    "max_rain_volume"
   ]
  },
  {
   "cell_type": "code",
   "execution_count": 7,
   "id": "34c68023",
   "metadata": {
    "ExecuteTime": {
     "end_time": "2021-08-19T14:13:23.845789Z",
     "start_time": "2021-08-19T14:13:23.821789Z"
    }
   },
   "outputs": [
    {
     "data": {
      "text/html": [
       "<div>\n",
       "<style scoped>\n",
       "    .dataframe tbody tr th:only-of-type {\n",
       "        vertical-align: middle;\n",
       "    }\n",
       "\n",
       "    .dataframe tbody tr th {\n",
       "        vertical-align: top;\n",
       "    }\n",
       "\n",
       "    .dataframe thead th {\n",
       "        text-align: right;\n",
       "    }\n",
       "</style>\n",
       "<table border=\"1\" class=\"dataframe\">\n",
       "  <thead>\n",
       "    <tr style=\"text-align: right;\">\n",
       "      <th></th>\n",
       "      <th>Country</th>\n",
       "      <th>Statistics</th>\n",
       "      <th>Rainfall(MM)</th>\n",
       "      <th>Temperature(C)</th>\n",
       "      <th>MinTemp(C)</th>\n",
       "      <th>MaxTemp(C)</th>\n",
       "    </tr>\n",
       "    <tr>\n",
       "      <th>Year</th>\n",
       "      <th></th>\n",
       "      <th></th>\n",
       "      <th></th>\n",
       "      <th></th>\n",
       "      <th></th>\n",
       "      <th></th>\n",
       "    </tr>\n",
       "  </thead>\n",
       "  <tbody>\n",
       "    <tr>\n",
       "      <th>2017</th>\n",
       "      <td>Egypt</td>\n",
       "      <td>Apr Average</td>\n",
       "      <td>1.0</td>\n",
       "      <td>13.2</td>\n",
       "      <td>6.3</td>\n",
       "      <td>20.2</td>\n",
       "    </tr>\n",
       "    <tr>\n",
       "      <th>2019</th>\n",
       "      <td>Egypt</td>\n",
       "      <td>Apr Average</td>\n",
       "      <td>1.0</td>\n",
       "      <td>12.9</td>\n",
       "      <td>5.9</td>\n",
       "      <td>19.9</td>\n",
       "    </tr>\n",
       "    <tr>\n",
       "      <th>2016</th>\n",
       "      <td>Egypt</td>\n",
       "      <td>Apr Average</td>\n",
       "      <td>1.4</td>\n",
       "      <td>13.1</td>\n",
       "      <td>6.2</td>\n",
       "      <td>20.0</td>\n",
       "    </tr>\n",
       "    <tr>\n",
       "      <th>2018</th>\n",
       "      <td>Egypt</td>\n",
       "      <td>Apr Average</td>\n",
       "      <td>1.4</td>\n",
       "      <td>13.9</td>\n",
       "      <td>6.9</td>\n",
       "      <td>20.9</td>\n",
       "    </tr>\n",
       "    <tr>\n",
       "      <th>2020</th>\n",
       "      <td>Egypt</td>\n",
       "      <td>Apr Average</td>\n",
       "      <td>1.4</td>\n",
       "      <td>12.6</td>\n",
       "      <td>5.8</td>\n",
       "      <td>19.5</td>\n",
       "    </tr>\n",
       "    <tr>\n",
       "      <th>2015</th>\n",
       "      <td>Egypt</td>\n",
       "      <td>Apr Average</td>\n",
       "      <td>1.6</td>\n",
       "      <td>13.3</td>\n",
       "      <td>6.4</td>\n",
       "      <td>20.3</td>\n",
       "    </tr>\n",
       "  </tbody>\n",
       "</table>\n",
       "</div>"
      ],
      "text/plain": [
       "     Country    Statistics  Rainfall(MM)  Temperature(C)  MinTemp(C)  \\\n",
       "Year                                                                   \n",
       "2017   Egypt   Apr Average           1.0            13.2         6.3   \n",
       "2019   Egypt   Apr Average           1.0            12.9         5.9   \n",
       "2016   Egypt   Apr Average           1.4            13.1         6.2   \n",
       "2018   Egypt   Apr Average           1.4            13.9         6.9   \n",
       "2020   Egypt   Apr Average           1.4            12.6         5.8   \n",
       "2015   Egypt   Apr Average           1.6            13.3         6.4   \n",
       "\n",
       "      MaxTemp(C)  \n",
       "Year              \n",
       "2017        20.2  \n",
       "2019        19.9  \n",
       "2016        20.0  \n",
       "2018        20.9  \n",
       "2020        19.5  \n",
       "2015        20.3  "
      ]
     },
     "execution_count": 7,
     "metadata": {},
     "output_type": "execute_result"
    }
   ],
   "source": [
    "min_rain_volume = year.min().sort_values(by='Rainfall(MM)')\n",
    "min_rain_volume"
   ]
  },
  {
   "cell_type": "markdown",
   "id": "948fa489",
   "metadata": {
    "ExecuteTime": {
     "end_time": "2021-08-19T13:06:55.592417Z",
     "start_time": "2021-08-19T13:06:55.282440Z"
    }
   },
   "source": [
    "* As we can see above September always have the average highest rainfall, while April is the minimum"
   ]
  },
  {
   "cell_type": "code",
   "execution_count": 8,
   "id": "8fdc5d76",
   "metadata": {
    "ExecuteTime": {
     "end_time": "2021-08-19T14:13:24.531790Z",
     "start_time": "2021-08-19T14:13:23.908789Z"
    }
   },
   "outputs": [
    {
     "data": {
      "image/png": "[encoded data removed]",
      "text/plain": [
       "<Figure size 432x288 with 1 Axes>"
      ]
     },
     "metadata": {
      "needs_background": "light"
     },
     "output_type": "display_data"
    }
   ],
   "source": [
    "#someone plz update the graph with proper ticks for y axis\n",
    "\n",
    "\n",
    "mask = df.query(\"Year >= 2015\")\n",
    "#plt.yticks(ticks=mask['Rainfall(MM)'], labels= mask['Rainfall(MM)'])\n",
    "sns.barplot(data=mask,  x='Year', y = 'Rainfall(MM)');"
   ]
  },
  {
   "cell_type": "code",
   "execution_count": null,
   "id": "a623498f",
   "metadata": {},
   "outputs": [],
   "source": []
  },
  {
   "cell_type": "code",
   "execution_count": null,
   "id": "dd8d3c24",
   "metadata": {},
   "outputs": [],
   "source": []
  },
  {
   "cell_type": "code",
   "execution_count": null,
   "id": "504d8603",
   "metadata": {},
   "outputs": [],
   "source": []
  }
 ],
 "metadata": {
  "kernelspec": {
   "display_name": "Python 3",
   "language": "python",
   "name": "python3"
  },
  "language_info": {
   "codemirror_mode": {
    "name": "ipython",
    "version": 3
   },
   "file_extension": ".py",
   "mimetype": "text/x-python",
   "name": "python",
   "nbconvert_exporter": "python",
   "pygments_lexer": "ipython3",
   "version": "3.8.11"
  },
  "toc": {
   "base_numbering": 1,
   "nav_menu": {},
   "number_sections": true,
   "sideBar": true,
   "skip_h1_title": false,
   "title_cell": "Table of Contents",
   "title_sidebar": "Contents",
   "toc_cell": false,
   "toc_position": {},
   "toc_section_display": true,
   "toc_window_display": false
  },
  "varInspector": {
   "cols": {
    "lenName": 16,
    "lenType": 16,
    "lenVar": 40
   },
   "kernels_config": {
    "python": {
     "delete_cmd_postfix": "",
     "delete_cmd_prefix": "del ",
     "library": "var_list.py",
     "varRefreshCmd": "print(var_dic_list())"
    },
    "r": {
     "delete_cmd_postfix": ") ",
     "delete_cmd_prefix": "rm(",
     "library": "var_list.r",
     "varRefreshCmd": "cat(var_dic_list()) "
    }
   },
   "types_to_exclude": [
    "module",
    "function",
    "builtin_function_or_method",
    "instance",
    "_Feature"
   ],
   "window_display": false
  }
 },
 "nbformat": 4,
 "nbformat_minor": 5
}
